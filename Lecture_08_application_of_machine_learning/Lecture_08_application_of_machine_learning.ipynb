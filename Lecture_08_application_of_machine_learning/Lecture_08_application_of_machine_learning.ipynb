{
  "nbformat": 4,
  "nbformat_minor": 0,
  "metadata": {
    "colab": {
      "provenance": []
    },
    "kernelspec": {
      "name": "python3",
      "display_name": "Python 3"
    },
    "language_info": {
      "name": "python"
    }
  },
  "cells": [
    {
      "cell_type": "markdown",
      "source": [
        "# 📘 Applications of Machine Learning – Real Life Use Cases (Practical & Easy Guide)"
      ],
      "metadata": {
        "id": "etzIxa41OkEs"
      }
    },
    {
      "cell_type": "markdown",
      "source": [
        "# ✅ Why Learn This?\n",
        "\n",
        "\n",
        "---\n",
        "\n",
        "\n",
        "\n",
        "Machine Learning (ML) is all around us — powering apps, decisions, and systems.\n",
        "Once you recognize these real-world applications, ML will feel more relevant, useful, and easier to remember."
      ],
      "metadata": {
        "id": "2tL6tC5zOkCR"
      }
    },
    {
      "cell_type": "markdown",
      "source": [
        "# 🔷 Top Real-Life Applications of Machine Learning\n",
        "\n",
        "\n",
        "---\n",
        "\n",
        "\n",
        "## Each one comes with:\n",
        "\n",
        "What it does\n",
        "\n",
        "How it uses ML\n",
        "\n",
        "Real-world daily example"
      ],
      "metadata": {
        "id": "OY7vRxQ0Oj_Z"
      }
    },
    {
      "cell_type": "markdown",
      "source": [
        "# 🔶 1. Email Spam Detection\n",
        "\n",
        "\n",
        "---\n",
        "\n",
        "\n",
        "\n",
        "## 📌 What it does:\n",
        "\n",
        " Automatically detects and filters spam emails.\n",
        "\n",
        "## 💡 How ML works:\n",
        "\n",
        "Trained on examples of spam and non-spam emails using keywords, patterns, and sender info.\n",
        "\n",
        "## 🧠 Example:\n",
        "\n",
        "You get a mail titled “You won $1 million!” — it goes straight to Spam.\n",
        "That’s ML in action 📩"
      ],
      "metadata": {
        "id": "EGibYgkuOj87"
      }
    },
    {
      "cell_type": "markdown",
      "source": [
        "# 🔶 2. Product Recommendations\n",
        "\n",
        "\n",
        "---\n",
        "\n",
        "\n",
        "\n",
        "## 📌 What it does:\n",
        "\n",
        " Suggests what you might like to buy, watch, or read.\n",
        "\n",
        "## 💡 How ML works:\n",
        "\n",
        "Learns your past behavior + behavior of others like you → predicts what you might like next.\n",
        "\n",
        "## 🧠 Example:\n",
        "\n",
        "You search for a backpack on Amazon → ML starts recommending hiking shoes, tents, water bottles. 🎒"
      ],
      "metadata": {
        "id": "Q8-6WLKzOj4A"
      }
    },
    {
      "cell_type": "markdown",
      "source": [
        "## 🔶 3. Voice Assistants\n",
        "\n",
        "\n",
        "---\n",
        "\n",
        "\n",
        "## 📌 What it does:\n",
        "\n",
        " Understands your voice, gives smart replies.\n",
        "\n",
        "## 💡 How ML works:\n",
        "\n",
        "Speech recognition + natural language understanding + response generation.\n",
        "\n",
        "## 🧠 Example:\n",
        "\n",
        "You say “Hey Google, set an alarm at 7 AM.”\n",
        "Google uses ML to recognize your voice, understand your sentence, and set the alarm ⏰"
      ],
      "metadata": {
        "id": "e5P0g9kPOj1b"
      }
    },
    {
      "cell_type": "markdown",
      "source": [
        "# 🔶 4. Face Recognition\n",
        "\n",
        "\n",
        "---\n",
        "\n",
        "\n",
        "## 📌 What it does:\n",
        "\n",
        "Identifies or verifies people from their face.\n",
        "\n",
        "## 💡 How ML works:\n",
        "\n",
        "Learns features (eyes, nose, jaw, etc.) from thousands of faces.\n",
        "\n",
        "## 🧠 Example:\n",
        "\n",
        "Unlocking your phone with Face ID or Facebook tagging your face in a photo. 📸"
      ],
      "metadata": {
        "id": "zNTTZ8r7OjzC"
      }
    },
    {
      "cell_type": "markdown",
      "source": [
        "# 🔶 5. Fraud Detection\n",
        "\n",
        "\n",
        "---\n",
        "\n",
        "\n",
        "## 📌 What it does:\n",
        "\n",
        "Flags suspicious activities in finance.\n",
        "\n",
        "## 💡 How ML works:\n",
        "\n",
        "Learns normal transaction patterns → detects unusual ones (like a sudden high-value payment from a new location).\n",
        "\n",
        "## 🧠 Example:\n",
        "\n",
        "You travel abroad and your credit card stops working until verified.\n",
        "\n",
        "That’s ML protecting your money 💳"
      ],
      "metadata": {
        "id": "xK7aDAWeQkSt"
      }
    },
    {
      "cell_type": "markdown",
      "source": [
        "# 🔶 6. Navigation & Maps (Google Maps, Uber)\n",
        "\n",
        "\n",
        "---\n",
        "\n",
        "\n",
        "\n",
        "## 📌 What it does:\n",
        "\n",
        " Predicts traffic, shortest path, and ride prices.\n",
        "\n",
        "## 💡 How ML works:\n",
        "\n",
        "Learns from real-time GPS data, road closures, user reports.\n",
        "\n",
        "## 🧠 Example:\n",
        "\n",
        "Maps tell you: “Take left in 500m — you’ll reach 5 minutes faster!”\n",
        "That’s ML saving your time 🚗"
      ],
      "metadata": {
        "id": "F1NGCgUpOjwq"
      }
    },
    {
      "cell_type": "markdown",
      "source": [
        "# 🔶 7. Online Customer Support (Chatbots)\n",
        "\n",
        "\n",
        "---\n",
        "\n",
        "\n",
        "\n",
        "# 📌 What it does:\n",
        "\n",
        " Answers your questions via chat, without humans.\n",
        "\n",
        "# 💡 How ML works:\n",
        "\n",
        "Trained on common queries and replies. Learns to improve responses over time.\n",
        "\n",
        "# 🧠 Example:\n",
        "\n",
        "You ask a chatbot, “How to return my order?” — it gives you steps instantly. 🤖"
      ],
      "metadata": {
        "id": "nTpQRmRXOjuJ"
      }
    },
    {
      "cell_type": "markdown",
      "source": [
        "# 🔶 8. Healthcare & Medical Diagnosis\n",
        "\n",
        "\n",
        "---\n",
        "\n",
        "\n",
        "\n",
        "## 📌 What it does:\n",
        "\n",
        "Detects diseases, predicts health risks.\n",
        "\n",
        "## 💡 How ML works:\n",
        "\n",
        "Trained on patient data, images, lab reports to spot signs of illness early.\n",
        "\n",
        "## 🧠 Example:\n",
        "\n",
        "ML helps doctors detect cancer in X-rays faster and more accurately than before. 🏥"
      ],
      "metadata": {
        "id": "KUN3DqgkOjsA"
      }
    },
    {
      "cell_type": "markdown",
      "source": [
        "# 🔶 9. Social Media Feed Personalization\n",
        "\n",
        "\n",
        "---\n",
        "\n",
        "\n",
        "\n",
        "## 📌 What it does:\n",
        "\n",
        " Shows content based on your interests.\n",
        "\n",
        "## 💡 How ML works:\n",
        "\n",
        "Learns what you like, comment, or share — tailors your feed accordingly.\n",
        "\n",
        "## 🧠 Example:\n",
        "\n",
        "You watch one cat video → your whole feed becomes cats! 🐱\n",
        "That’s ML making you scroll endlessly."
      ],
      "metadata": {
        "id": "wEmt5KaoOjpJ"
      }
    },
    {
      "cell_type": "markdown",
      "source": [
        "# 🔶 11. Language Translation (Google Translate)\n",
        "\n",
        "\n",
        "---\n",
        "\n",
        "\n",
        "\n",
        "## 📌 What it does:\n",
        "\n",
        " Translates one language into another instantly.\n",
        "\n",
        "## 💡 How ML works:\n",
        "\n",
        "Uses sequence-to-sequence deep learning models trained on millions of sentence pairs.\n",
        "\n",
        "## 🧠 Example:\n",
        "\n",
        "You say “Hello” in English → ML translates it to ہیلو in Urdu. 🌍"
      ],
      "metadata": {
        "id": "RBsCF5NLTBHJ"
      }
    },
    {
      "cell_type": "markdown",
      "source": [
        "# 🔶 12. Stock Price Prediction & Algo Trading\n",
        "\n",
        "\n",
        "---\n",
        "\n",
        "\n",
        "\n",
        "## 📌 What it does:\n",
        "\n",
        " Predicts stock movements, executes trades.\n",
        "\n",
        "## 💡 How ML works:\n",
        "\n",
        "Analyzes historical market data, patterns, and news to forecast prices.\n",
        "\n",
        "## 🧠 Example:\n",
        "\n",
        "Trading bots buying/selling shares based on ML decisions in milliseconds. 📈"
      ],
      "metadata": {
        "id": "Ot9S1WX2OjhI"
      }
    },
    {
      "cell_type": "markdown",
      "source": [
        "# 🔶 13. Autocorrect & Grammar Check\n",
        "\n",
        "\n",
        "---\n",
        "\n",
        "\n",
        "\n",
        "## 📌 What it does:\n",
        "\n",
        " Corrects spelling/grammar while typing.\n",
        "\n",
        "## 💡 How ML works:\n",
        "\n",
        "Learns language patterns, detects common mistakes, and suggests corrections.\n",
        "\n",
        "## 🧠 Example:\n",
        "\n",
        "You type “recieve” → it changes to “receive” automatically. ✍️"
      ],
      "metadata": {
        "id": "V6dNpKB3OjWr"
      }
    },
    {
      "cell_type": "markdown",
      "source": [
        "# 🔶 14. Entertainment & Music Apps\n",
        "\n",
        "\n",
        "---\n",
        "\n",
        "\n",
        "\n",
        "## 📌 What it does:\n",
        "\n",
        "Recommends what to watch or listen.\n",
        "\n",
        "## 💡 How ML works:\n",
        "\n",
        "Learns from your history and mood to suggest content.\n",
        "\n",
        "## 🧠 Example:\n",
        "\n",
        "Netflix says, “Top Picks for You” or Spotify creates a “Daily Mix” just for you 🎶"
      ],
      "metadata": {
        "id": "23070BKxOhzS"
      }
    },
    {
      "cell_type": "markdown",
      "source": [
        "# 🧱 Summary Table – Visual Review"
      ],
      "metadata": {
        "id": "rpv168MdVLyJ"
      }
    },
    {
      "cell_type": "markdown",
      "source": [
        "![Application of machine learning.png](data:image/png;base64,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)"
      ],
      "metadata": {
        "id": "1k_uZvSqVPuS"
      }
    },
    {
      "cell_type": "markdown",
      "source": [
        "# 🧠 Final Memory Tip\n",
        "\n",
        "\n",
        "---\n",
        "\n",
        "\n",
        "## Think of Machine Learning like a smart assistant:\n",
        "\n",
        "====> It learns from your behavior (like a friend).\n",
        "\n",
        "====> It improves with experience (like a student).\n",
        "\n",
        "====> It acts instantly in real-life apps (like a personal helper)."
      ],
      "metadata": {
        "id": "gAvaIX0dVTN5"
      }
    }
  ]
}