{
  "nbformat": 4,
  "nbformat_minor": 0,
  "metadata": {
    "colab": {
      "provenance": []
    },
    "kernelspec": {
      "name": "python3",
      "display_name": "Python 3"
    },
    "language_info": {
      "name": "python"
    }
  },
  "cells": [
    {
      "cell_type": "markdown",
      "source": [
        "# 📘 Challenges in Machine Learning"
      ],
      "metadata": {
        "id": "fo6c8EBdDPNL"
      }
    },
    {
      "cell_type": "markdown",
      "source": [
        "# 🔷 Why is this important?\n",
        "\n",
        "\n",
        "---\n",
        "\n",
        "\n",
        "\n",
        "Even though ML is powerful, there are real-world problems that make it hard to build good ML models.\n",
        "\n",
        "\n",
        "Let’s understand what those problems are and how they show up in daily life.\n"
      ],
      "metadata": {
        "id": "KFAb8UT7DPIR"
      }
    },
    {
      "cell_type": "markdown",
      "source": [
        "# ✅ Main Challenges in Machine Learning\n",
        "\n",
        "\n",
        "---\n",
        "\n",
        "\n",
        "Let’s explore the top challenges, with a simple explanation + real-life example for each."
      ],
      "metadata": {
        "id": "Mf9FceHvDeUG"
      }
    },
    {
      "cell_type": "markdown",
      "source": [
        "# 🔶 1. Insufficient Data /Unlabelled Data\n",
        "\n",
        "\n",
        "\n",
        "\n",
        "\n",
        "\n",
        "---\n",
        "\n",
        "\n",
        "# 📌 Problem:\n",
        "\n",
        "\n",
        "Machine learning needs lots of quality data. Without enough examples, it can't learn well.\n",
        "\n",
        "\n",
        "Like trying to learn driving after practicing only 1 hour. 🚗\n",
        "\n",
        "\n",
        "# 🧠 Example:\n",
        "\n",
        "\n",
        "A face recognition system fails because you only gave it 5 photos.\n",
        "\n",
        "\n",
        "# ❗ Why it's bad:\n",
        "\n",
        "\n",
        "Poor accuracy\n",
        "\n",
        "\n",
        "Can't generalize to new data\n"
      ],
      "metadata": {
        "id": "b3G3jrVrDPF1"
      }
    },
    {
      "cell_type": "markdown",
      "source": [
        "# 🔶 2. Poor Quality Data /irrelevant features\n",
        "\n",
        "\n",
        "\n",
        "# 📌 Problem:\n",
        "\n",
        "\n",
        "If the data has errors, missing values, or noise, the model will learn the wrong things.\n",
        "\n",
        "\n",
        "Garbage in ➜ Garbage out. 🗑️\n",
        "\n",
        "\n",
        "# 🧠 Example:\n",
        "\n",
        "\n",
        "A price prediction model learns from a dataset where some prices are wrong due to typos."
      ],
      "metadata": {
        "id": "4JWuaybbDPDh"
      }
    },
    {
      "cell_type": "markdown",
      "source": [
        "# 🔶 3. Overfitting\n",
        "\n",
        "\n",
        "---\n",
        "\n",
        "\n",
        "\n",
        "# 📌 Problem:\n",
        "\n",
        "Model learns the training data too well, including its noise. It performs great on old data but fails on new data.\n",
        "\n",
        "\n",
        "Like a student who memorized answers but can’t solve a different question. 📄\n",
        "\n",
        "\n",
        "# 🧠 Example:\n",
        "\n",
        "A model gets 99% on training data but only 50% on new test data."
      ],
      "metadata": {
        "id": "3UrhAFgnDPBK"
      }
    },
    {
      "cell_type": "markdown",
      "source": [
        "# 🔶 4. Underfitting\n",
        "\n",
        "\n",
        "\n",
        "---\n",
        "\n",
        "\n",
        "# 📌 Problem:\n",
        "\n",
        "Model is too simple to learn patterns in the data. It performs poorly on both training and test data.\n",
        "\n",
        "\n",
        "Like a student who didn’t study enough to understand the topic. 😴\n",
        "\n",
        "\n",
        "# 🧠 Example:\n",
        "\n",
        "\n",
        "Using a straight-line model for complex curved data."
      ],
      "metadata": {
        "id": "9yLEsipPG6kF"
      }
    },
    {
      "cell_type": "markdown",
      "source": [
        "# 🔶 5. Imbalanced Data\n",
        "\n",
        "\n",
        "---\n",
        "\n",
        "\n",
        "\n",
        "# 📌 Problem:\n",
        "\n",
        "Some classes (categories) have much more data than others. The model becomes biased.\n",
        "\n",
        "\n",
        "Like judging a class of 100 students where only 2 are left-handed — the model ignores the left-handed students.\n",
        "\n",
        "# 🧠 Example:\n",
        "\n",
        "\n",
        "Fraud detection model gets 99% accuracy because 99% transactions are normal — but it misses the rare frauds!"
      ],
      "metadata": {
        "id": "mBddrC9eDO8g"
      }
    },
    {
      "cell_type": "markdown",
      "source": [
        "# 🔶 6. Lack of Interpretability (Black Box)\n",
        "\n",
        "\n",
        "---\n",
        "\n",
        "\n",
        "# 📌 Problem:\n",
        "\n",
        "Some ML models (like neural networks) are hard to understand or explain. We don't know why they made a prediction.\n",
        "\n",
        "\n",
        "Like a doctor saying “Take this medicine” but can't explain why.\n",
        "\n",
        "\n",
        "# 🧠 Example:\n",
        "\n",
        "A loan model denies your loan, but the bank can't explain the reason."
      ],
      "metadata": {
        "id": "M6j4sGRODO6f"
      }
    },
    {
      "cell_type": "markdown",
      "source": [
        "# 🔶 7. Data Privacy and Security\n",
        "\n",
        "\n",
        "---\n",
        "\n",
        "\n",
        "\n",
        "# 📌 Problem:\n",
        "\n",
        "Using personal data (health, finance, etc.) raises privacy issues. Data leaks can be dangerous.\n",
        "\n",
        "\n",
        "Like using your friend’s messages to train a chatbot without asking.\n",
        "\n",
        "\n",
        "# 🧠 Example:\n",
        "\n",
        "A medical ML system gets trained on patient records without consent."
      ],
      "metadata": {
        "id": "Id8ejEuNDO35"
      }
    },
    {
      "cell_type": "markdown",
      "source": [
        "# 🔶 8. Changing Data (Concept Drift)\n",
        "\n",
        "\n",
        "---\n",
        "\n",
        "\n",
        "# 📌 Problem:\n",
        "\n",
        "\n",
        "The real world changes over time, but the model is trained on old data. So, it becomes outdated.\n",
        "\n",
        "\n",
        "Like learning to drive in summer and struggling during snow season.\n",
        "\n",
        "\n",
        "# 🧠 Example:\n",
        "\n",
        "A model trained before COVID-19 fails during/after pandemic due to new patterns in data."
      ],
      "metadata": {
        "id": "k1YuyiBsDO1c"
      }
    },
    {
      "cell_type": "markdown",
      "source": [
        "# 🔶 9. Computational Cost\n",
        "\n",
        "\n",
        "\n",
        "---\n",
        "\n",
        "\n",
        "# 📌 Problem:\n",
        "\n",
        "\n",
        "Some models need a lot of time, memory, and hardware (like GPUs). Not every system can handle it.\n",
        "\n",
        "\n",
        "Like trying to run a racing game on a 10-year-old laptop. 🖥️\n",
        "\n",
        "\n",
        "# 🧠 Example:\n",
        "\n",
        "Training a deep neural network takes 2 days on your regular laptop."
      ],
      "metadata": {
        "id": "UmC3gFEWDOyp"
      }
    },
    {
      "cell_type": "markdown",
      "source": [
        "# 🔶 10. Bias in Data or Algorithm\n",
        "\n",
        "\n",
        "---\n",
        "\n",
        "\n",
        "\n",
        "# 📌 Problem:\n",
        "\n",
        "If the data or algorithm has built-in bias, the model makes unfair decisions.\n",
        "\n",
        "\n",
        "Like teaching a kid only one side of a story, they grow up with a narrow mindset.\n",
        "\n",
        "\n",
        "# 🧠 Example:\n",
        "\n",
        "\n",
        "A hiring model that favors male resumes because training data had mostly male examples."
      ],
      "metadata": {
        "id": "9fl0UW0qDOv_"
      }
    },
    {
      "cell_type": "markdown",
      "source": [
        "# 11. 🔶Software integration\n",
        "\n",
        "# 📌 Problem:\n",
        "\n",
        " 📌 Models work well in notebooks (Jupyter), but fail when added into actual software systems.\n",
        "\n",
        "\n",
        "# 🧠 Example:\n",
        "\n",
        " You trained a great fraud model, but it crashes when you plug it into the bank’s real app."
      ],
      "metadata": {
        "id": "JhbcnCogMy2Z"
      }
    },
    {
      "cell_type": "markdown",
      "source": [
        "\n",
        "# 12.🔶Offline learning /Deployment\n",
        "\n",
        "\n",
        "---\n",
        "\n",
        "\n",
        "# 📌 Problem:\n",
        "\n",
        "📌 Most ML models are trained offline (batch mode).\n",
        "\n",
        "They don't automatically update in production unless you rebuild and redeploy.\n",
        "\n",
        "# 🧠 Example:\n",
        "\n",
        "A price prediction system trained last month still gives old predictions today."
      ],
      "metadata": {
        "id": "thTFhvQ8NzWO"
      }
    },
    {
      "cell_type": "markdown",
      "source": [
        "# 13.🔶Data Collection\n",
        "\n",
        "\n",
        "---\n",
        "\n",
        "# 📌 Problem:\n",
        "\n",
        "📌 Gathering enough relevant, clean, labeled data is tough.\n",
        "\n",
        "\n",
        "# 🧠 Example:\n",
        "\n",
        " Building a model to detect rare diseases when there’s very little patient data available."
      ],
      "metadata": {
        "id": "SqKLxh1oNy3E"
      }
    },
    {
      "cell_type": "markdown",
      "source": [
        "# 14.🔶 Non Representative Data\n",
        "\n",
        "\n",
        "---\n",
        "\n",
        "# 📌 Problem:\n",
        "\n",
        "📌 The data used for training doesn’t match the real-world situation.\n",
        "\n",
        "\n",
        "# 🧠 Example:\n",
        "\n",
        "You trained a speech assistant using American voices only. It fails with Indian accents."
      ],
      "metadata": {
        "id": "giPGZ6zhPTEP"
      }
    },
    {
      "cell_type": "markdown",
      "source": [
        "# 🧱 Summary Table – Visual Memory"
      ],
      "metadata": {
        "id": "VX6VlKglDOm7"
      }
    },
    {
      "cell_type": "markdown",
      "source": [
        "![summary table of problem in machine learning.png](data:image/png;base64,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)"
      ],
      "metadata": {
        "id": "Psl2HUa2KW-S"
      }
    },
    {
      "cell_type": "markdown",
      "source": [
        "# 🎯 Final Memory Tip\n",
        "\n",
        "\n",
        "---\n",
        "\n",
        "\n",
        "\n",
        "# 🧠 ML is like teaching a child:\n",
        "\n",
        "\n",
        "====>Not enough data? Kid can’t learn\n",
        "\n",
        "\n",
        "====>Wrong data? Kid learns wrong things\n",
        "\n",
        "\n",
        "====>Only memorizes? Kid can’t adapt\n",
        "\n",
        "\n",
        "====>Always learning from old books? Kid gets outdated\n",
        "\n",
        "\n",
        "====>Biased input? Kid grows up biased"
      ],
      "metadata": {
        "id": "0fe8g0sCKWvK"
      }
    }
  ]
}