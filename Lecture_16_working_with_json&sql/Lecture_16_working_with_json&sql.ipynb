{
  "cells": [
    {
      "cell_type": "markdown",
      "metadata": {
        "id": "_7_2374U9BuE"
      },
      "source": [
        "# **Lecture 16: Working with JSON Format and SQL Database in Machine Learning**"
      ]
    },
    {
      "cell_type": "markdown",
      "metadata": {
        "id": "cCGcrPx_9Hyp"
      },
      "source": [
        "#  Why is This Important in Machine Learning?\n",
        "\n",
        "\n",
        "---\n",
        "\n",
        "\n",
        "Data comes from many sources: APIs, files, databases.\n",
        "\n",
        "\n",
        "JSON is the most common format for APIs and web data.\n",
        "\n",
        "\n",
        "SQL databases are common for large storage (millions of rows).\n",
        "\n",
        "\n",
        "If you want real-world ML projects, you must know how to read and write data from these"
      ]
    },
    {
      "cell_type": "markdown",
      "metadata": {
        "id": "nsQSokpi9Hk6"
      },
      "source": [
        "# **Part 1: Working with JSON Format**"
      ]
    },
    {
      "cell_type": "markdown",
      "metadata": {
        "id": "XRrtZVxH9HW7"
      },
      "source": [
        "#  What is JSON?\n",
        "\n",
        "JSON = JavaScript Object Notation\n",
        "\n",
        "It is a text format to store data like Python dictionaries."
      ]
    },
    {
      "cell_type": "code",
      "execution_count": 73,
      "metadata": {
        "id": "-8V-tYDA-MUb"
      },
      "outputs": [],
      "source": [
        "# Example of JSON:\n",
        "\n",
        "# {\n",
        "#   \"name\": \"Alice\",\n",
        "#   \"age\": 25,\n",
        "#   \"skills\": [\"Python\", \"Machine Learning\", \"SQL\"]\n",
        "# }\n",
        "# 👉 It looks like a Python dictionary but in text format."
      ]
    },
    {
      "cell_type": "markdown",
      "metadata": {
        "id": "IrI5pdbO9HRY"
      },
      "source": [
        "#  How to Work with JSON in Python?\n",
        "\n",
        "👉 Python has a built-in library called json."
      ]
    },
    {
      "cell_type": "code",
      "execution_count": 74,
      "metadata": {
        "colab": {
          "base_uri": "https://localhost:8080/",
          "height": 424
        },
        "id": "8Bbcf0EJ-iBz",
        "outputId": "5c11d75d-4caa-4886-aacc-6bcacd68b65a"
      },
      "outputs": [
        {
          "data": {
            "text/html": [
              "<div>\n",
              "<style scoped>\n",
              "    .dataframe tbody tr th:only-of-type {\n",
              "        vertical-align: middle;\n",
              "    }\n",
              "\n",
              "    .dataframe tbody tr th {\n",
              "        vertical-align: top;\n",
              "    }\n",
              "\n",
              "    .dataframe thead th {\n",
              "        text-align: right;\n",
              "    }\n",
              "</style>\n",
              "<table border=\"1\" class=\"dataframe\">\n",
              "  <thead>\n",
              "    <tr style=\"text-align: right;\">\n",
              "      <th></th>\n",
              "      <th>id</th>\n",
              "      <th>cuisine</th>\n",
              "      <th>ingredients</th>\n",
              "    </tr>\n",
              "  </thead>\n",
              "  <tbody>\n",
              "    <tr>\n",
              "      <th>0</th>\n",
              "      <td>10259</td>\n",
              "      <td>greek</td>\n",
              "      <td>[romaine lettuce, black olives, grape tomatoes...</td>\n",
              "    </tr>\n",
              "    <tr>\n",
              "      <th>1</th>\n",
              "      <td>25693</td>\n",
              "      <td>southern_us</td>\n",
              "      <td>[plain flour, ground pepper, salt, tomatoes, g...</td>\n",
              "    </tr>\n",
              "    <tr>\n",
              "      <th>2</th>\n",
              "      <td>20130</td>\n",
              "      <td>filipino</td>\n",
              "      <td>[eggs, pepper, salt, mayonaise, cooking oil, g...</td>\n",
              "    </tr>\n",
              "    <tr>\n",
              "      <th>3</th>\n",
              "      <td>22213</td>\n",
              "      <td>indian</td>\n",
              "      <td>[water, vegetable oil, wheat, salt]</td>\n",
              "    </tr>\n",
              "    <tr>\n",
              "      <th>4</th>\n",
              "      <td>13162</td>\n",
              "      <td>indian</td>\n",
              "      <td>[black pepper, shallots, cornflour, cayenne pe...</td>\n",
              "    </tr>\n",
              "    <tr>\n",
              "      <th>...</th>\n",
              "      <td>...</td>\n",
              "      <td>...</td>\n",
              "      <td>...</td>\n",
              "    </tr>\n",
              "    <tr>\n",
              "      <th>39769</th>\n",
              "      <td>29109</td>\n",
              "      <td>irish</td>\n",
              "      <td>[light brown sugar, granulated sugar, butter, ...</td>\n",
              "    </tr>\n",
              "    <tr>\n",
              "      <th>39770</th>\n",
              "      <td>11462</td>\n",
              "      <td>italian</td>\n",
              "      <td>[KRAFT Zesty Italian Dressing, purple onion, b...</td>\n",
              "    </tr>\n",
              "    <tr>\n",
              "      <th>39771</th>\n",
              "      <td>2238</td>\n",
              "      <td>irish</td>\n",
              "      <td>[eggs, citrus fruit, raisins, sourdough starte...</td>\n",
              "    </tr>\n",
              "    <tr>\n",
              "      <th>39772</th>\n",
              "      <td>41882</td>\n",
              "      <td>chinese</td>\n",
              "      <td>[boneless chicken skinless thigh, minced garli...</td>\n",
              "    </tr>\n",
              "    <tr>\n",
              "      <th>39773</th>\n",
              "      <td>2362</td>\n",
              "      <td>mexican</td>\n",
              "      <td>[green chile, jalapeno chilies, onions, ground...</td>\n",
              "    </tr>\n",
              "  </tbody>\n",
              "</table>\n",
              "<p>39774 rows × 3 columns</p>\n",
              "</div>"
            ],
            "text/plain": [
              "          id      cuisine                                        ingredients\n",
              "0      10259        greek  [romaine lettuce, black olives, grape tomatoes...\n",
              "1      25693  southern_us  [plain flour, ground pepper, salt, tomatoes, g...\n",
              "2      20130     filipino  [eggs, pepper, salt, mayonaise, cooking oil, g...\n",
              "3      22213       indian                [water, vegetable oil, wheat, salt]\n",
              "4      13162       indian  [black pepper, shallots, cornflour, cayenne pe...\n",
              "...      ...          ...                                                ...\n",
              "39769  29109        irish  [light brown sugar, granulated sugar, butter, ...\n",
              "39770  11462      italian  [KRAFT Zesty Italian Dressing, purple onion, b...\n",
              "39771   2238        irish  [eggs, citrus fruit, raisins, sourdough starte...\n",
              "39772  41882      chinese  [boneless chicken skinless thigh, minced garli...\n",
              "39773   2362      mexican  [green chile, jalapeno chilies, onions, ground...\n",
              "\n",
              "[39774 rows x 3 columns]"
            ]
          },
          "execution_count": 74,
          "metadata": {},
          "output_type": "execute_result"
        }
      ],
      "source": [
        "#  Code: Loading JSON (Reading JSON file)\n",
        "\n",
        "import pandas as pd\n",
        "pd.read_json('train.json')"
      ]
    },
    {
      "cell_type": "code",
      "execution_count": 75,
      "metadata": {
        "colab": {
          "base_uri": "https://localhost:8080/",
          "height": 597
        },
        "id": "ohh7Yb4CB_RO",
        "outputId": "7c1c534d-9bf0-46cc-bd5d-6ee5ab183fa0"
      },
      "outputs": [
        {
          "data": {
            "text/html": [
              "<div>\n",
              "<style scoped>\n",
              "    .dataframe tbody tr th:only-of-type {\n",
              "        vertical-align: middle;\n",
              "    }\n",
              "\n",
              "    .dataframe tbody tr th {\n",
              "        vertical-align: top;\n",
              "    }\n",
              "\n",
              "    .dataframe thead th {\n",
              "        text-align: right;\n",
              "    }\n",
              "</style>\n",
              "<table border=\"1\" class=\"dataframe\">\n",
              "  <thead>\n",
              "    <tr style=\"text-align: right;\">\n",
              "      <th></th>\n",
              "      <th>provider</th>\n",
              "      <th>WARNING_UPGRADE_TO_V6</th>\n",
              "      <th>terms</th>\n",
              "      <th>base</th>\n",
              "      <th>date</th>\n",
              "      <th>time_last_updated</th>\n",
              "      <th>rates</th>\n",
              "    </tr>\n",
              "  </thead>\n",
              "  <tbody>\n",
              "    <tr>\n",
              "      <th>USD</th>\n",
              "      <td>https://www.exchangerate-api.com</td>\n",
              "      <td>https://www.exchangerate-api.com/docs/free</td>\n",
              "      <td>https://www.exchangerate-api.com/terms</td>\n",
              "      <td>USD</td>\n",
              "      <td>2025-06-11</td>\n",
              "      <td>1749600001</td>\n",
              "      <td>1.00</td>\n",
              "    </tr>\n",
              "    <tr>\n",
              "      <th>AED</th>\n",
              "      <td>https://www.exchangerate-api.com</td>\n",
              "      <td>https://www.exchangerate-api.com/docs/free</td>\n",
              "      <td>https://www.exchangerate-api.com/terms</td>\n",
              "      <td>USD</td>\n",
              "      <td>2025-06-11</td>\n",
              "      <td>1749600001</td>\n",
              "      <td>3.67</td>\n",
              "    </tr>\n",
              "    <tr>\n",
              "      <th>AFN</th>\n",
              "      <td>https://www.exchangerate-api.com</td>\n",
              "      <td>https://www.exchangerate-api.com/docs/free</td>\n",
              "      <td>https://www.exchangerate-api.com/terms</td>\n",
              "      <td>USD</td>\n",
              "      <td>2025-06-11</td>\n",
              "      <td>1749600001</td>\n",
              "      <td>69.79</td>\n",
              "    </tr>\n",
              "    <tr>\n",
              "      <th>ALL</th>\n",
              "      <td>https://www.exchangerate-api.com</td>\n",
              "      <td>https://www.exchangerate-api.com/docs/free</td>\n",
              "      <td>https://www.exchangerate-api.com/terms</td>\n",
              "      <td>USD</td>\n",
              "      <td>2025-06-11</td>\n",
              "      <td>1749600001</td>\n",
              "      <td>85.93</td>\n",
              "    </tr>\n",
              "    <tr>\n",
              "      <th>AMD</th>\n",
              "      <td>https://www.exchangerate-api.com</td>\n",
              "      <td>https://www.exchangerate-api.com/docs/free</td>\n",
              "      <td>https://www.exchangerate-api.com/terms</td>\n",
              "      <td>USD</td>\n",
              "      <td>2025-06-11</td>\n",
              "      <td>1749600001</td>\n",
              "      <td>383.53</td>\n",
              "    </tr>\n",
              "    <tr>\n",
              "      <th>...</th>\n",
              "      <td>...</td>\n",
              "      <td>...</td>\n",
              "      <td>...</td>\n",
              "      <td>...</td>\n",
              "      <td>...</td>\n",
              "      <td>...</td>\n",
              "      <td>...</td>\n",
              "    </tr>\n",
              "    <tr>\n",
              "      <th>XPF</th>\n",
              "      <td>https://www.exchangerate-api.com</td>\n",
              "      <td>https://www.exchangerate-api.com/docs/free</td>\n",
              "      <td>https://www.exchangerate-api.com/terms</td>\n",
              "      <td>USD</td>\n",
              "      <td>2025-06-11</td>\n",
              "      <td>1749600001</td>\n",
              "      <td>104.42</td>\n",
              "    </tr>\n",
              "    <tr>\n",
              "      <th>YER</th>\n",
              "      <td>https://www.exchangerate-api.com</td>\n",
              "      <td>https://www.exchangerate-api.com/docs/free</td>\n",
              "      <td>https://www.exchangerate-api.com/terms</td>\n",
              "      <td>USD</td>\n",
              "      <td>2025-06-11</td>\n",
              "      <td>1749600001</td>\n",
              "      <td>243.17</td>\n",
              "    </tr>\n",
              "    <tr>\n",
              "      <th>ZAR</th>\n",
              "      <td>https://www.exchangerate-api.com</td>\n",
              "      <td>https://www.exchangerate-api.com/docs/free</td>\n",
              "      <td>https://www.exchangerate-api.com/terms</td>\n",
              "      <td>USD</td>\n",
              "      <td>2025-06-11</td>\n",
              "      <td>1749600001</td>\n",
              "      <td>17.71</td>\n",
              "    </tr>\n",
              "    <tr>\n",
              "      <th>ZMW</th>\n",
              "      <td>https://www.exchangerate-api.com</td>\n",
              "      <td>https://www.exchangerate-api.com/docs/free</td>\n",
              "      <td>https://www.exchangerate-api.com/terms</td>\n",
              "      <td>USD</td>\n",
              "      <td>2025-06-11</td>\n",
              "      <td>1749600001</td>\n",
              "      <td>25.16</td>\n",
              "    </tr>\n",
              "    <tr>\n",
              "      <th>ZWL</th>\n",
              "      <td>https://www.exchangerate-api.com</td>\n",
              "      <td>https://www.exchangerate-api.com/docs/free</td>\n",
              "      <td>https://www.exchangerate-api.com/terms</td>\n",
              "      <td>USD</td>\n",
              "      <td>2025-06-11</td>\n",
              "      <td>1749600001</td>\n",
              "      <td>26.96</td>\n",
              "    </tr>\n",
              "  </tbody>\n",
              "</table>\n",
              "<p>163 rows × 7 columns</p>\n",
              "</div>"
            ],
            "text/plain": [
              "                             provider  \\\n",
              "USD  https://www.exchangerate-api.com   \n",
              "AED  https://www.exchangerate-api.com   \n",
              "AFN  https://www.exchangerate-api.com   \n",
              "ALL  https://www.exchangerate-api.com   \n",
              "AMD  https://www.exchangerate-api.com   \n",
              "..                                ...   \n",
              "XPF  https://www.exchangerate-api.com   \n",
              "YER  https://www.exchangerate-api.com   \n",
              "ZAR  https://www.exchangerate-api.com   \n",
              "ZMW  https://www.exchangerate-api.com   \n",
              "ZWL  https://www.exchangerate-api.com   \n",
              "\n",
              "                          WARNING_UPGRADE_TO_V6  \\\n",
              "USD  https://www.exchangerate-api.com/docs/free   \n",
              "AED  https://www.exchangerate-api.com/docs/free   \n",
              "AFN  https://www.exchangerate-api.com/docs/free   \n",
              "ALL  https://www.exchangerate-api.com/docs/free   \n",
              "AMD  https://www.exchangerate-api.com/docs/free   \n",
              "..                                          ...   \n",
              "XPF  https://www.exchangerate-api.com/docs/free   \n",
              "YER  https://www.exchangerate-api.com/docs/free   \n",
              "ZAR  https://www.exchangerate-api.com/docs/free   \n",
              "ZMW  https://www.exchangerate-api.com/docs/free   \n",
              "ZWL  https://www.exchangerate-api.com/docs/free   \n",
              "\n",
              "                                      terms base       date  \\\n",
              "USD  https://www.exchangerate-api.com/terms  USD 2025-06-11   \n",
              "AED  https://www.exchangerate-api.com/terms  USD 2025-06-11   \n",
              "AFN  https://www.exchangerate-api.com/terms  USD 2025-06-11   \n",
              "ALL  https://www.exchangerate-api.com/terms  USD 2025-06-11   \n",
              "AMD  https://www.exchangerate-api.com/terms  USD 2025-06-11   \n",
              "..                                      ...  ...        ...   \n",
              "XPF  https://www.exchangerate-api.com/terms  USD 2025-06-11   \n",
              "YER  https://www.exchangerate-api.com/terms  USD 2025-06-11   \n",
              "ZAR  https://www.exchangerate-api.com/terms  USD 2025-06-11   \n",
              "ZMW  https://www.exchangerate-api.com/terms  USD 2025-06-11   \n",
              "ZWL  https://www.exchangerate-api.com/terms  USD 2025-06-11   \n",
              "\n",
              "     time_last_updated   rates  \n",
              "USD         1749600001    1.00  \n",
              "AED         1749600001    3.67  \n",
              "AFN         1749600001   69.79  \n",
              "ALL         1749600001   85.93  \n",
              "AMD         1749600001  383.53  \n",
              "..                 ...     ...  \n",
              "XPF         1749600001  104.42  \n",
              "YER         1749600001  243.17  \n",
              "ZAR         1749600001   17.71  \n",
              "ZMW         1749600001   25.16  \n",
              "ZWL         1749600001   26.96  \n",
              "\n",
              "[163 rows x 7 columns]"
            ]
          },
          "execution_count": 75,
          "metadata": {},
          "output_type": "execute_result"
        }
      ],
      "source": [
        "pd.read_json(\"https://api.exchangerate-api.com/v4/latest/USD\")"
      ]
    },
    {
      "cell_type": "markdown",
      "metadata": {
        "id": "zLGseUSk9HOP"
      },
      "source": [
        "# Code: Saving Data to JSON File (Writing JSON file)"
      ]
    },
    {
      "cell_type": "code",
      "execution_count": 76,
      "metadata": {},
      "outputs": [],
      "source": [
        "import json"
      ]
    },
    {
      "cell_type": "code",
      "execution_count": 77,
      "metadata": {
        "id": "1EYjwrBuNo0V"
      },
      "outputs": [
        {
          "name": "stdout",
          "output_type": "stream",
          "text": [
            "Saved successfully!\n"
          ]
        }
      ],
      "source": [
        "# Python dictionary\n",
        "student = {\n",
        "    \"name\": \"Bob\",\n",
        "    \"age\": 22,\n",
        "    \"skills\": [\"Data Science\", \"Deep Learning\"]\n",
        "}\n",
        "\n",
        "# Save to JSON file\n",
        "with open('student.json', 'w') as file:\n",
        "    json.dump(student, file, indent=4)\n",
        "\n",
        "print(\"Saved successfully!\")\n"
      ]
    },
    {
      "cell_type": "code",
      "execution_count": 78,
      "metadata": {
        "id": "5grzoayzN-Tm"
      },
      "outputs": [
        {
          "name": "stdout",
          "output_type": "stream",
          "text": [
            "{'name': 'Bob', 'age': 22, 'skills': ['Data Science', 'Deep Learning']}\n",
            "Bob\n"
          ]
        }
      ],
      "source": [
        "import json\n",
        "\n",
        "# Let's say you have a JSON file called 'student.json'\n",
        "\n",
        "# 1. Open the file\n",
        "with open('student.json', 'r') as file:\n",
        "    data = json.load(file)\n",
        "\n",
        "# 2. Now 'data' is a Python dictionary\n",
        "print(data)\n",
        "print(data['name'])  # Output: Alice"
      ]
    },
    {
      "cell_type": "markdown",
      "metadata": {
        "id": "hPg3W5yF9HLJ"
      },
      "source": [
        "# Real Life Example:\n",
        "\n",
        "When you call a weather API, you receive data in JSON format.\n",
        "\n",
        "\n",
        "You load it, extract features, and train a model."
      ]
    },
    {
      "cell_type": "markdown",
      "metadata": {
        "id": "J7v5L2YC9HBi"
      },
      "source": [
        "# **Part 2: Working with SQL Database**"
      ]
    },
    {
      "cell_type": "markdown",
      "metadata": {
        "id": "QkD_tk4-z706"
      },
      "source": [
        "# **What is SQL?**\n",
        "\n",
        "SQL = Structured Query Language.\n",
        "\n",
        "\n",
        "It is used to store, retrieve, and manage large amounts of data.\n",
        "\n",
        "\n",
        "Most companies store user data, sales data, etc., in SQL databases."
      ]
    },
    {
      "cell_type": "markdown",
      "metadata": {
        "id": "1zsqgEm40G-B"
      },
      "source": [
        "# **How to Work with SQL in Python?**\n",
        "\n",
        "\n",
        "---\n",
        "\n",
        "\n",
        "## 👉 Python library:\n",
        "\n",
        " sqlite3 (for small, local databases).\n",
        "\n",
        "👉 Bigger real-world databases use MySQL, PostgreSQL, but basics are same"
      ]
    },
    {
      "cell_type": "code",
      "execution_count": null,
      "metadata": {
        "id": "c74w3p7_P5p_"
      },
      "outputs": [
        {
          "name": "stdout",
          "output_type": "stream",
          "text": [
            "Requirement already satisfied: mysql.connector in c:\\users\\hp\\anaconda3\\envs\\streamlit\\lib\\site-packages (2.2.9)\n"
          ]
        },
        {
          "name": "stderr",
          "output_type": "stream",
          "text": [
            "\n",
            "[notice] A new release of pip is available: 25.1 -> 25.1.1\n",
            "[notice] To update, run: python.exe -m pip install --upgrade pip\n"
          ]
        }
      ],
      "source": [
        "# First, make sure you have the mysql.connector library installed\n",
        "# If you ran this before, you might not need to run it again, but it's good practice to include.\n",
        "# !pip install mysql.connector"
      ]
    },
    {
      "cell_type": "code",
      "execution_count": 80,
      "metadata": {
        "id": "KuSKUPZkP_rO"
      },
      "outputs": [],
      "source": [
        "# Import the necessary library\n",
        "import mysql.connector\n",
        "import pandas as pd # use pandas to read data into dataframes\n",
        "\n",
        "# --- IMPORTANT PREREQUISITE ---\n",
        "# Make sure the MySQL module in your XAMPP Control Panel is RUNNING\n",
        "# If it's stopped, you will get a \"Connection refused\" error.\n",
        "# Open XAMPP Control Panel -> Start the 'MySQL' module.\n",
        "# ------------------------------"
      ]
    },
    {
      "cell_type": "code",
      "execution_count": 81,
      "metadata": {
        "id": "hzKs7RWSQE_f"
      },
      "outputs": [],
      "source": [
        "# Define the connection parameters for XAMPP MySQL\n",
        "# Default settings for XAMPP on localhost:\n",
        "db_config = {\n",
        "    \"host\": \"localhost\",\n",
        "    \"user\": \"root\",\n",
        "    \"password\": \"\",  # Default XAMPP root usually has no password\n",
        "    \"database\": \"titanic\" # Replace with the name of your database in XAMPP\n",
        "}"
      ]
    },
    {
      "cell_type": "code",
      "execution_count": 82,
      "metadata": {
        "colab": {
          "base_uri": "https://localhost:8080/"
        },
        "id": "XhRnQBzZJGyR",
        "outputId": "65c9d030-9134-4fd5-97f4-bcd186d74704"
      },
      "outputs": [
        {
          "name": "stdout",
          "output_type": "stream",
          "text": [
            "Attempting to connect to database 'titanic' on 'localhost'...\n",
            "Successfully connected to the XAMPP MySQL database!\n",
            "\n",
            "Database connection closed.\n"
          ]
        }
      ],
      "source": [
        "\n",
        "\n",
        "# Attempt to connect to the MySQL database\n",
        "conn = None # Initialize conn to None\n",
        "try:\n",
        "    print(f\"Attempting to connect to database '{db_config['database']}' on '{db_config['host']}'...\")\n",
        "    conn = mysql.connector.connect(**db_config) # Use the dictionary for connection parameters\n",
        "    print(\"Successfully connected to the XAMPP MySQL database!\")\n",
        "\n",
        "\n",
        "\n",
        "\n",
        "except mysql.connector.Error as err:\n",
        "    # This block will catch connection errors (like \"Connection refused\")\n",
        "    print(f\"\\nError: {err}\")\n",
        "    print(\"\\nCould not connect to the database. Please ensure:\")\n",
        "    print(\"1. The MySQL module in your XAMPP Control Panel is RUNNING.\")\n",
        "    print(\"2. The database name ('titanic') exists in your XAMPP MySQL.\")\n",
        "    print(\"3. The host ('localhost'), user ('root'), and password (empty string) are correct.\")\n",
        "    print(\"4. No firewall is blocking the connection on port 3306.\")\n",
        "except Exception as e:\n",
        "    # Catch any other unexpected errors\n",
        "    print(f\"\\nAn unexpected error occurred: {e}\")\n",
        "\n",
        "finally:\n",
        "    # It's good practice to close the connection when done\n",
        "    if conn is not None and conn.is_connected():\n",
        "        conn.close()\n",
        "        print(\"\\nDatabase connection closed.\")\n",
        "    elif conn is not None:\n",
        "         # This case is unlikely if connect() succeeded but close() is called\n",
        "         pass # Connection was likely not fully established or already closed\n",
        "    else:\n",
        "         print(\"\\nConnection was not established, nothing to close.\")"
      ]
    },
    {
      "cell_type": "code",
      "execution_count": 83,
      "metadata": {
        "id": "-rXNX44TJdZQ"
      },
      "outputs": [
        {
          "name": "stdout",
          "output_type": "stream",
          "text": [
            "\n",
            "An unexpected error occurred during query execution: MySQL Connection not available.\n"
          ]
        },
        {
          "name": "stderr",
          "output_type": "stream",
          "text": [
            "C:\\Users\\hp\\AppData\\Local\\Temp\\ipykernel_8508\\3090390379.py:7: UserWarning: pandas only supports SQLAlchemy connectable (engine/connection) or database string URI or sqlite3 DBAPI2 connection. Other DBAPI2 objects are not tested. Please consider using SQLAlchemy.\n",
            "  df = pd.read_sql_query(\"SELECT * FROM train\", conn)\n"
          ]
        }
      ],
      "source": [
        "# --- Now you can interact with your database ---\n",
        "\n",
        "    # Example: Fetching data using pandas (requires pandas imported)\n",
        "    # Ensure the table 'city' exists in your 'titanic' database\n",
        "try:\n",
        "        \n",
        "        df = pd.read_sql_query(\"SELECT * FROM train\", conn)\n",
        "        print(\"\\nData from 'city' table:\")\n",
        "        display(df.head()) # Use display() in Jupyter/Colab for better output\n",
        "except pd.io.sql.DatabaseError as db_err:\n",
        "        print(f\"\\nError executing SQL query: {db_err}\")\n",
        "        print(\"Please ensure the table 'train' exists in your 'titanic' database.\")\n",
        "except Exception as e:\n",
        "         print(f\"\\nAn unexpected error occurred during query execution: {e}\")"
      ]
    },
    {
      "cell_type": "code",
      "execution_count": 84,
      "metadata": {
        "id": "K_pu2Yo27WLk"
      },
      "outputs": [],
      "source": [
        "conn = mysql.connector.connect(host=\"localhost\",user=\"root\",password=\"\",database='titanic')"
      ]
    },
    {
      "cell_type": "code",
      "execution_count": 85,
      "metadata": {
        "id": "YcbNC2q78A52"
      },
      "outputs": [
        {
          "name": "stderr",
          "output_type": "stream",
          "text": [
            "C:\\Users\\hp\\AppData\\Local\\Temp\\ipykernel_8508\\485272551.py:1: UserWarning: pandas only supports SQLAlchemy connectable (engine/connection) or database string URI or sqlite3 DBAPI2 connection. Other DBAPI2 objects are not tested. Please consider using SQLAlchemy.\n",
            "  pd.read_sql_query(\"SELECT * FROM train\",conn)\n"
          ]
        },
        {
          "data": {
            "text/html": [
              "<div>\n",
              "<style scoped>\n",
              "    .dataframe tbody tr th:only-of-type {\n",
              "        vertical-align: middle;\n",
              "    }\n",
              "\n",
              "    .dataframe tbody tr th {\n",
              "        vertical-align: top;\n",
              "    }\n",
              "\n",
              "    .dataframe thead th {\n",
              "        text-align: right;\n",
              "    }\n",
              "</style>\n",
              "<table border=\"1\" class=\"dataframe\">\n",
              "  <thead>\n",
              "    <tr style=\"text-align: right;\">\n",
              "      <th></th>\n",
              "      <th>PassengerId</th>\n",
              "      <th>Survived</th>\n",
              "      <th>Pclass</th>\n",
              "      <th>Name</th>\n",
              "      <th>Sex</th>\n",
              "      <th>Age</th>\n",
              "      <th>SibSp</th>\n",
              "      <th>Parch</th>\n",
              "      <th>Ticket</th>\n",
              "      <th>Fare</th>\n",
              "      <th>Cabin</th>\n",
              "      <th>Embarked</th>\n",
              "    </tr>\n",
              "  </thead>\n",
              "  <tbody>\n",
              "    <tr>\n",
              "      <th>0</th>\n",
              "      <td>1</td>\n",
              "      <td>0</td>\n",
              "      <td>3</td>\n",
              "      <td>Braund, Mr. Owen Harris</td>\n",
              "      <td>male</td>\n",
              "      <td>22</td>\n",
              "      <td>1</td>\n",
              "      <td>0</td>\n",
              "      <td>A/5 21171</td>\n",
              "      <td>7.2500</td>\n",
              "      <td></td>\n",
              "      <td>S</td>\n",
              "    </tr>\n",
              "    <tr>\n",
              "      <th>1</th>\n",
              "      <td>2</td>\n",
              "      <td>1</td>\n",
              "      <td>1</td>\n",
              "      <td>Cumings, Mrs. John Bradley (Florence Briggs Th...</td>\n",
              "      <td>female</td>\n",
              "      <td>38</td>\n",
              "      <td>1</td>\n",
              "      <td>0</td>\n",
              "      <td>PC 17599</td>\n",
              "      <td>71.2833</td>\n",
              "      <td>C85</td>\n",
              "      <td>C</td>\n",
              "    </tr>\n",
              "    <tr>\n",
              "      <th>2</th>\n",
              "      <td>3</td>\n",
              "      <td>1</td>\n",
              "      <td>3</td>\n",
              "      <td>Heikkinen, Miss. Laina</td>\n",
              "      <td>female</td>\n",
              "      <td>26</td>\n",
              "      <td>0</td>\n",
              "      <td>0</td>\n",
              "      <td>STON/O2. 3101282</td>\n",
              "      <td>7.9250</td>\n",
              "      <td></td>\n",
              "      <td>S</td>\n",
              "    </tr>\n",
              "    <tr>\n",
              "      <th>3</th>\n",
              "      <td>4</td>\n",
              "      <td>1</td>\n",
              "      <td>1</td>\n",
              "      <td>Futrelle, Mrs. Jacques Heath (Lily May Peel)</td>\n",
              "      <td>female</td>\n",
              "      <td>35</td>\n",
              "      <td>1</td>\n",
              "      <td>0</td>\n",
              "      <td>113803</td>\n",
              "      <td>53.1000</td>\n",
              "      <td>C123</td>\n",
              "      <td>S</td>\n",
              "    </tr>\n",
              "    <tr>\n",
              "      <th>4</th>\n",
              "      <td>5</td>\n",
              "      <td>0</td>\n",
              "      <td>3</td>\n",
              "      <td>Allen, Mr. William Henry</td>\n",
              "      <td>male</td>\n",
              "      <td>35</td>\n",
              "      <td>0</td>\n",
              "      <td>0</td>\n",
              "      <td>373450</td>\n",
              "      <td>8.0500</td>\n",
              "      <td></td>\n",
              "      <td>S</td>\n",
              "    </tr>\n",
              "    <tr>\n",
              "      <th>...</th>\n",
              "      <td>...</td>\n",
              "      <td>...</td>\n",
              "      <td>...</td>\n",
              "      <td>...</td>\n",
              "      <td>...</td>\n",
              "      <td>...</td>\n",
              "      <td>...</td>\n",
              "      <td>...</td>\n",
              "      <td>...</td>\n",
              "      <td>...</td>\n",
              "      <td>...</td>\n",
              "      <td>...</td>\n",
              "    </tr>\n",
              "    <tr>\n",
              "      <th>886</th>\n",
              "      <td>887</td>\n",
              "      <td>0</td>\n",
              "      <td>2</td>\n",
              "      <td>Montvila, Rev. Juozas</td>\n",
              "      <td>male</td>\n",
              "      <td>27</td>\n",
              "      <td>0</td>\n",
              "      <td>0</td>\n",
              "      <td>211536</td>\n",
              "      <td>13.0000</td>\n",
              "      <td></td>\n",
              "      <td>S</td>\n",
              "    </tr>\n",
              "    <tr>\n",
              "      <th>887</th>\n",
              "      <td>888</td>\n",
              "      <td>1</td>\n",
              "      <td>1</td>\n",
              "      <td>Graham, Miss. Margaret Edith</td>\n",
              "      <td>female</td>\n",
              "      <td>19</td>\n",
              "      <td>0</td>\n",
              "      <td>0</td>\n",
              "      <td>112053</td>\n",
              "      <td>30.0000</td>\n",
              "      <td>B42</td>\n",
              "      <td>S</td>\n",
              "    </tr>\n",
              "    <tr>\n",
              "      <th>888</th>\n",
              "      <td>889</td>\n",
              "      <td>0</td>\n",
              "      <td>3</td>\n",
              "      <td>Johnston, Miss. Catherine Helen \"Carrie\"</td>\n",
              "      <td>female</td>\n",
              "      <td></td>\n",
              "      <td>1</td>\n",
              "      <td>2</td>\n",
              "      <td>W./C. 6607</td>\n",
              "      <td>23.4500</td>\n",
              "      <td></td>\n",
              "      <td>S</td>\n",
              "    </tr>\n",
              "    <tr>\n",
              "      <th>889</th>\n",
              "      <td>890</td>\n",
              "      <td>1</td>\n",
              "      <td>1</td>\n",
              "      <td>Behr, Mr. Karl Howell</td>\n",
              "      <td>male</td>\n",
              "      <td>26</td>\n",
              "      <td>0</td>\n",
              "      <td>0</td>\n",
              "      <td>111369</td>\n",
              "      <td>30.0000</td>\n",
              "      <td>C148</td>\n",
              "      <td>C</td>\n",
              "    </tr>\n",
              "    <tr>\n",
              "      <th>890</th>\n",
              "      <td>891</td>\n",
              "      <td>0</td>\n",
              "      <td>3</td>\n",
              "      <td>Dooley, Mr. Patrick</td>\n",
              "      <td>male</td>\n",
              "      <td>32</td>\n",
              "      <td>0</td>\n",
              "      <td>0</td>\n",
              "      <td>370376</td>\n",
              "      <td>7.7500</td>\n",
              "      <td></td>\n",
              "      <td>Q</td>\n",
              "    </tr>\n",
              "  </tbody>\n",
              "</table>\n",
              "<p>891 rows × 12 columns</p>\n",
              "</div>"
            ],
            "text/plain": [
              "     PassengerId  Survived  Pclass  \\\n",
              "0              1         0       3   \n",
              "1              2         1       1   \n",
              "2              3         1       3   \n",
              "3              4         1       1   \n",
              "4              5         0       3   \n",
              "..           ...       ...     ...   \n",
              "886          887         0       2   \n",
              "887          888         1       1   \n",
              "888          889         0       3   \n",
              "889          890         1       1   \n",
              "890          891         0       3   \n",
              "\n",
              "                                                  Name     Sex Age  SibSp  \\\n",
              "0                              Braund, Mr. Owen Harris    male  22      1   \n",
              "1    Cumings, Mrs. John Bradley (Florence Briggs Th...  female  38      1   \n",
              "2                               Heikkinen, Miss. Laina  female  26      0   \n",
              "3         Futrelle, Mrs. Jacques Heath (Lily May Peel)  female  35      1   \n",
              "4                             Allen, Mr. William Henry    male  35      0   \n",
              "..                                                 ...     ...  ..    ...   \n",
              "886                              Montvila, Rev. Juozas    male  27      0   \n",
              "887                       Graham, Miss. Margaret Edith  female  19      0   \n",
              "888           Johnston, Miss. Catherine Helen \"Carrie\"  female          1   \n",
              "889                              Behr, Mr. Karl Howell    male  26      0   \n",
              "890                                Dooley, Mr. Patrick    male  32      0   \n",
              "\n",
              "     Parch            Ticket     Fare Cabin Embarked  \n",
              "0        0         A/5 21171   7.2500              S  \n",
              "1        0          PC 17599  71.2833   C85        C  \n",
              "2        0  STON/O2. 3101282   7.9250              S  \n",
              "3        0            113803  53.1000  C123        S  \n",
              "4        0            373450   8.0500              S  \n",
              "..     ...               ...      ...   ...      ...  \n",
              "886      0            211536  13.0000              S  \n",
              "887      0            112053  30.0000   B42        S  \n",
              "888      2        W./C. 6607  23.4500              S  \n",
              "889      0            111369  30.0000  C148        C  \n",
              "890      0            370376   7.7500              Q  \n",
              "\n",
              "[891 rows x 12 columns]"
            ]
          },
          "execution_count": 85,
          "metadata": {},
          "output_type": "execute_result"
        }
      ],
      "source": [
        "pd.read_sql_query(\"SELECT * FROM train\",conn)"
      ]
    },
    {
      "cell_type": "code",
      "execution_count": 86,
      "metadata": {
        "id": "5QjCMocs0elJ"
      },
      "outputs": [
        {
          "name": "stdout",
          "output_type": "stream",
          "text": [
            "Database connected!\n"
          ]
        }
      ],
      "source": [
        "\n",
        "\n",
        "# Create or connect to a database file\n",
        "conn = mysql.connector.connect(host=\"localhost\",user=\"root\",password=\"\",database='testdb')\n",
        "\n",
        "# Create a cursor to execute commands\n",
        "cursor = conn.cursor()\n",
        "\n",
        "print(\"Database connected!\")"
      ]
    },
    {
      "cell_type": "code",
      "execution_count": 87,
      "metadata": {
        "id": "eMrW9mOb0qh7"
      },
      "outputs": [
        {
          "name": "stdout",
          "output_type": "stream",
          "text": [
            "Table created or already exists.\n"
          ]
        }
      ],
      "source": [
        "# ✍️ Code: Creating a Table\n",
        "\n",
        "\n",
        "# Create a table for  new students\n",
        "cursor.execute('''\n",
        "    CREATE TABLE IF NOT EXISTS new_students (\n",
        "        id INT AUTO_INCREMENT PRIMARY KEY,\n",
        "        name VARCHAR(255),\n",
        "        age INT,\n",
        "        course VARCHAR(255)\n",
        "    )\n",
        "    ''')\n",
        "conn.commit()\n",
        "print(\"Table created or already exists.\")"
      ]
    },
    {
      "cell_type": "code",
      "execution_count": 88,
      "metadata": {},
      "outputs": [
        {
          "name": "stdout",
          "output_type": "stream",
          "text": [
            "Data inserted successfully!\n"
          ]
        }
      ],
      "source": [
        " # ✍️ Code: Inserting Data\n",
        "\n",
        "    # Insert a new student\n",
        "cursor.execute('''\n",
        "        INSERT INTO new_students (name, age, course)\n",
        "        VALUES (%s, %s, %s)\n",
        "    ''', (\"asad\", 28, \"software engineer\"))\n",
        "\n",
        "conn.commit()\n",
        "print(\"Data inserted successfully!\")"
      ]
    },
    {
      "cell_type": "code",
      "execution_count": 95,
      "metadata": {
        "id": "0HQ8SGTX1Qji"
      },
      "outputs": [
        {
          "name": "stdout",
          "output_type": "stream",
          "text": [
            "(1, 'Bob', 22, 'Machine Learning Engineer')\n",
            "(2, 'ali', 24, 'Deep learning')\n",
            "(3, 'amir', 26, 'Data Engineer')\n"
          ]
        }
      ],
      "source": [
        "#✍️ Code: Fetching Data\n",
        "\n",
        "\n",
        "# Fetch all records\n",
        "cursor.execute('SELECT * FROM new_students')\n",
        "rows = cursor.fetchall()\n",
        "\n",
        "for row in rows:\n",
        "    print(row)"
      ]
    },
    {
      "cell_type": "code",
      "execution_count": 90,
      "metadata": {
        "id": "lctDs90y1fDy"
      },
      "outputs": [
        {
          "name": "stdout",
          "output_type": "stream",
          "text": [
            "Data updated successfully!\n"
          ]
        }
      ],
      "source": [
        "#✍️ Code: Updating and Deleting Data\n",
        "\n",
        "\n",
        "# Update student's course\n",
        "cursor.execute('''\n",
        "        UPDATE new_students\n",
        "        SET course = %s\n",
        "        WHERE name = %s\n",
        "    ''', (\"Machine Learning Engineer\", \"Bob\"))  # Use %s for parameterized query\n",
        "\n",
        "conn.commit()\n",
        "print(\"Data updated successfully!\")\n",
        "\n"
      ]
    },
    {
      "cell_type": "code",
      "execution_count": 91,
      "metadata": {},
      "outputs": [
        {
          "name": "stdout",
          "output_type": "stream",
          "text": [
            "(1, 'Bob', 22, 'Machine Learning Engineer')\n",
            "(2, 'ali', 24, 'Deep learning')\n",
            "(3, 'amir', 26, 'Data Engineer')\n",
            "(5, 'asad', 28, 'software engineer')\n"
          ]
        }
      ],
      "source": [
        "for row in rows:\n",
        "    print(row)"
      ]
    },
    {
      "cell_type": "code",
      "execution_count": 94,
      "metadata": {},
      "outputs": [
        {
          "name": "stdout",
          "output_type": "stream",
          "text": [
            "Data deleted successfully!\n"
          ]
        }
      ],
      "source": [
        "# Delete a student\n",
        "cursor.execute('''\n",
        "        DELETE FROM new_students\n",
        "        WHERE name = %s\n",
        "    ''', (\"asad\",))  # Use %s for parameterized query\n",
        "\n",
        "conn.commit()\n",
        "print(\"Data deleted successfully!\")"
      ]
    },
    {
      "cell_type": "code",
      "execution_count": 96,
      "metadata": {},
      "outputs": [
        {
          "name": "stdout",
          "output_type": "stream",
          "text": [
            "(1, 'Bob', 22, 'Machine Learning Engineer')\n",
            "(2, 'ali', 24, 'Deep learning')\n",
            "(3, 'amir', 26, 'Data Engineer')\n"
          ]
        }
      ],
      "source": [
        "for row in rows:\n",
        "    print(row)"
      ]
    },
    {
      "cell_type": "markdown",
      "metadata": {
        "id": "rcbcM79n0Uuz"
      },
      "source": [
        "# **Real Life Example:**\n",
        "\n",
        "E-commerce apps store products and customer information in a SQL database.\n",
        "\n",
        "\n",
        "In ML projects, you pull the customer data → predict customer churn → suggest offers.\n"
      ]
    }
  ],
  "metadata": {
    "colab": {
      "provenance": []
    },
    "kernelspec": {
      "display_name": "streamlit",
      "language": "python",
      "name": "python3"
    },
    "language_info": {
      "codemirror_mode": {
        "name": "ipython",
        "version": 3
      },
      "file_extension": ".py",
      "mimetype": "text/x-python",
      "name": "python",
      "nbconvert_exporter": "python",
      "pygments_lexer": "ipython3",
      "version": "3.13.2"
    }
  },
  "nbformat": 4,
  "nbformat_minor": 0
}
