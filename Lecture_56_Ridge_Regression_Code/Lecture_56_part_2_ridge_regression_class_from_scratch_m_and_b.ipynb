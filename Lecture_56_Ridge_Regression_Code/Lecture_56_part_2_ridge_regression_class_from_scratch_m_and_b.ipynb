{
  "nbformat": 4,
  "nbformat_minor": 0,
  "metadata": {
    "colab": {
      "provenance": [],
      "authorship_tag": "ABX9TyNiL1xv61hsgzK9LA1rN2ZT",
      "include_colab_link": true
    },
    "kernelspec": {
      "name": "python3",
      "display_name": "Python 3"
    },
    "language_info": {
      "name": "python"
    }
  },
  "cells": [
    {
      "cell_type": "markdown",
      "metadata": {
        "id": "view-in-github",
        "colab_type": "text"
      },
      "source": [
        "<a href=\"https://colab.research.google.com/github/Saifullah785/machine-learning-engineer-roadmap/blob/main/Lecture_56_Ridge_Regression_Code/Lecture_56_part_2_ridge_regression_class_from_scratch_m_and_b.ipynb\" target=\"_parent\"><img src=\"https://colab.research.google.com/assets/colab-badge.svg\" alt=\"Open In Colab\"/></a>"
      ]
    },
    {
      "cell_type": "code",
      "execution_count": 15,
      "metadata": {
        "id": "Xt6xP1LzPmzQ"
      },
      "outputs": [],
      "source": [
        "# importing necessary libraries\n",
        "\n",
        "from sklearn.datasets import make_regression\n",
        "import matplotlib.pyplot as plt\n",
        "import numpy as np\n"
      ]
    },
    {
      "cell_type": "code",
      "source": [
        "# genrating the datasets\n",
        "\n",
        "X,y = make_regression(n_samples=100, n_features=1, n_informative=1, n_targets=1, noise=20, random_state=13)\n"
      ],
      "metadata": {
        "id": "xnEzhBAgQZoS"
      },
      "execution_count": 16,
      "outputs": []
    },
    {
      "cell_type": "code",
      "source": [
        "plt.scatter(X,y)"
      ],
      "metadata": {
        "colab": {
          "base_uri": "https://localhost:8080/",
          "height": 448
        },
        "id": "Kr4y40mMQwK4",
        "outputId": "88ff1399-e567-497f-a1f7-3b302f7c63cb"
      },
      "execution_count": 17,
      "outputs": [
        {
          "output_type": "execute_result",
          "data": {
            "text/plain": [
              "<matplotlib.collections.PathCollection at 0x7b819b059790>"
            ]
          },
          "metadata": {},
          "execution_count": 17
        },
        {
          "output_type": "display_data",
          "data": {
            "text/plain": [
              "<Figure size 640x480 with 1 Axes>"
            ],
            "image/png": "[encoded data removed]"
          },
          "metadata": {}
        }
      ]
    },
    {
      "cell_type": "code",
      "source": [
        "# importing linear regression using sklearn\n",
        "\n",
        "from sklearn.linear_model import LinearRegression"
      ],
      "metadata": {
        "id": "Zp6uZdehQ1v2"
      },
      "execution_count": 18,
      "outputs": []
    },
    {
      "cell_type": "code",
      "source": [
        "# initialize and trained the model of linear regression\n",
        "\n",
        "lr = LinearRegression()\n",
        "lr. fit(X,y)\n",
        "print(lr.coef_)\n",
        "print(lr.intercept_)"
      ],
      "metadata": {
        "colab": {
          "base_uri": "https://localhost:8080/"
        },
        "id": "FD8fa5g5Q-OH",
        "outputId": "1bea99ea-e550-411a-e20b-596b9775992e"
      },
      "execution_count": 19,
      "outputs": [
        {
          "output_type": "stream",
          "name": "stdout",
          "text": [
            "[27.82809103]\n",
            "-2.29474455867698\n"
          ]
        }
      ]
    },
    {
      "cell_type": "code",
      "source": [
        "# importing redge from skleran\n",
        "\n",
        "from sklearn.linear_model import Ridge"
      ],
      "metadata": {
        "id": "fUB7t6zMRfAw"
      },
      "execution_count": 20,
      "outputs": []
    },
    {
      "cell_type": "code",
      "source": [
        "# intialize and trained the model of ridge with alpha 10\n",
        "\n",
        "rr = Ridge(alpha=10)\n",
        "rr.fit(X,y)\n",
        "print(rr.coef_)\n",
        "print(rr.intercept_)\n"
      ],
      "metadata": {
        "colab": {
          "base_uri": "https://localhost:8080/"
        },
        "id": "I2sazFCbRNCf",
        "outputId": "7b2df78b-a57e-4697-cd33-1bbb8ab7ced9"
      },
      "execution_count": 21,
      "outputs": [
        {
          "output_type": "stream",
          "name": "stdout",
          "text": [
            "[24.9546267]\n",
            "-2.1269130035235735\n"
          ]
        }
      ]
    },
    {
      "cell_type": "code",
      "source": [
        "# intialize and trained the model of ridge with alpha 100\n",
        "\n",
        "rr = Ridge(alpha=100)\n",
        "rr.fit(X,y)\n",
        "print(rr.coef_)\n",
        "print(rr.intercept_)"
      ],
      "metadata": {
        "colab": {
          "base_uri": "https://localhost:8080/"
        },
        "id": "cr4NbRQMRp44",
        "outputId": "530cd3fa-a16f-48ae-ade6-18c00ec2c475"
      },
      "execution_count": 22,
      "outputs": [
        {
          "output_type": "stream",
          "name": "stdout",
          "text": [
            "[12.93442104]\n",
            "-1.4248441496033308\n"
          ]
        }
      ]
    },
    {
      "cell_type": "code",
      "source": [
        "# ploting the all three alpha and lr.predict\n",
        "plt.plot(X,y, \"b. \")\n",
        "plt.plot(X, lr.predict(X), \"red\",label='alpha=0')\n",
        "plt.plot(X, rr.predict(X), \"green\",label='alpha=10')\n",
        "plt.plot(X, rr.predict(X), \"orange\",label='alpha=100')\n",
        "plt.legend(loc='upper left')\n",
        "plt.show()"
      ],
      "metadata": {
        "colab": {
          "base_uri": "https://localhost:8080/",
          "height": 430
        },
        "id": "Iizwf6a8Ryyr",
        "outputId": "e9aafd4a-976b-4e22-8271-e10fd52fa186"
      },
      "execution_count": 23,
      "outputs": [
        {
          "output_type": "display_data",
          "data": {
            "text/plain": [
              "<Figure size 640x480 with 1 Axes>"
            ],
            "image/png": "[encoded data removed]"
          },
          "metadata": {}
        }
      ]
    },
    {
      "cell_type": "code",
      "source": [
        "#create a custom MeraRidge class with fit and predict methods to find the slope (m) and intercept (b) using the Ridge regression concept\n",
        "\n",
        "class MeraRidge:\n",
        "\n",
        "    def __init__(self, alpha=0.1):\n",
        "        self.alpha = alpha\n",
        "        self.m = None\n",
        "        self.b = None\n",
        "\n",
        "    def fit(self, X_train, y_train):\n",
        "\n",
        "      num = 0\n",
        "      den = 0\n",
        "\n",
        "      for i in range(X_train.shape[0]):\n",
        "        num = num + (y_train[i] - y_train.mean()) * (X_train[i] - X_train.mean())\n",
        "        den = den + (X_train[i] - X_train.mean()) * (X_train[i] - X_train.mean())\n",
        "\n",
        "      self.m = num/(den + self.alpha)\n",
        "      self.b = y_train.mean() - (self.m * X_train.mean())\n",
        "      print(self.m)\n",
        "      print(self.b)\n",
        "\n",
        "    def predict(self, X_test):\n",
        "      return self.m * X_test + self.b"
      ],
      "metadata": {
        "id": "QmM1YJFFTPxv"
      },
      "execution_count": 24,
      "outputs": []
    },
    {
      "cell_type": "code",
      "source": [
        "# creating a class object and trained on different alpha parameter\n",
        "\n",
        "reg = MeraRidge(alpha=100)\n",
        "reg.fit(X,y)"
      ],
      "metadata": {
        "colab": {
          "base_uri": "https://localhost:8080/"
        },
        "id": "d_SIOe-tVnII",
        "outputId": "86d6863a-d8a8-4a1c-e6ff-a173d14116d4"
      },
      "execution_count": 25,
      "outputs": [
        {
          "output_type": "stream",
          "name": "stdout",
          "text": [
            "[12.93442104]\n",
            "[-1.42484415]\n"
          ]
        }
      ]
    }
  ]
}