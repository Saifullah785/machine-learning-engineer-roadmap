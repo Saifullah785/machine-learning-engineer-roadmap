{
  "nbformat": 4,
  "nbformat_minor": 0,
  "metadata": {
    "colab": {
      "provenance": [],
      "authorship_tag": "ABX9TyPCfZ0H28i69uiNjDWEpvz4",
      "include_colab_link": true
    },
    "kernelspec": {
      "name": "python3",
      "display_name": "Python 3"
    },
    "language_info": {
      "name": "python"
    }
  },
  "cells": [
    {
      "cell_type": "markdown",
      "metadata": {
        "id": "view-in-github",
        "colab_type": "text"
      },
      "source": [
        "<a href=\"https://colab.research.google.com/github/Saifullah785/machine-learning-engineer-roadmap/blob/main/Lecture_23_what_is_feature_engineering/Lecture_23_what_is_feature_engineering.ipynb\" target=\"_parent\"><img src=\"https://colab.research.google.com/assets/colab-badge.svg\" alt=\"Open In Colab\"/></a>"
      ]
    },
    {
      "cell_type": "markdown",
      "source": [
        "# **📘 Feature Engineering**"
      ],
      "metadata": {
        "id": "TyOBLEA1GKbH"
      }
    },
    {
      "cell_type": "markdown",
      "source": [
        "**🚀 What is Feature Engineering?**\n",
        "\n",
        "\n",
        "---\n",
        "\n",
        "\n",
        "Feature Engineering is the process of creating, transforming, or selecting the most useful input variables (features) from raw data so that the machine learning model can understand and learn from them effectively.\n",
        "\n",
        "\n",
        "📌 Think of features as ingredients of a recipe.\n",
        "If ingredients are poor or wrongly prepared, the dish (ML model) fails"
      ],
      "metadata": {
        "id": "q-iYY1_YHmnE"
      }
    },
    {
      "cell_type": "markdown",
      "source": [
        "# **🧠 Real-Life Analogy (For Memory):**\n",
        "\n",
        "\n",
        "---\n",
        "\n",
        "\n",
        "You are a chef (ML Engineer). The raw vegetables (raw data) must be washed, cut, spiced (feature engineering) before cooking (training model).\n",
        "\n",
        "If you cook directly with uncleaned or uncut vegetables, your dish will taste bad (bad model)."
      ],
      "metadata": {
        "id": "d95zV0xaHndM"
      }
    },
    {
      "cell_type": "markdown",
      "source": [
        "# **🧩 Why Feature Engineering Matters?**\n",
        "\n",
        "\n",
        "---\n",
        "\n",
        "\n",
        "✅ Boosts model accuracy\n",
        "\n",
        "✅ Helps model understand hidden patterns\n",
        "\n",
        "✅ Handles real-world dirty data\n",
        "\n",
        "✅ Saves time on training/optimization"
      ],
      "metadata": {
        "id": "BoqX_rv-Howb"
      }
    },
    {
      "cell_type": "markdown",
      "source": [
        "# **🎯 When to do Feature Engineering?**\n",
        "\n",
        "\n",
        "---\n",
        "\n",
        "\n",
        "\n",
        "✅ After data cleaning & EDA\n",
        "\n",
        "✅ Before model building\n",
        "\n",
        "✅ During model improvement (to fix underfitting/overfitting)"
      ],
      "metadata": {
        "id": "GSbjo-VbHool"
      }
    },
    {
      "cell_type": "markdown",
      "source": [
        "# **🧱 Types / Classification of Feature Engineering**\n",
        "\n",
        "---\n",
        "\n"
      ],
      "metadata": {
        "id": "qeWEGoJTHofN"
      }
    },
    {
      "cell_type": "markdown",
      "source": [
        "# **🔹 1. Missing Value Handling**\n",
        "\n",
        "\n",
        "---\n",
        "\n",
        "\n",
        "✔️ Replace or impute missing values"
      ],
      "metadata": {
        "id": "EbvJpy0qHoAu"
      }
    },
    {
      "cell_type": "code",
      "execution_count": null,
      "metadata": {
        "id": "pF21VS6fZqpO"
      },
      "outputs": [],
      "source": [
        "# df['age'].fillna(df['age'].mean(), inplace=True)  # numerical\n",
        "# df['gender'].fillna(df['gender'].mode()[0], inplace=True)  # categorical"
      ]
    },
    {
      "cell_type": "markdown",
      "source": [
        "# **🔹 2. Encoding Categorical Variables**\n",
        "\n",
        "\n",
        "---\n",
        "\n",
        "\n",
        "\n",
        "✔️ Convert text into numbers so ML can understand"
      ],
      "metadata": {
        "id": "3gtD4qPMWrtF"
      }
    },
    {
      "cell_type": "code",
      "source": [
        "# # Label Encoding\n",
        "# from sklearn.preprocessing import LabelEncoder\n",
        "# le = LabelEncoder()\n",
        "# df['gender'] = le.fit_transform(df['gender'])\n",
        "\n",
        "# # One-Hot Encoding\n",
        "# df = pd.get_dummies(df, columns=['city'], drop_first=True)"
      ],
      "metadata": {
        "id": "Prp7f4dkWwN2"
      },
      "execution_count": null,
      "outputs": []
    },
    {
      "cell_type": "markdown",
      "source": [
        "# **🔹 3. Feature Scaling / Normalization**\n",
        "\n",
        "\n",
        "\n",
        "---\n",
        "\n",
        "\n",
        "✔️ Standardize or normalize numbers for ML algorithms"
      ],
      "metadata": {
        "id": "ywxrH8XqW7bE"
      }
    },
    {
      "cell_type": "code",
      "source": [
        "# from sklearn.preprocessing import StandardScaler\n",
        "# scaler = StandardScaler()\n",
        "# df[['income', 'age']] = scaler.fit_transform(df[['income', 'age']])"
      ],
      "metadata": {
        "id": "WpcHO5IuXEqs"
      },
      "execution_count": null,
      "outputs": []
    },
    {
      "cell_type": "markdown",
      "source": [
        "# **🔹 4. Feature Creation / Derivation**\n",
        "\n",
        "\n",
        "---\n",
        "\n",
        "\n",
        "✔️ Combine or generate new features from existing ones"
      ],
      "metadata": {
        "id": "u0nxGIAVXQ8D"
      }
    },
    {
      "cell_type": "code",
      "source": [
        "# # Create 'age_group' based on 'age'\n",
        "# df['age_group'] = pd.cut(df['age'], bins=[0,18,35,60,100], labels=['Teen','Adult','Middle','Senior'])\n",
        "\n",
        "# # Create 'income_per_family_member'\n",
        "# df['income_per_member'] = df['total_income'] / (df['family_members']+1)\n"
      ],
      "metadata": {
        "id": "3uyRnviqXbdB"
      },
      "execution_count": null,
      "outputs": []
    },
    {
      "cell_type": "markdown",
      "source": [
        "# **🔹 5. Date-Time Feature Extraction**\n",
        "\n",
        "\n",
        "---\n",
        "\n",
        "\n",
        "✔️ Extract info from datetime columns"
      ],
      "metadata": {
        "id": "hpKN1ByHXyvO"
      }
    },
    {
      "cell_type": "code",
      "source": [
        "# df['join_date'] = pd.to_datetime(df['join_date'])\n",
        "# df['join_month'] = df['join_date'].dt.month\n",
        "# df['join_weekday'] = df['join_date'].dt.dayofweek\n",
        "# df['join_year'] = df['join_date'].dt.year\n"
      ],
      "metadata": {
        "id": "iInMh8HVX22C"
      },
      "execution_count": null,
      "outputs": []
    },
    {
      "cell_type": "markdown",
      "source": [
        "# **🔹 6. Binning / Discretization**\n",
        "\n",
        "✔️ Convert continuous to categorical (useful in trees)"
      ],
      "metadata": {
        "id": "73IDUzlDX--R"
      }
    },
    {
      "cell_type": "code",
      "source": [
        "# df['age_bin'] = pd.cut(df['age'], bins=[0,20,40,60,100], labels=[\"Teen\",\"Young\",\"Middle\",\"Old\"])\n"
      ],
      "metadata": {
        "id": "n6FmkDSVYGNR"
      },
      "execution_count": null,
      "outputs": []
    },
    {
      "cell_type": "markdown",
      "source": [
        "# **🔹 7. Log / Power Transformation**"
      ],
      "metadata": {
        "id": "ikMz-lOfYVhp"
      }
    },
    {
      "cell_type": "code",
      "source": [
        "# import numpy as np\n",
        "# df['log_salary'] = np.log1p(df['salary'])  # log1p handles 0 safely\n"
      ],
      "metadata": {
        "id": "Is3HwK0cYXUi"
      },
      "execution_count": null,
      "outputs": []
    },
    {
      "cell_type": "markdown",
      "source": [
        "# **🔹 8. Feature Selection**\n",
        "\n",
        "\n",
        "---\n",
        "\n",
        "\n",
        "\n",
        "✔️ Drop useless or highly correlated columns"
      ],
      "metadata": {
        "id": "ale_yLZvYh1S"
      }
    },
    {
      "cell_type": "code",
      "source": [
        "# # Drop high correlation columns\n",
        "# df.drop(['highly_corr_col'], axis=1, inplace=True)\n",
        "\n",
        "# # Drop columns with low variance\n",
        "# from sklearn.feature_selection import VarianceThreshold\n",
        "# sel = VarianceThreshold(threshold=0.01)\n",
        "# df_new = sel.fit_transform(df)\n"
      ],
      "metadata": {
        "id": "hBIdv5V8Ylzh"
      },
      "execution_count": null,
      "outputs": []
    },
    {
      "cell_type": "markdown",
      "source": [
        "# **🧠 Bonus: Best Practices Cheat Sheet**"
      ],
      "metadata": {
        "id": "gKDy02zFY2WB"
      }
    },
    {
      "cell_type": "markdown",
      "source": [
        "![feature_engineering_cheat_sheat.png](data:image/png;base64,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)"
      ],
      "metadata": {
        "id": "K30VR9WYY375"
      }
    },
    {
      "cell_type": "markdown",
      "source": [
        "# **🎯 When Should You Do Which?**"
      ],
      "metadata": {
        "id": "CjUKx0IGY66h"
      }
    },
    {
      "cell_type": "markdown",
      "source": [
        "![feature_engineering_practice_step.png](data:image/png;base64,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)"
      ],
      "metadata": {
        "id": "C0pV-7CiY8OQ"
      }
    }
  ]
}