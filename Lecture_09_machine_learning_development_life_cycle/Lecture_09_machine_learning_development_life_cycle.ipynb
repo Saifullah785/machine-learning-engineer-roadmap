{
  "nbformat": 4,
  "nbformat_minor": 0,
  "metadata": {
    "colab": {
      "provenance": []
    },
    "kernelspec": {
      "name": "python3",
      "display_name": "Python 3"
    },
    "language_info": {
      "name": "python"
    }
  },
  "cells": [
    {
      "cell_type": "markdown",
      "source": [
        "# 📘 Machine Learning Development Life Cycle (MLDLC)"
      ],
      "metadata": {
        "id": "gNcL26H6Z-c0"
      }
    },
    {
      "cell_type": "markdown",
      "source": [
        "# ✅ What is MLDLC?\n",
        "\n",
        "\n",
        "---\n",
        "\n",
        "\n",
        "MLDLC is the step-by-step process followed to build, train, and deploy a machine learning project successfully.\n",
        "\n",
        "like(SDLC)\n",
        "\n",
        "## 🧠 Think of it like cooking a dish:\n",
        "\n",
        "You gather ingredients → prepare → cook → taste → serve → improve."
      ],
      "metadata": {
        "id": "nU9zGqyVZ-1z"
      }
    },
    {
      "cell_type": "markdown",
      "source": [
        "# 🔶 1. Problem Definition / Frame the Problem\n",
        "\n",
        "\n",
        "---\n",
        "\n",
        "\n",
        "\n",
        "## 📌 What it is:\n",
        "\n",
        "Clearly understanding what you want the ML system to solve.\n",
        "\n",
        "## 🧠 Example:\n",
        "\n",
        "You want a smart fridge that tells you when groceries are low.\n",
        "\n",
        "## 🎯 Problem:\n",
        "\n",
        " “Can we build a system that detects low-stock items from camera images?”"
      ],
      "metadata": {
        "id": "hgu6XkNJZ-4i"
      }
    },
    {
      "cell_type": "markdown",
      "source": [
        "# 🔶 2. Data Collection /Gathering Data\n",
        "\n",
        "\n",
        "---\n",
        "\n",
        "\n",
        "\n",
        "## 📌 What it is:\n",
        "\n",
        "Gathering raw data needed to train the model.\n",
        "\n",
        "## 🧠 Example:\n",
        "Your fridge captures 1000s of photos of shelves — with full, half-full, and empty milk cartons.\n",
        "\n",
        "🥛 More examples = better learning."
      ],
      "metadata": {
        "id": "jno7hEjYZ-7T"
      }
    },
    {
      "cell_type": "markdown",
      "source": [
        "# 🔶 3. Data Preprocessing / Cleaning\n",
        "\n",
        "\n",
        "---\n",
        "\n",
        "\n",
        "\n",
        "## 📌 What it is:\n",
        "\n",
        "Making the data usable by fixing errors, missing values, duplicates, noise.\n",
        "\n",
        "## 🧠 Example:\n",
        "\n",
        "Some fridge images are blurry, tilted, or too dark. You remove or fix them.\n",
        "\n",
        "🧽 Like cleaning ingredients before cooking."
      ],
      "metadata": {
        "id": "V4ojKmYzZ--E"
      }
    },
    {
      "cell_type": "markdown",
      "source": [
        "# 🔶4. What is Exploratory Data Analysis (EDA)?\n",
        "\n",
        "\n",
        "---\n",
        "\n",
        "\n",
        "EDA is the detective work we do on our data before training a model.\n",
        "\n",
        "\n",
        "We explore, visualize, and understand the data patterns, distributions, relationships, and anomalies.\n",
        "\n",
        "\n",
        "It’s like getting to know your ingredients before cooking a dish.\n",
        "\n",
        "## 🔷 When Do We Do EDA?\n",
        "\n",
        "✅ After collecting & cleaning data\n",
        "✅ Before training a model\n",
        "✅ As part of Step 4: Feature Engineering\n",
        "\n",
        "## 🧠 Why EDA is Important\n",
        "\n",
        "Understand what features (columns) actually mean\n",
        "\n",
        "Spot errors, missing values, or strange entries\n",
        "\n",
        "Visualize trends and correlations\n",
        "\n",
        "Discover which features affect the output the most"
      ],
      "metadata": {
        "id": "-AwpnDFHZ_BR"
      }
    },
    {
      "cell_type": "markdown",
      "source": [
        "# 🔶 5. Feature Engineering / Selection\n",
        "\n",
        "\n",
        "---\n",
        "\n",
        "\n",
        "## 📌 What it is:\n",
        "\n",
        "Choosing the right input values (features) the model will learn from.\n",
        "\n",
        "## 🧠 Example:\n",
        "\n",
        "From each image, you extract features like:\n",
        "\n",
        "Brightness\n",
        "\n",
        "Number of items on the shelf\n",
        "\n",
        "Barcode presence\n",
        "💡 Better features = smarter model."
      ],
      "metadata": {
        "id": "YKVeG8NrZ_Eh"
      }
    },
    {
      "cell_type": "markdown",
      "source": [
        "# 🔶 6. Model Selection & Training & Esemble Learning\n",
        "\n",
        "\n",
        "---\n",
        "\n",
        "\n",
        "## 📌 What it is:\n",
        "\n",
        "Pick the right algorithm and teach it using the prepared data.\n",
        "\n",
        "## 🧠 Example:\n",
        "\n",
        "You try different algorithms: CNN, Decision Tree, SVM.\n",
        "\n",
        "Then train your fridge model to recognize an “empty milk slot”.\n",
        "\n",
        "\n",
        "🏋️‍♂️ Like a student practicing for exams."
      ],
      "metadata": {
        "id": "L-5x034XZ_IN"
      }
    },
    {
      "cell_type": "markdown",
      "source": [
        "# 🔶 7. Model Evaluation\n",
        "\n",
        "\n",
        "---\n",
        "\n",
        "\n",
        "\n",
        "## 📌 What it is:\n",
        "\n",
        "Test how good your model is using test data it hasn’t seen before.\n",
        "\n",
        "## 🧠 Example:\n",
        "\n",
        "You check: “How often does the fridge correctly detect an empty shelf?”\n",
        "\n",
        "If accuracy is 90%, you're doing great — if it's 50%, go back and improve.\n",
        "\n",
        "🎯 Just like a mock test."
      ],
      "metadata": {
        "id": "WkkWsZ7xZ_K5"
      }
    },
    {
      "cell_type": "markdown",
      "source": [
        "# 🔶 8. Deployment & Monitoring\n",
        "\n",
        "\n",
        "---\n",
        "\n",
        "\n",
        "\n",
        "## 📌 What it is:\n",
        "\n",
        "Put the model into real use + keep checking performance regularly.\n",
        "\n",
        "## 🧠 Example:\n",
        "\n",
        "Your fridge starts alerting you on your phone when milk is low 🍼\n",
        "\n",
        "Over time, if the model starts giving wrong alerts, you retrain it with fresh data.\n",
        "\n",
        "📡 Like launching a product and fixing bugs based on user feedback."
      ],
      "metadata": {
        "id": "gg_lEZaNZ_Nm"
      }
    },
    {
      "cell_type": "markdown",
      "source": [
        "# 🧱 Summary Table – Quick Review"
      ],
      "metadata": {
        "id": "E_ebvsV2Z_QO"
      }
    },
    {
      "cell_type": "markdown",
      "source": [
        "![MLDLS.table.png](data:image/png;base64,iVBORw0KGgoAAAANSUhEUgAAA34AAAHBCAYAAAA2KmmdAAAAAXNSR0IArs4c6QAAAARnQU1BAACxjwv8YQUAAAAJcEhZcwAAEnQAABJ0Ad5mH3gAAGQ5SURBVHhe7d2/iy7Xmej7+w904GBnO9yBYQQTTMMOvHFwBCexmOBuUGDDBTfs4CAcHDyBEScwwnAv4gSbZgKLC9eICS54wCAHgp7gIAdnQBMMusGAHAj2gQkUOBBoQIHBddfPqrWe9TxV63273u63V38/UEhdXbV+P0/V6l/7f5sAAAAAAENj4wcAAAAAg2PjBwAAAACDY+MHAAAAAINj4wcAAAAAg2PjBwAAAACDY+MHAAAAAINj4wcAAAAAg2PjBwAAAACDY+MHAAAAAINj4wcAAAAAg2PjBwAAAACD22Xj95e//CX9HwAAAADg3LDxAwAAAIDB8aOeAAb0Zrp+fjFdXFxO11+lUwAwqq+up8sLl/OeX7vst49v/r/Ppi/+lD4ofPNPH0zvfN/nV3f8p492q28In17FcXl1k04A52W/7/j9+Zvp819fTS++/zQuen987+l0+aOPpi/SdQCwLm/YLqZ3fvN1Ord48/oy5pYnP58+T+dm//zz6Yn/3LMPXM65v43f3Ebrwc+LATC4m+nKx7g8nr6Yrn79+fTNn9Nlezpw47eZp3I+vXjP9abgzj8N559ML959b3r56hYbv9xm7Xio+ZH8jjO3z3f8/vzldP2floB9+v1n0zN3PP2e//hqThpf/+F6eu9Hb01v/z1fHwKg++KXz4wH53fTb9/Neabd0L35+xfhc0/+zm8Jd974/ceX029/9XJ68VS8BCnY+AGP3bLxe/Isvg89K74o/tTF/jfpyt3svfH76qPpbf8OJ76jd/NfYh8uX+/wHlds/PJ743z84rN00QNDfseZ22Xj990//iQu9CdX0yfljwX47wL+8np+Ubp5tWPCADCm/JVm+V29P8eXqSdPnoQ8Un9HcNkUXv3ef7zzxm9+QVm+kGVh4wc8dnnjV+efb1zsx++WneAnEfbe+Bnye9zVp+nEbRyQVx8M8jvO3C4bvzmB/PSTdEbHxg/Apv/47fQyvAyIl6O0IXznxz+JG8Pqwfr59PMn/p53po/DfpCNH4D7om/8pumL6YNn/vxOG6cSG7/zQH7HmdvnRz3zQr94MX34b9+lk4U5uMWRAuO7rz6ZPnj3xfQsvLj548n01o+vp8/Fz0J888/X00/+On61/+J7z6Z3fvXZ9HlKXvVmMv2+4dNUnv9dQ1+e8kvKAM7N19PHP4qx+/Ifl3wSfwT02fTBH9LGsPyO4B8/FC89xcbvj99MN794kX70/GJ68oP3pk/+PVwUbOWf/KJTH/aG8qiN358+nz762TvTZc5Z7nj6w7qd5QvX179/b3qR2/v0xfTe78vvfpabXpcLX/9kepb7/tc/ma7/RSTWP389ffKLd6a3cnlPnk0vfvbJ9CYPffFC+eWfbqb3f5h+ZM3l1Re/+Kz6kTU/lu//6K30u0G+rLem937X/q4mMDZr45e/QOXy2L+mU96/13Hz5JmL6d+9mebsF/6GwnvTO39T/A0FGfd7b/xkecZ73PzutZVHNHOZxsbvz19OH4ZcdjG9/Wulr/6nzHwC6hmfIu9+8y/uXTL/cZrv55z4zfTZr95ZcmX1nDggp1obv605Bu7IPhs/FxQfFb/j9+zHH0w3XxXL+eub6cOfuaD8q7Tgf/CT6T338Xu/iX/2JbzQPHkxvfTn3PHyb1JZP/rYvQJGy49I+Ptfuutehhefp0/jRnDZ+LmXvFcx+J/956tYz7spwT11L4qn+KVqALuaX0r+S354pgdv2OzljeHyUvX1b96JMf/L/Kek8oPavXz4jcr335muXM64TA/r8uVoK/988Rt3/v94kR7Yb03vhOs+nG6Kd4rS3Pato3gxCPf4L2b9NLbh6j+n33Msclbe+L189+V87csfpC+EXTx1G8L88rG8pLx8963Ut6vlr/BdvHCb4XSp//3sH8bzl++KunP+zS9Z7kXFfzEtXJdzqjvmH7n994+nd9K5XJZv3wt+wgOPjvGjnv/gYtef/6sPpi/TuemP19MLf+57Ll5Dbrma3k7fFZxjK8Xgsx+ld5qfvj09C+U/nX7+z/GSOU5PtfET73Fv/W2M8Q//ybWxJ49och3KMX9H8V8/mN7y59wm7+Y//Ilv0o/1P5mufp9yXs/45A3Zc5fH3Kb0nZ+WOfHl9PP/6nLls7eN58QBOVXb+PXMMXBHdtr4Of4rLq9fpmCLx+XPPpm+LjZa+cVF/qjnm38Rf+Xqz5+kpJl/bOvL6YOUbF7+Q/GVle8+n95P53OZ37mg8y9ol/99TqvBZ/81viCV30EAcKbcwz7kkvAXOp2v06YiPUzzS0t+aMbc8mR5yM8Pane8+9vlu1L5O4P+Qf2/4qnt/OPMLygH/Kjn957Wf6wgH/m7esWLwdf/+rn4yviX04dhA7r0KefPi796f/q8uPbL1/GP2rQvKe549+Oib8sXxepxLF6ggq/TF/LSdyXmvtfXff3rt2NZ+cUuv/BUP/L/3fTNn8i5eGzyxs9/ZyfF/bP0RZpnL6eP8yYhx2r+zlX27x9Nb4drc/77Yvq8/GK68+V/j3km/jErR27UNhy88UtyHip/1LMrj2jm3NL+cZf3/0e6xvnil26z5a5561fuvS79VdEnLs/MtfWMT85PbvP24fyFry/md8uLpy635wLz+M/Pif6c2m78OucYuCP7bfyyP30xffyz/NVxd/zwevoyBYm18fObxi9+dz2977+L5wI+/0jW/NWy/5W+WqL8Cfcc3LnM/BenrKOpG8AZqn9n77t/jF8pn79wkzeG4eGaf2/GPVjnB/LyoH7vn9KpIF9bfCV+K/94x2z8rBeq5sXA+25684ePpg/8V5H/xr345B+Xckd+wcr5s/kK8fw7kbltue/lRjjJ4xZe5tx16av01hHqzn2XLyjyx2v/LX1l3r3ovf2Lj6cvvmbDh8dq2fhVxw8+nL4swyK/25jHkm++++qz6aNfvTdd/ehy2UT6I+eRZqNWbFbmYylvv41fZx7R9ObVP7vnQfiC2YvphbaJcjbHJ+dd8R3I3J/lp0W8/IW3/AzozamOzO8HzDFwF/bf+GX//vH0Mr28/CS9rKkbv+JHBJ78tf9xrA+mj373fvpqSwo6IwF5OXnNG79Ux9v/7ZPpk9+1x2d/5GUEeAjmF4zff5f+v9yspRcr/8Wg/GCtHuj5QV3cE4jzPfnH631BcQ7f+BVfNX7qf4To/en6//1ouhJ/BGIej+YlKr9k5rZZfXeqXJqvezZd/VrPl1/433Gx8q9yvvrdQ3c8+cH70w2/W41HR/yo53dfT5/9Mn1nvvhi+BxDz65c3tFi8IuQ0+ZfdfG/V/vue9P7r387ffRT8c/eNPH49XTzf8Ufu1yOj+cv3uy68evJI5pcR0denX9M1h3yx8e7xqfJu1HuT/1NAZlDe3OqI+vpnGPgrpxu4+fIgNICLH8l/+J//3j5tr1MmnPgtN8Sz//mV7PxK38RGMCDk3PDk7/7YArf/aviP//zDZfTB7+M160/uLP6fFf+8Q54QTl44zf/WOv7xe8g53YqG7/wz1UU5rblf2Nw6eP8I01Zrtu9fC4bvyfTz/+QPq+RLzaZdd7Nzdf/+sn0wd+mzWzzeWB0Sg5xr/f5j1bNv4qSY+jJz6fP5tiX8k8pPJve/5d0ymnyjBmPuv03fht5RJPr2Mqr849kPp2e+mdB+WOZveOz08ZvPacWH8t5WZ1j4O7ssvF78w/vT9d/+Lr+60TfuMSXfpel/j2cIuk5c3AWvxfS/Fs3f85JVPwM+TefTFfpq8s5aPMfeagTg/Pnb6ab33xSJTAAZyx/J++pe9i7/86/q5HMf9Dlmf/ij/w9EvngzurzXfnHK15Qlh8n1W2+UMkXg/zx33zY/sEHd8iNX/Udg/K7hT/+bcrBuY/iH4ouvrv5lv9dGefzv0s/ElWV6Xz35fTRP2z87pA4//Ufv6x/V/K7T6af+M93bJaBsWgbP8fFTIzrvIHIP9Luv4u1vBd53/3bR9PHYSOzlLX8btoSy80G4843fp15RJPr2MgRn/9dzHH+XTLn/SW3dY6PzLvJYRu/7Zza1tMzx8Dd2WfjlxNI8ccM5t/xe/Ze+ktMxXXuJe3tn15Nb/83Fxj/8n56yXKB5/8alP9rTM/ii16ZNOc/YOCO8Jebfur/7O7T6cUP6+/4VQE//5W8+BdAexMigHOQv5Ibj/JFI5hfGtzR/P5v38avN/8sX3xyx9+8nN5792r6qCp3cfDGL//hGnfEv0T8crp8kr6y7c7Jjd9bf/VW+iul5V/1fFH0M/fxmbvW/7il/yvIxV+ge7rk5PILdPNfNg251X2c22e9UIrzod/aX0ct/7gO8CgYGz8n/6GSi+cfhk3S8oWmHKv+99Tie02M/a+nj/82xVL4q5M+tp7Mf9F8M04N2ntbPl7+364Eozxt49eVRzRFDpd/3OXZ99+fPvPXpD/m4v8S6hd+U1l89++9f/Jf6uocn102fh05Valne46Bu7PLxu+7P/42/jtYOfD94n7mgv9X4t9wcZuyj38cF7s/nv4ihPX05W9+Mv/bL/HfTsl/Va9MmvHfTpn/jZj0b7R8mZJXFbTfvZk++Vn973I9+6F7UftnXj+Ah2T+SnL5FzZny1dS/eai/u3dzo2f05d/XAb6w/vL7689eWf6KP1VUOngjZ8Tys75M/y7Up+ndrYbP/9TD/7fJcxfXAv/3l/1F+2KPv7bl9NHc85N/z6h/J27P7m6fny5/FEb9yJ4+aP3lzI7N37f/fOH4t/Rupze+UX9l52Bx8He+C1/qORievH3MaLCv1GsxM78/vTNZ8W/n/ls+snrz+d/w3jOI8du/JQjvE8dsvHztvKIptj4tceV20zdTO+FsXri6lvKyX+9fd5w9YzPLhu/jpxq1LM5x8AdOenv+N2FHLT8WygARma+cDWsTS8A4HDkVIzjQW/8vvu3D9PPy789fWT91SgAGAAbPwC4D+RUjOPBbPze/P3b07PvF78/kr+t7w75C7MAMBo2fgBwH8ipGMeD2fh9/U8/n158v/j56PB7ey+nD373RvxuDwCMh40fANwHcirG8eB/xw8AAAAAsI6NHwAAAAAMjo0fAAAAAAyOjR8AAAAADI6NHwAAAAAMjo0fAAAAAAyOjR8AAAAADI6NHwAAAAAMjo0fAAAAAAxul43fH//4Rw4ODg4ODg4ODg4ODo4zPfiOHwAAAAAMjo0fAAAAAAyOjR8AAAAADI6NHwAAAAAMjo0fAAAAAAyOjR8AAAAADI6NHwAAAAAMjo0fAAAAAAyOjR8AAAAADI6NHwAAAAAMjo0fAAAAAAyOjR8AAAAADI6NHwAAAAAMjo0fAAAAAAyOjR8AAAAADI6NHwAAAAAMjo0fAAAAAAyOjR8AAAAADI6NHwAAAAAMjo0fAAAAAAzu0W78bl5dTBevbtJHtjevL6eLi6tp+8qH6s10/dyNxYU7nl+7j4DBfXoV17s7rj5N587ZV9fT5cXldP1V+vjRu5mu3NxdviZbAfvb+50gldfxvvUghefJQ83PY+XS8F5frNnw/s57beM0Gz//onLUYBcJpzr233g9rI1fDM52XNxxq2TaJuSj+xteTntepHlpw7a4DsVaD8ctH7DKQ1o+LM4OGz+BHIIzlp6F+vrM7zj6Mzbkont93zhgk9b9zGfjd74eci5t287Gr8/uG7/5he02Gz+RIGIy3DewHuLGrw3O/BA58jsXSuLec+OnBx0vbdhmrsP83bojk7m2ydPOnZWdN369uS/H6lG55aTIIThn6bms5pS4dvX3mVNtkA6I4+7NnHPmG7/+PHdLR2789PejnXQ/Mx5yLm3bLp/lJx3jB2y/jV9+IcvHUYNtJYj9F2dvUjh6I7Sr9f7HNh7xYnhIkj8CQYdjrcddjIdjHupnv8nTsPET9n8eAHsy81fxntSs3/Q83n9dHxDHJ3knYOOnOen70aPY+LXY+PXZbeNXDvDxg20niL2DuLc8M4Hfqa3gPDJ42fjhTG3F3bFxKR8MDwIbP2GslxUMKG3wZOzE/HM1XWnvOUduILYdEMds/A7Hxu9syOc776C6k/yO3/GD3bnxmxd1ul4u3OKravFoA2AuLyW6+VrRbusFM9xf3FclSqV94Ujtj2Xm8/sEp1zwXl1Pfb9svz98H5r+FgmkvkeMSRrHMA5yTMOR+2n1JZ4v75HXLOtKXHsXyR13yoq7WbneZnINyXVcfs4dKV5k7ISPldygxp8sV8Rgzchv6ktivDbUGeroiEFHxnyVX5q86A99jLX8ULd7O151Iicq97V9kG0sc4gxpp7yQib7VY85sJcUH9W6XGJay28yD63GsteRF7bjeKFduzzPfT1L7C55qY0h2e7L1zdGjCr52thEHRS3m3muzUHWmLT629yOQ5pZ+cwIR32/eW9Fy8H/s+1bOK/d75W5tKSVvVwj12qQ+iXLCtea4xvr8fNZzXEuW8xlPe9t22W7wjiKduZ67DEZ3wPZ+IkJTono8rmVIPQgKhdNXCC+jLKdabHLhaMljfK+tDjn8ufALtqRrvFtLvsX21uWr2kXuCTb2ZSrBWU6V45L09+5L+V1yhhYZTXrQOlLHhulbeVY5Xnc7BcevDbuJC0n1OtAi60Y9/WalOfifeI6GeNec06JC0Hr17yuy7wX+pPyR46FzbrcmGh908bAfBCX4hhXffY647Wl5Hd339VcTvq81t4qp9dzb62Vel6V8dLmFNhJvf4cJaabeJ5joyOWD8kLveu8aZeT2t28bynXNm3M7fHtbPKbyCEpHutYPz5uQ1tkPspjVp2P41OPmaK7zfZclfeGvKXU2XOv2g93bs6l4fNivlR1Lg168nu4RpSfx+KgtZfGvrwm99e/KxdlxTxf1tm2PYydvKf4OI5tz7iM7QFs/JTAzwujXJjeymKXC6IJriyVnRdh81KhLXinKl9tX06Aok5Rn04JTqFqp1Fm0xflOuuapm45DlZZzTqQfYnjovZN1BHbtjH2GEKzDhv1OtLXwPaDwZPnwsdN3TI3abnK2Yrn5vOxnKtXbq0XbahipzcGNeHe+prQP9luVRy/ui/98drSyiuE+7U5l2Mt5lUdc1GX0TZ93QA7UJ9feX33rGFBxnJ3XtiIu5LWDqseea1s3yzWX+YcKwc1z/hbxK1Wh5n7tH4L3W02ypLPtCrHZ133Gs+ekjkXkliHqexmrr1qLuR9cXwu3XPssszh4R4tp2ft2vDCWDftl3XqbbCeo3qZj9N5bvz8QigPucDXgsOqVyQQK4jlYqoDzr6vus4IOrkoA6MvtXaBS2X95jjIJKrULftrJhB5r1VW0w7RF6v8QJkLpV9Nm/Hgbc9puTbi/7cx1D4gtRiU56wYr64z1+1WrIoHayjH9VOUV7XBqiucV/od4tzdXxzlNVb/Wsq4mv32+vpuPXzX2lWvh7aeam488cJhlU3uwMmI+JRrsFqz1gvyWix35wUrPyq0nKKd88R56/k8x/3c95U8Id5RbhO37b1r49A+K2or94o2m+PQcV3XvdZ8lMI1ytpoiLlYva++th5f/zl/Xz1O9prI9HHV51e0tfk4tamoL9d/E8rrGY/H4cH8jl/FWJxy0iudCUUupnoB5hcX60jXHdK+niBWFrhU9if8f9Wu8ijapdTdBJyVCOS9VlnNfIi+iHmpKXOhzG/TZjx4m3Narsu09vT17o4izrUYlOfKWCpV14V16z42jrVYLddx+P9QV8wt8b647uvY6o/BNn7ruLT61xLt8A6IV0uoP7SzvHY999frQamnapcsqzNvA7sq16EVS3HtyRzUFcvh4468oNVtUfJFbz1NH2YiHrU6Mi2O3bX6sR63TZ5bq1e2Uepuc6q3amd5LNeVz4Gs697VHJxYc9YQuXS1bO3aNAf+/1NflnGPY7r+PNDXpv78F/U3H6e6izGN5cTxW2/H4zLUxm+1Xi041XrqhSgXoH1fwWifXJTBajLK2gVeU9rcM/5K3bK/ZgKR91plNe0QfbHKD+prrX41bcaDtzWn9Vqo1/8aLQblOSvGq+tW1+2GORfFfFfFra+3fKB6XTFo5E4lLq3+tZRxPSBeN4V+Lm1Za1e9HrR6inNKG/v7DOxnXrfi/SOYY1Ou585YtmJRXqfFsaW51+msp87JJdEfrY6s+z1tW3vv2jhsvXuu3CvabI9DTbuu615rPko91wRi7a3ep10bx8SP9Xzej4fvQ1cb9HGd4yZ9HIn6m49jO8rxm8czPWvKax+zoTZ+MgBLckGEj7UXSy2Ii+v0BSkY7ZNtCIrgsbULfJHGrCx3ZRwqSt1N/6yxlvdaZTXrYDt4Z9pcKOuqa07woKzOaUriy1rrzBuOFoNqblDKqq9bi8kt8d6r1z5mij6Gfl1N177vZf1dMaiPQRzHOi6t/rVSO4t7V/vdm3cKZUzbcy77prchlxV+rEfM8ep6Ak4lxcTVq3ZN5nUdfy+qjJvOWO59NqtxbFCe4931WPGfrlv6Y+frkJuKMm4Tt22es+tV+13pb3NvHsz5qloTXfeu5ODMmrOGLOuQ/J7Wr3uOxR/zTKdz3a/d9c2al/S1qc/7dlvrZ7QY49B+o2+PzB1u/FLgrC6ElcAsrSzqJgiduIjqc/E6UVeToPK95QKMi63ph1tU8+I12icXZZDqtBOOZwRjbq811jJw3PXLX9BzlLqb/hp9ae5VytKTmNIXLSBTeeU5fV1pc4SHzprTHLdNvBhJ/ca9VJVlaDEoz4WPrQd8cV1so2yLi71X7RqVfFnyL/y6sy42/F/PE2V2xmBoXxO7/lxdXn+8GPm4M15brn9VWbJ8PW81/fLlaHUZ/Y3iPU3+KPM2sLu07rT16uQcsrnmtbUdznU8m6041jT3OofWU/UlnxP1azkknavfGY6PWzXPpTa3eVeeU3S3Wc9jvu7q/SvcK8f1kHtFW6prjBzZUK4zyvbjJssLY9z8dfzYB/98661fzqX+jJJtbduuPqOVZ/Z2u8Y23MbPy5O7HHIBpQXi6pHXqgu7uT8HZ3GU/TLaJxdlkAJqPYnFBV7VFw57DLz48CiPNpnIupv+WmMt71X7UY5TLkNJNF66v2yvmgyU9aPPER4yGZfzsZYblDUk15kWg/Jczg2SGr/zg3851mM5SffJa2PMinjrjcEq3tzh26rGZZlPNuKm7F85Jh3x2lLymDXO5TVNzBs5ZO6/1aeNvA2cQF7Panzk+GrioCOWu/OCY8WxpN17SD1NjPn70jlZr8yd/vPhnKzr2Li18lybh7o3At1tVvJYk5fKftX3b9/rpPFfrqnLKJ+hdv+MXNqUbazfdJ28P9et3lOJ9cvr9Hc62da27WHcirURyhFrZR6XR5z7T7LxAwAAALqFTZT1hRsAe2DjBwAAgHslv2MDYH9s/AAAAHAn/I/b6T/e1/7IJIB9sfEDAADA3ZC/KxcOfsQTuAts/AAAAABgcGz8AAAAAGBwbPwAAAAAYHBs/AAAAABgcGz8AAAAAGBwbPwAAAAAYHBs/AAAAABgcGz8AAAAAGBwbPwAAAAAYHBs/AAAAABgcGz8AAAAAGBwbPwAAAAAYHBs/AAAAABgcGz8AAAAAGBwbPwAAAAAYHBs/AAAAABgcGz8AAAAAGBwu2z8vv32Ww4ODg4ODg4ODg4ODo4zPfiOHwAAAAAMjo0fAAAAAAyOjR8AAAAADI6NHwAAAAAMjo0fAAAAAAyOjR8AAAAADI6NHwAAAAAMjo0fAAAAAAyOjR8AAAAADI6NHwAAAAAMjo0fAAAAAAyOjR8AAAAADI6NHwAAAAAMjo0fAAAAAAyOjR8AAAAADI6NHwAAAAAMjo0fAAAAAAyOjR8AAAAADI6NHwAAAAAMjo0fAAAAAAyOjd9ZuJmuLi6my9dv0sfuzKuL6eL59bScAbC/GHtXn6YP792b6fq5i/1XN+ljAI9ReAcgDxwh5VCX1/d6h3rz+tKVd+WeFufm3J5feAh23PjFBRiCLRyX0/VX6VPdioCVx1lugmSf03Fwsr7fjd/5JjUgr08RYyJejsfGD8COvrqeLkWukkdP7rqzjd+nV3Y9si/GdaGt83XGu19nWbdzSP5s37ssbPwwkp02fu3ii4ng0M2fHbQ5sRz1shcSzjEbUVtuTxNwvq6DE9pdbfz0JMHGD2cpvyhocbD2smJR88C5PTiP3PidIMcBuL1jn6/hHeDgd4nD5PcYtZ6Uf5fcGHOlvFa+q8T+ilzUWdatNfWsad+7LI9q48ezZHi7bfxumoXXH1SLjZce/7J3zCLfeSHvnwTasbrLjR9wfo7JHxvUPHBuMcHGDxjJOW78Yptc+flQ6lHrD+9gRZ5R806bw7rK2kNoz/75nI0fRnLC3/E75gVm654zeCk6SWJh4weUTrL+1TzAxg/A6Zzjxq8sW6/Hyov1u0rom5Kn6z73lSWFMo7Kg/vnczZ+GMkD2/hpARgXvv7Vq1Se+PySaNbu1VmJbk1sc1mPTCBtAtRffGV7tUSk9Nn1KZRXnkvnwx1GUuttt0869bUkDdzGsq76rcXyWh44bA3LmJAvLfNLVPrpBD1GF215N0oOPLZv3tq9AE4txrj+7FyLy3ZDtsR6mRu3ctIWdeNnfjcutSFcX/6/UN7fVVYr9Mv4nEZ7xwnjNG9klvErc38zXmnzOJfj3sNuuubQfd7oq2zb5rOt2Hyt3xvb0Pv8Wp5L2nXL+JRHNT6r92ft2t7sL+7U6TZ+R33lZT0RBCKw/GKv6kj1Vou1CKJS172VjvZVciDVCSMGctmeNgGFa8qNn9K2WE5Zdgq4asPozs3tXZJEKSaMspzD2u0De71dwAHMFwXb8Xmgfw0356yYfH7Z9Xu+bR3Fg7e4/25zHIA9tc/XvrgM+WHOA2vP5PWctKWuJwk5uK4rW66PbVLrKvNRV1mtMG7G50yp/+3Yupzs8rKW+6v2p41NeX+cv45xTvfWz640b+U7mVJHY26z3pbl3KHPr3oM2vKccu4KfffrY7raV9y5E2380mI8NGhzkKzdF4KmXZSlJpkYC1mzloi62lcKbdUSniynDZbQjiJZyI+j+j79mlK8XgZhDN6inQe2uxmPlBQJdhzFivFw3q23fKyu9RQP5dpU80DnGjbWtIydUKcaO4KZk4z2CH190zX3AjiZ5vlqkHG5fJyeu7KMzpy0Rc0H5jtAuj7k3tiu6iU/K9vWVVYr9OPQPKWNSTrXtrN+f8rjrPUntLPogzpmThz7Ig8bz7K1fgdmm+W9hzy/9OdD0xbt2t77V67D+dh/45dfztYWtUluLBRqIOXEWBxbC3m2cW+lo30FKzl4dXKWCUgGY/y8TPB1e9oyWno58kFxaLvbdvW0BTAYD8tSWIdNnB6TB/rWsF6fI9raPEQNZnm5D038HdO3bONeACcjn6+L9bjMz+HwX+X+3py0RX3ehzK0NpfXx/arz/kyH3WVFT4KObcaD3G0eVoI9YrrtHOBeE9ZyaH1HK6832jPgyaXr62J5MC2HP388uR6Ueruvz/P4UrfcO923fjFBWkERBfrpWchF2BMinWd4Vy5SI0g6rpX2Pr8Yr0vWvCa7UiJKye/5vB1pGvWE6OeJOq2HN7uzYQKHKJjLe+XB/rWcC5fP5Yyw3Ur+Str2jZr4+/4vnXeC+Bk6mdm1BOX+Rp/aLmw/Hx7tLnAEsqROUtuBmZlflp5Vyjv7yqrFcbN+JxJe3YYudH1vH5PMdsp5nDt+VSVkfo3z4k86jVRMdss2pL60PX8snK+7LdS90H3i36r44R7tdvGLyeh203yeiLIn98K1GaRakHUe69k3KcJZa0lNRG89kPACu7S8dfIB9Oh7W7rbPsD9NvKA2kd5vi4TR7oXMNVfSvWYqdklyf6fh85DsBu5PO1Ny5zLon3G8/tHeJYzVkhn2znRSuXVH3uLEsKZXTk0opWl5r3PVG/eV1vfxwxt+rY9thqyzzmOzy/5HpU6j7o/kIcN3uOcT/22fitBcJB1l/4QhBtJtC44KtFqgVR772N1MbVa6IqWVRkP0UCcuqEuv0i3HeNniRkOw9t91bSAQ4W4tPOKdWD6DZ5oHcNrzzcSt0Pequ8lEvnMm7Tt957AZxM8zztjMsyl8QyRJ7qzElb9JxlvE/IOtU2yHs7yxJCn5t2bdDeRdW874kc33ycpfbPc2j0x4nvqEtd9rvUhtQPsy1z3bHNt3l+1e+aTvezJGruF/T1hfu0y8avegkzpQW7ep0VUCkpygBSgiMGnqxHCejuezVGezwfIHP7ZcKIYj3lubZ9TTCFwBN9cG5eFeWkPtXj58qW7RHj2yanw9q9mXSAI+SXHW0dVfFxmzzQvYb1mPB1X8l6m/yl0crL54oy7i3HAdhD83ztjEuZS/I1S67qy0lbZD2z9M6x1Kflz9SGot3qZqerrFoopyuXFtLYVvk8nOvZ+OW21/fnc1WftPexdK7eIMU6mnzrrq3aKKV+yM1WXANt+W1Zbd/ae3Pf5Njoc9N1f7P29LJwv/bb+IVFqh15UbQJolW8+IjDDJI52JbrwgIV9ZRtnBdh570Wq9+yrTFgiqMp3whSed2cDJajDahYVnlN1Z6yzympxn6IRO30trudG4Ide2nXczzEw+roPHDYGm5iQsRN+Hz3y4rMd75P6VxZxj3mOAC3oz5fO+JSyyXhnL+nOD+fm4/2Wb5Gq2cm2qk/02UeM+rvKuuWbrnx8+R7nf98zxyGMQznZF3Ke+1W/p3bLJ9/cmwPe37JvllzpT5LnM37u95Rcd92/eMuAAAAwKMTNn7GxvcQ5mYVuD02fgAAAMAtyO/aHo2NH06IjR8AAADQwf/Io/zxyvhjkDtt1tj44YTY+AEAAAA95O/3hWOHH/HM2PjhhNj4AQAAAMDg2PgBAAAAwODY+AEAAADA4Nj4AQAAAMDg2PgBAAAAwODY+AEAAADA4Nj4AQAAAMDg2PgBAAAAwODY+AEAAADA4Nj4AQAAAMDg2PgBAAAAwODY+AEAAADA4Nj4AQAAAMDg2PgBAAAAwODY+AEAAADA4Nj4AQAAAMDg2PgBAAAAwOB22fh9++23HBwcHBwcHBwcHBwcHGd68B0/AAAAABgcGz8AAAAAGBwbPwAAAAAYHBs/AAAAABgcGz8AAAAAGBwbPwAAAAAYHBs/AAAAABgcGz8AAAAAGBwbPwAAAAAYHBs/AAAAABgcGz8AAAAAGBwbPwAAAAAYHBs/AAAAABgcGz8AAAAAGBwbPwAAAAAYHBs/AAAAABgcGz8AAAAAGBwbPwAAAAAYHBs/AAAAABgcGz8AAAAAGBwbv1P66nq6vLiYrj5NHwPY2c105WLs8vWb9PFj8Vj7DeBBCe9Bl9P1V+njFTevLqaL59cTWW3f/B7G9dVN+mhvsa285z4cu238wsJyk78cV245HOrNdP1clpOOs0wGccE3bc0Bdt8bPzaeGMCb15dtjM0vEmz8RhPn+5jnB3AurHeZvg3QUNj4HYGNH05np42fm/hqUeWkd+jDO92nLNC8sTwqEA5IPL1ye5rF7uti4wfcXlq/2ovAzSs2fmz8gHOlv8vkL2I9qmfyAe9fbPyyx73xC3HCOjiZ0/2o51GbDnvjF3x6dVzSPCDx9Oh+MWHjBRyp98HHxg/AubHeZTbecUbExu8IbPxYB6dzwt/xO2YxbCXFI5Pmnhu/QzZzbPyAo/S/ALDxA3Bu7HeV076EnyE2fkdg48c6OJ0Tf8fv0M3W9sau/W5bXHTx5+fTMd+fyhOfX4Jp7V7dQQvS2PjFPix1NsGdvrNZHnUZS6DVZYnxburvvC9p23lz3MYbOMghD5J4bRNDae3P67eJWSU3iGvmh6Uoq+thvFcMJ6Et8zX+PqPfmqYtbR1zX+drixyrjOVNaHOZh7fHM/QznIttn68T+SSORy5bz+HxWHsOlJ8D7pr1LhPPy7htn7X159v49EeO4/V4imR81HWE8psc6SjvMFttbYQyYlvbPJauSep2WGPYtrcdnxj/2vn/U9y76Mupsv9tronl+L7N/VXnZDFflw49v7dzWJdr1zuPw2zJq3IOZt3zttRbj43+LFsdP/msCYcop+N5lttUXmf28xE60cZPW7Q97ECfhUlfJtovompC08Kp6i4WcKnr3kpH+0qpvLKOGEDtQl/q9HXUiSQGStn+ZVGXbbXKXurvvM9pzy2Jorv/wDFEjK9Tck16MCzrPq3d8mHvrqnjPMVGsbbnh524ry5bs2MMa2037tXE8uqxzA/eJi89v1x+PzlT+pvvr9rZMZ7qfUrOjdfV41eRbVLKaMcRuEspbkU8aeuyOWeu57K8nBdczJbxrdyb46U6l66bywvXtDlXxmJPWxvhGtdO114tj7R5KOc6fQy9+rr8cZu/1POdfW2l9qjz1+b2S1dv2Tddf3737avKa8berje0Ua6d1b463fOmtzeOS1lH7/ilOqoxicxrlfZUa9LNuRyTx2y/jV9OJOFog6qPHegzI2hL9SJ30gLuaVNzb6WjfaU0JvOCkx8n2wknLuQm0GQ7Nus75D5tvIz7gT11xPhCJnkjRo3YK8mHTfvg8g7MAbMjYziMhZIb0nXVw00y4zj1rbOvWh369TU5njHPte2RbVnPh3K+2/uj9jrg7qQ84WO8OJr8Y+QlGQNqvIXc0K7xOh7sGK7zrBYv4t7OtjZWcpWMXa3tWq5V71PaoJ/XyrXrmlm5uLnXyO2a2+R3J/Svo97lutTWtfnKuufNqFeul+7xc2fEsyMI5XU8z1auQ3Si7/jlxXXo4PcGnyw311cc5aJZXQgb91Y62lcSC19dzJ7Wp3Rv2a4lAGOgNQ+RdN5O1H332Yn8wP4Dx1Bj3KKtee1ecV0SXwzKY1n39UN1UT/0VuwQw1Yb5HUaM994YozVPjX5Y2HliLXxtNojy9rMP1UZ1jiSq3Cf5PpLH4t1bcaoFp9yLRvxWcWymQ+9Ooc0cSfu7W1rY6UNss46D9kxLPOV/Dizzm/1VRPKMvJJXd52bs7sMq0y8joqjrl/dr25nvBfsQZN3fNm5eC6Pf3jlz4W86adm1VrMNbb3c9H6IR/3OWYB+/2PXLy40KuF3s4Vy4QYwF33Stsfb4S6l0CItenH3LRlu2VAd0XaLL+3vvsPh4zp8CBmnW7Rqz58ADIMdUe+br4oHHnirUsHz4hDpS1vp0DYptuH8Nr8SbLa622s+fFcuWFTo5Vz3iGj5X26GW1D+14XrQnrZVyjqtDHTvg1LTYTXmhOBfiTq7Z+diITyNPVnG/uikTOUR7XynitbetjVBuXx6p67Tzn9o26zrlvOyrlZsW6+8+dT+s3C4dlt/z+Dfn5nbb9eZ7/bHdrqR73qx6yz4cMn7pYzEfdV+FZp2n+g7t8yNxwo3fxkSp1hdH/vy88I2k1tSrLeDee6XVRCocnFys+mUS6Ak0R9Tfe589BlvzA+zhkHWmrfmN+GziIpIPnxAHShu2csSeMWy1oS2vtZpvRB5T61nJddVYdY6n1R71uuLjINXR9tcaR+A+6Tksru0lpqyYkNT4NOKuyj+r+VDmkLLNbVz1trWx0gZZpsydVv476DrlvLd8TrxXGtbKqnNWf06yyxRz0/W+ateb64nt7MyX3fNm1Vv3oX/82nXhaedmm8+q7fl9TB7Ud/zCwilfCNTJjoutWiDaAu69t5HauHpNIhPzyuLM6kBOwn3lwu0LtKb+3vusdqbyDptT4AhpzbdrVRJrt/lY0cSFl+K6yC/Wg0qN0cKeMSwfiLOmPIUVx45so95XayzFWHWOp/Xgln1s+7yWc9PnyEk4K9a6FGt5JUZLanyqcSdjeyUfanWHcy728n/T6aCzrY3UTjOPFP1S81IT97FPzXVKDrDOB2t9VZi5uOmHldtb3fldHXs5Dna95TjEOjva1z1vVr3xfL6/f/zStXLeV9afvk4Wq+vgEdpl4+cnSU0+1SSLhKdqF0CUFrhcNMrCjPXKeuoFGHTfqzHa4/nFmdvfJObUP6UfV1VwlIs711W2NZ7bCrS2/s771Hbmc+4ggHAH8gOqitvAr8UcI3LtLvfV69zd8yrHdbynedD4c8Watx4W4fxKjtg1hvO9Sj7Tx6YWc1r9sGzbl65T+qqNZTtWqT0b4xnOKeMWrxXXNR/X7a3Il6Tk5tVSBnC30vNSe1am9RpjSnvWOsU7gafGZ/N8j5r8pMVHurfNH2u5pa+tjVSXmnO0cxttj/fV16nj41jno5Rr3bPEvqak9z+2pzwXy21zuyaN91Z+V+arHQe7XjkO+d7VNnbPm1VvPL+0uXf8nDDvbc5v63alyudDsx5lO7DPd/zmBVIc1UL20qQ350t5YbSHuUBTYiivC4tD1BMXR7xmXgCd91rKMmU5QRoX2fa4eMtDC4Tyc3LhdgZaU3/nfYGcCx9Y6VxXkgT2ENfmsg7TIR52TVIXse2Pat2LnOXvlxuOEIfWy8RGjtgthgM5Blp5tjZP1fnGs/rqyfu1seoZz/CxMm7qdfljZR6Xw67fHz1jA5zG2rMyP1uX9Vvni/pznhqfa+8XMs6U+GhzTxTb0r50Z1ttbYS6fXlaHqtpbY/5YLnPt1teFz62crWR17xctjUWmqb/TU6zcrulM79vvq/a9WrjMPfDGp/uebPqVfrgbI+fV75/1mtRroemPTwLNp30d/wwmhiMBBHwuIWHr/rABoCHgTy2Yt74pY8xDDZ+6Je+knLIV8cAjIbv/AN46PTvSCFh4zcsNn5QuIRo/PgCL3vA43Hzqn3wxx/V2fjxLgA4Y/FHBsljJjZ+w2LjB0X589XLwVfGgMel/X0Kd/CjUQAeqCWnselbxcZvWGz8AAAAAGBwbPwAAAAAYHBs/AAAAABgcGz8AAAAAGBwbPwAAAAAYHBs/AAAAABgcGz8AAAAAGBwbPwAAAAAYHBs/AAAAABgcGz8AAAAAGBwbPwAAAAAYHBs/AAAAABgcGz8AAAAAGBwbPwAAAAAYHBs/AAAAABgcGz8AAAAAGBwbPwAAAAAYHC7bPy+/fZbDg4ODg4ODg4ODg4OjjM9+I4fAAAAAAyOjR8AAAAADI6NHwAAAAAMjo0fAAAAAAyOjR8AAAAADI6NHwAAAAAMjo0fAAAAAAyOjR8AAAAADI6NHwAAAAAMjo0fAAAAAAyOjR8AAAAADI6NHwAAAAAMjo0fAAAAAAyOjR8AAAAADI6NHwAAAAAMjo0fAAAAAAyOjR8AAAAADI6NHwAAAAAMjo0fAAAAAAyOjR8AAAAADI6NH4BH4+bVxXTx6iZ91Omr6+ny4nK6/ip9DAAYxM10dXExXX2aPrxT91n33Trq2Xt23kzXzx9+P0608UuDc3HllvUh8n3tcfn6TbpmUJ9eqf2+OOEL55vXl678Q+foLsRkOPycwxTXZhsP9QPy8HUy0sbvfOMXeOzsd5mH//KbhLw4wqbl9puv43MxG7+HhY2fbd7EHLnxu5NBPbOAC2N2ty+XbPxwrtS1mfLKsi7G3Pj1tvGc4neMhzqwl33eZUKMP792pd2d7jqVjd99tPf2HsbG72GO7YKN3/k4wcav/EoXG79u97DxA86V9SAND49bPPxG2vidEzZ+QOkRbPwUD3Nzcp/vgmz8HhY2fjq/gXGL88Z4cVvHxo+NH5Aeclr+CHFyzFdWIzZ+p8HGDyix8Xs42PjdBTZ+52Pnjd+yiM0Xt1W9gxrrmX9mXqkn1l9es7y4hQVYfc4doU67/nBPEXRzEKYfd6g3bdvta3Rs/ObAmeuMh/qjbuIa31a5GW/mqHjBrcdIb78cRy15rV+zrJf5ujD28XzZr737jvNm5o9q49euk0jG33LNvI5mKebdNebD14wL4x5l/dUtbNsXygl9q8+vrdlj43fOXU07lOu0+stctdHmWEbxuWYsgBFtvcuk2JPxkOLp6v8ROSQc+f0g3ts+Nx0lHtUc1Vznyv5srU5FynOhfJnzlHvXc6fSJ3/k8RHtbfrU9EfJW6albpmv5LNlzp1zf2MfrVzZ9jnWtZRr1V2M3drYdub8bH0OnNVxjG0tP9/cvyLUrbzDac+E5rkh1pI1D1l7fz0eW5/P5HWXr2/0uN7s0/KesZQle313dt34zRPrxAHTB9PWsfFLA1wOWlzMYoGKgVevceXUC/fQjd/ldCknuKt9ihBw9eKVYjl1O3KgVv1Qzi0LeGlHM0fF4l3uTWNS9VM519TZc01Kgm4cq/bn880YbpXndPYd583KH3UctutkXsNlDLtzV+macP/8ubRGt9ZFKNPHur6u1tefjAOlze6esoy6jbZj4zfc53NX1e92LKw5iH2sc5XW5vZ+V8erIn6BYaV4WovjFK9LrLa5IcaqjBnruenrrOM1xqD+Ulze++b11XyNXqeiab91b5uD2jwZ+1SdS+X7fjb5q+yTmo+UvGVaxlPmZd+edj7a977YJpHrZJ+LPi5laud8+/05ZS7l2HbmfPWcnIPVcUxjJMannPst8dktxy71X54T/ZTjYc2DF6+1+pHGQYytfo+8Lt/rjjKu5Tjm6+a2pY/Le9y85XeS+7Dfxi90XkyMGNxtxcBWxzIhcfHIyVYWpRQCpJzYeE+9cJUJSmS9sX/1QvGObl9aPM1RlNUuRE+2OX6s1SXvb+YoJ1p5r0wI8uOk6nvPNWlc2vFux2vvvuO8afmjjTm5Tuz4zcI6CJ9P1/asCSsunHo9G/Wn+0OuafJQa2njumPj18pdcjy1OQiU2Nba3NsPYDw5v7RH+c5Rxlj4f/HuoJ3LcdoXW/Hauc4yFxn0OhVKWeq9t3gXCNc09yp5qqe9Jns8Q9lFDowft32R18U+K7mzydFG3b1j25nze+ZgdRxDPe39h4hzaY/J2pqU9VvzYPVzZs2L63X17Db7K+er45mf7lnt3x3bZ+OnTFwTCF2MQZxZA2jcFybZnS+O5V6tLLv+OklZ/TuwfaWtBeuENmy1bSWIZJubPliLXZRptaMsr+eaPF5N0lLO7913nLc4X25uq0POn1gnK/Of5XUU/tu7Hqy4cKp1ZV5XtjP+/1rd1lqXmjVt1S/GJdynPuDrPGXGjJKrtDbnOWzjGxhdxzM/iNddvrpSY1ePVeu5maR4L3NnvtaM6YKdHwSRVzztXiuf1W2JfZK5W2+v6H9+z+vImTq97kDkOmv85PnQZ3UM5dxZdcvr9LHtzfldc7A6jrE9Wt972c+1tq9Bbk9x5P5Y82CPe2S3oS5THetAxLU1/lWf0j3qdfdjl42fluCsiVm3kSyVhFYd1WT4c0X9IhDyxNQBZ9cvF5S6MHrbp1FepiRr0VZtWylHzkkzR9YirsYuL2Lr8OX1XONpc+C1iWDvvuO89c2XWCe9MZTWYbvuDFZcOFU7lQdVeSzruY4P2Q5rrUvHxW+6r+OhZs6BMs5mm8sxUesERmS/SzRSfDYvvo4eq+vPzTo26xxZPS8Ndn4QRF7x2ntv9y6g5yCR973UlrrMXtZ4OiLXWWNTt3Nt7mXbrbrbPqp1d+X83jlwVsexLkcdrxX2c030dW5D265cpz4PWzG3/vlyDu04EWV0P/NTmcr5+7DLxq/sqHqYEyFtTdxKgM6MMsTCscqyFqdcCPrC62mfQXmZkrratlJOnZzaj+MYbSURux2lnmvs8RKJwNm77zhvffMl1om1fgt5HcXyO2N1pdxQTl5/HfVLuR09a11qxqgzfqs2V2LunNsS4kmZAyXOttsc54oYxOOw9S6TpZjzv8emxK4eq/pzs3oWzuocacf+oueaQOQVT7u3L5/pfQrlNTlD5P1KGveD8rBedyByoDU2dTvX5l623aq77aNad2fO732mLNbHMfbXmgOd3YZyDIyx63yGbfVz7fPlHFrlN+2zxn9NWFPr7Ty1Xf+4S6kcxH5rAeNtfd7Tr8kLdQkwPeDCwmgmPF5bntcXRk/7DCublsxatHWb24QRpbbJJFbOUWcS6ZnbvvnX50Drw959x3k7ZP0s823N/6JcR7EObf0Jaf2b62pel9v1a+Tatta6dLv43b7OykmhfeJ8V5ut9gHD6XsXKGM4xJB4pwifb94zYp6ReUu7P79kzjmp4z1Dr1Mh84Wj3Vv20ab3Sb93K8/qZdni9dpcyTG1xka20+yznA+zrW0f1boPyvlbcyCtj2NXzi+E680xyX3Q4ya2X/SnYx4k+/OiXitO0rgu7WvnqYfV/rtyhxu/NLCrne1Ilk3gROVfcWoWWJ6sYuGYdSnlx/LcUbTdnLiO9qmshVawAi2cl22r+rqcK8elmaPOJOJqjIlS9t/14ZhrynZGbTDt3Xect2ZtqpSkq8WfW7/6X/VMH4v10pjzRx0b8d76nLb+3Nnlr1kWbYnaPvT1XbmuM37neKhiU4tX5VwaX73fdZtlzuvtF/DwdbzLiLjUcoH+XhCvkzkrxld5bYpfUaaet5a/6qnXqWja76y095h3AT1n1ONUtd0TbZA5v7WMU1l/zpPNOdkPp22n1uelnmU+9H7n85troTPn6+1xijlYHUdX3upzK1y7ntvzs7aai9TO9plclJWvccfSVn0e3Gdi3Im29P1Vz/Kcdl0+546ivdo6CdfOf8HajVW1/lI5q2vytB7exs8rFkI+qgDJ5eTP+zqbQHDCYk3XKBOZD39PWBhF2+2F52y2T1G2RRy5zVYCk23zZB98/XJOmjkK7e5JIp4YY38047F1TX/S27vvOG9989Wuk6CJv/WXgHDOX2flnTkuYn1LuUb7lFie13hXbijrscfg2PgN9/mYke3U+i/b668J98l62jbP4yrOA+NTnn358LGX40rEXH52Lc/EspwcczHW2uemjDkfb3qOzPXMR/UM1epUiLwSWfce9y6gPwfqPjV9qeq1x2qRr5FtbPs+5870cbbWzqU8bT6s9snrPGVsO3N+tD4Hq+MonwPuKNumPVelfI2sR67Npp1FvOT+WPOQNc8e0bbm82pZ2npI52Rf1575zTpwx8ZYndrJNn44P1vBMrLH3HegRCwAeBTChuGcvuBkbfQesrgZGqtPY2Pj92gYX6l4FB5z34EaGz8Aj4HPde13lO6R+tMSD5zfXPM8eVDY+A3o5lWbWOK3ts/pK1+n8Zj7DvRg4wcAJ+Q3Q/ILzenHFc9qI4pHiY3fgMKLXfnzxP54JC96j7nvQA82fgBwSsrvdbmDH4fEOWDjBwAAAACDY+MHAAAAAINj4wcAAAAAg2PjBwAAAACDY+MHAAAAAINj4wcAAAAAg2PjBwAAAACDY+MHAAAAAINj4wcAAAAAg2PjBwAAAACDY+MHAAAAAINj4wcAAAAAg2PjBwAAAACDY+MHAAAAAINj4wcAAAAAg2PjBwAAAACDY+MHAAAAAIPbZeP37bffcnBwcHBwcHBwcHBwcJzpwXf8AAAAAGBwbPwAAAAAYHBs/AAAAABgcGz8AAAAAGBwbPwAAAAAYHBs/AAAAABgcGz8AAAAAGBwbPwAAAAAYHBs/AAAAABgcGz8AAAAAGBwbPwAAAAAYHBs/AAAAABgcGz8AAAAAGBwbPwAAAAAYHBs/AAAAABgcGz8AAAAAGBwbPwAAAAAYHBs/AAAAABgcGz8AAAAAGBwbPwAAAAAYHBs/CpvpuvnF9PFq5v0cZ83ry+ni4ur6bC7AOB4x+Sds89Vn1659l1O11+ljwEc76vr6fJBxtPNdHVxMV2+fpM+7nPzyr2/Pb92b3LngXfDB2bPeAllXUxXn6aPz8huG7+4wF3QieOwwE0bL3ff9mDFxLBvUJ1m4xeSUTEm7XGbPhyXIL1zS5JAmQPM4zZr9oyT8aHY+AFnKOUYNXel45jn9VHY+N0rNn4PDBu/w4QFfuuAK176NsqKAeWv3TOo7uI7fsdv1HRs/DCwvZPnGSfjQx3zUnH2LyJHbvxCLjswbwN34V5jjo1f6w7H5Ni5P2U+e4i5MozjXbyr7rk2zvhd4zw3fs8vNwY/Xnfprts3oT7EjR8wsIE2ans75qXi2BeRO8PGD4O515hj49di48fGz8LG7zD7LKa88bpe34CFl4Or6Xr3hMrGDzgrbPxMx7xU3OtLaA82fhjMvcYcG78WG78HlyvDOLLx282ZbvxuVgJm+5p43l0zH3rgyesuX9/oG780gfO1YgHabdXoCW0ev/Di4+vJ5cXr57r9UbWvLW8uS7RbrbPoS+hH+FjUKccjkO1y7T3ypQ0wqckzrj1/Lqxhv/7yGp3jZzmqe5vylrLqfNCxjkNZ/rqUk/K9qS1d5TXtNa5TctCNmneUuEyf8fpzleiTP5o8cIuxCzpzyNqcKp8r+1e3yx+9bQP2Ycfceqx6fet3JVbnHOVqy7kyHNs5INTt3wdE7omxJ+oU70RRTw6J6rb5OuLYyHcWOR5b7zQ1pT1NGXJO2jpMe+TojXy2em+hXTfuus2yNRv13eYZaK7NIr/LMQ2Hu+ezeH6+rhDrXOtXO8d1fb3x0jM2qezy/4Vmzco+N+u5XcfdazTZaeOnBZSY5C6pnLBo4qA2HSompp3g3I56AuIE1u2J57R7c/1JCpZlwtJ1xWRsL7SS3q84+ZfTpUiMvuxqsaRFsdzfljcv2HLBNP3Idcp++HuLvjT1Odq5OakcM++AIa21OmGmNe/ipT7vY7OOw7imizXZlLck7zaGNmI6lVWVn+Ig/Bh6EctaefFcHS85Bqt+KbHbG6uy3nhfZ7+qXJTGqXoI3X7stnNIx5w6oU6RO0P7xEOzq23AjtSY64jVvvVrxGWOhTlHlfmjfYfRzDmmuC7W795T3P1NDi3jrzuHaG1J17ljdXysMdzoV7yvzh9Bzt1lTlL7odgxR3vhnKzzkHub/Lhco5at6akvj09ZX+8zMNwr19Iybs05bd00/Yhrp5rDivJ51965rrk/G/FywNjEcjrb26wjWbdSjqvnyuyvbrfv+ElxEOrJ21Z3SkuYodw0CM3nw6DV10disNKCawI/TcIyqMZkVROqt9OmL8xm0awI185tasvTy2r7Uo6lF/vRjou8rq5/Yd0PHE3EWiTjdE28dr6/Kc8oS61XSNfUsZziTMafLC98rMdKHW+xPJkvPBnnMk6jOj/05Corvvccu9vlEDGnjtlmaWXcgVPQYq4nVlVi/erlFFIsNmWGd6X1OFBjMZUnY032sTuHWO9sst3yvkStd208vFCW7LudZ7fHat8c7Wnj13Vvx7xqZWu66pPzFBzyDFwZt6LuMM+yLVpft/qvzn3BapMo95Cxyf3V8kAsN59L4ybnpion1iHj4FAn2/h5+uCsER0XAyc73Z1snPJadREFWv3aIqknWJ1Qk1gcyfpY5UAqjvnatjxrHGQd8mNrXOr+6e0POpIOcJAmB3gra9BL95TxMl+7kVMWG3V4Rn5QY1nUa+cgp4wjow5Pi8u2H3VO285VVjmefDAdO3YrdVg5ZG1OHSvnBaHM+l69f8D+2pjri9WZuX634syx8ofIRxo9R+l19uUir+6jHbd1PXpbHJEv1NwraWOykmetPs9W7u0bl3be23Hpu7en/6u5ctbZVqPvajvkmuset/Rxx1rc7lu8x3wGWm2q2n7I2JTXbbTXHI/yvlSHMW69Trrxk5O3zQiANOFy8uvy23tL5bXqogxEGUrCLY8qKXX3s518z1qw4by4vm7/xmIqyH7Lj+X4ZlX/msVcsF7agGOp681KvPF8vQZFfBjJ2CpLxmnFSNQyrgJRr3pNVsbRSkxpcSlz1HykfLCZq9TxzmSOPXLs1upo+hvLWp1TR81585gU/V3tH7C/JuY6Y3Vz/fas5XCNkj867tXfB/TY7n5HqHLI2jtbXU+Ib/exfiz9W82rmTYmq+8uG/ls5xztNfms6971d+BMzZVSb1u1sXTUeUhlzuvCuNeTMaOvRVlPnKfVeAjSOKW+VNdbbSrbnv6/Go/yqMamLr9qr/x8WEeirOJonnfK+V5nv/FbgqoNPln+2oIur7UWUVO/tQiEw/qpJxG17UZC0RZ7syiUcajvaz+2xqXqn7KYZ6vJEziCut70BC/XcyTioylPL6u5T2PkB7Udol47BzllHBl1eHXesfpR285Va+XI/Hzs2K3UIXJI15w64boq5xkvQep6Ak6njbm1GMt61m9HOVb+6IgDPUfpsd2fi+p+tXGb1fXobWnp+ULQxsQap0Dv82zl3v5xqbXj0nevPZ6Lnmu622r0XZ0Huea2xq2435z/sozw7Fh7trXi/BRza7WpavshYyOuK55vTZ9WxsMUyuuZz9oJN35G4lql3RPPaf9mXx1U7ccLUa54uZiliVrq3wj4xK5Xo5epBqPaznj/smDa8qzAlsEoP24WYlL3z57XUN6hCxdYoyXPtOZl4pXrOUiJsU7s5b16Wfn8auwbiVpth6zXykFOfb/VjhSHHXFZ2s5VK+XsNnb9OaRrTp1wXVWeXkfsv9Zm4DTamOuJ1Z7121GOkaPaWG6Fupr3AT226z6utEvU245NImN8JV+W1HwhqWOykrM26943R3u9+Uwyx7PQlq3pbKuxvtR5kGsufWyOW1G3vha9eG3+i/zq/G2oxsPoT932Q8ZGxthae7eemzp7bGw7bfxcg8UghMGsBjAN1moDjQFNSUCebxd5ul8s/NiWrevyubqeWIcyea+WfvQE20KfXDUYlcCIfXHHPI5teWpZTjhfjL/82FpATf+UF695jlYTJHAgNXnGNV+fy+u0XH/xumqtNuXpZeXzMk4roawjH3pOjOX6/rYP+Vx9bz63GZdO+RfdmljWpLbWOSSNpXLuqLHrzCFdc+po/YrjW5zL/XJH22bgNNSY64jVrvVrxWr+OHy+zVH5vrU4CO1u3gf02G76aLXLOlfVo8W4/m7n6yn/oqGaext6H9Q5Sf1orhVi//fJ0d6xa8Yap4OfAV5Pfcb66noG5jUi7teei7Etyjp2Qn/8X8Q3Pl8R68XVVq8Foz9N27vHpo0xdV0k+XP1PeV+w7W3ip8039W5bftt/EJHiqMJvtTA1aC0OuHLbyfDWsBx4RSHWmcOkHz48o360ySXRxvgHYEU6EkntFmbPFG3r7cOqrY8q6z6vvbjGEDtWKn9k2Pi61sJTuAoavKMa14mVC+s6Xld+jUr4qMpzypLj9OK8ZCQcRVsPgTKNrfkdb5dalymeuS1mXqPKvbfKie6xdh5nTlkc06Dsr25fyLH+zkx5gE4FTPmNmK1f/22sTp/PlyvPJM74iC0u3kf0GNb72PbLj0nyOusGHdXVrkgX7tQc68itjeWUdWhzElvrijL9IcvVx2XzXn3yjEp7u+6Vxmn6n3QKFuzVV/4/JHPwPlebf6lMhZkfen+jnk/tj9N272uspT1k+/T3vc9+VysypBj5Q6rnBUn/R0/PDJhwW4kEgAAADxe1ibrYHEz1LtBBxs/7Kj3q20AAAB4pHba+OnfbcYaNn44mA80+dWVGHx7fPUGAAAAw9pl4xe/26f9uCtsbPxwOOVnkPmKCwAAADbdauO3/K4bm77DsfEDAAAAgMGx8QMAAACAwbHxAwAAAIDBsfEDAAAAgMGx8QMAAACAwbHxAwAAAIDBsfEDAAAAgMGx8QMAAACAwbHxAwAAAIDBsfEDAAAAgMGx8QMAAACAwbHxAwAAAIDBsfEDAAAAgMGx8QMAAACAwbHxAwAAAIDBsfEDAAAAgMGx8QMAAACAwe2y8fv22285ODg4ODg4ODg4ODg4zvTgO34AAAAAMDg2fgAAAAAwODZ+AAAAADA4Nn4AAAAAMDg2fgAAAAAwODZ+AAAAADA4Nn4AAAAAMDg2fgAAAAAwODZ+AAAAADA4Nn4AAAAAMDg2fgAAAAAwODZ+AAAAADA4Nn4AAAAAMDg2fgAAAAAwODZ+AAAAADA4Nn4AAAAAMDg2fgAAAAAwODZ+AAAAADA4Nn4AAAAAMDg2fgAAAAAwuEe78bt5dTFdPL+e3qSPAeDcvHl9OV1cXE036eMuX11PlxcX09Wn6WMAj07IHY/mHedmunI57/J17q38+ERSrr04WV237wfvul4cR56J0e4bv/iiEgMhHK8OeWV5M10/L+49upxt9xEMBCCwZSUH5OMRxdA+Gz//0Lucrr9KHwK4E837kD92fpexsPHb3jDd6p1M+QLbUfl6FRu/fRy38dt/Ps/Drhu/sMBuNUjppe8OEuNJgyEkhPZFiwAEDnSq714ZMXpu2PgBD1F6l5HPex+bbPxOYK+NX/8GQcvNbPyOF9p5stjon9eSNp+nbefd2G3jt8+CH3vjB+BAbPzY+AEPzadXLm7vN+ZC7mDjlz7u1b9B2H+Tpzm2Hws2fl7/vG5h4zeLG7bbLM6IjR+AAhs/Nn7AA3M3m4J1bPzY+Hls/Lz+ed3Cxi/b7SVqY+NnfhVN3hcnee3n6utgsOttg2at7FSO+HwOWj0A2/KaIC/GN5QxX3u/Dxbg5FY2fnUstNfEB3NxTYi99RhtLQ+Mqr4cxyEnLefVB4u4xvxOQOrrfJ2r48Z4uVjt+8qYzZo2beWS7ZwabeUz6/PxfDsPbW4Offcfz33Ibb9NG/+n+QzoGk+glNaMnVdKcj1qsdhzTW3Z+Il71ZhQ8mJ5nfrule6R7zThWqV9RhzFXCauD9fW9a3n+9jHZbzlx7pQZmq/LD8cnfkjt7/ZDBb9qMvX56/to9KPA3N32cfFHcx3o60z9Kvpjz/q8ppnuVVfU1buQxxH7Tm51vZqPjva2c5f+kSwtKG6Lo+nKF/GSVu/3e4t+2z8QoN8I0RANIttS1oYarB5ShB4IqH4ydImuLyvDga7Xhk0PWWXwV5qAjBNZHuvaEs+546lbiMIgZGktV8nQWXtp1gqc0CdGN09r4rrjRhtLTltbkNq0+Xz/GIVxTrrMmOCr8/F60SfRPu9fF3Tj42+62NWCNfLdq4/RPrznmubyF1X+ZrVzxu5Pfe3uCfm0cvmd6Vu28Y43u04NHkb6KDHr6Cs0Zgzint6rlGo9ffGhLsj5L153WvxmXOjkvNEbEZtLM/nXDlN7pvr7sh5TfusfFJrYzveZ+bOgpYvmnN5bKsylf6o5/L4Fv04Inc3fbyz+S4pc+/aMT8bHL2cvD7qPoZrO56rb15fpWvEvKpj0NLmeLWd5Tgba7Q6l9qx+S5xxLyv2WXjlwe8HiC5kHrkSW6PPFDNInZC/Rv1yMmqy1EWZaLVJzULIUxmPUmeVqeamOQk58Uhr1UWAzCUtPbLZG6t+zK+mpiUjBhtpTwmygrlN/fHa+c4XamjNxfEeoq82tF3dcwKPfmyRz3Gdg6Ntj4vxm7W3teMyYrD2qi1wWoX0CHFYnyPaddsFbezes31XKNpXh4TWV4dIwWRR5p2+Fz0/Gq6cjG15JrYrtXcU45DqMOV4cpe+iLyYU/Oa8ajL27bsV1vf6npi6P3T2mH7FP4WMlp4v5jcvd9zvdi+zq1Xda4uFZVuVy0vVXUn661nwMLbY7tdvatUXlvuKa5N157m3lfs+vGrxn0MBg9iyLbejA7zQSLJDFLZfmBzodc/PPHdr31ddl62bGNG4vAuCaqJ928thkLYDDKGg9xpMRqmaRzTmrzQrIafyX9gaU9EGTcribr8kGx0hZZT0/fN/NCysureVa1kve26tz6vBi7RZub9Zyc3aKNTlO2+eIBHCCtvfoFT88t9ZrvuUZn5Z86p1jle6IOEQs+Vny8Vjkp9HMlr4rPh7a4e+u21m3qynnpniV/yI91bS5ZG49aXX/UnLPGQ+Qiq49NP47I3XUf1/p32/lWcu98f/6cvTa0MbDHpR5rbS5qud/xv73jp5V7SDvr+/Wx19t++3lfs+PGTxt00fhN28msuSYMSL2YwiSIesO5IsDrj+161fs2yraCvbpOafdCjFtn8gCG06xx7eFSHkUeysnSH2V8elZMNY5P1k1eKJXxv5IL6no6+96TF9I11X0rNvPeaj5ztj4vxm7R5uZQr5Wrb9NGT1xj1QUcLq3lvB6rGFQOv+56rjGE3KHknyqnrOYKGXtlLvT/n+IkxEwsz6pzEcuMMRr/P5QX2tGWN7eh7HN15Otk/rDySa3KD0HZx3XaM6A5V/arVI27HOeS0o9qTdT1a6o+3vl813KO9oecmzbXro1LPdbtPEqxL71jlmlzbLZzLl8e+X59bWl15GtvM+9rdvwdP2VxGx21rU901kx4eb3RFrkw1I+VeqvrOsu2gr26zrgmEpNuXbsaxMAAlDVuxaotJ/0iWa7GX+n4ZB2uKfNCqcwlK22R9XT1/aC8kB9aK2PRk/e2xnNzvGM75MvA3L6iz+oY7NHGoGzHoc8vYEO1TnvW1/Fr0Mo/dU5ZK1/GXvGx78dcti/D98mK4dockyEeczvivb4dMr7VeG/Efix1y491VX4I+sdbewY056ycE84v9dh9XOtHmo+NnFb3ca1/p5lvVYiDus/aGKzNfTnW1lpf5H7nMavnzaLN8aHtXOhjr9WRr73NvK/ZZ+NnNdJ4GNvkwrPkAVQGUq0zXlcujDoY2o8jcV9n2Vaw13XE+9SJlfV0Jg9gOMoa1xPlBhlDVkw1lBzjdCXrlfzXlwvah1RX3w/OC3ofZ115z+pDtvV5I/envpTn1YfsLm2Mwhi7e8JfVJ3vBXYQ1mmO3573nd53olZex3L91jlkpXwr97oyr10MLnEUy7h8fe3iqyOnpjG49mU1ce3KdmUdnu9lbPfFevveF+/ryZ1au5pz1nNGjK3ZxzBWa/3Ybm/dx3uYb0MuO5eq5XVzXGQ/1PxfKscp3bu5pvT6D2tnSZ8r/d6t9du/TjU7bfycZuBjw5YBSoNdBZm0siiFMPi+fFleWrzlgGnX1sHgKAHW3NdZtjurTlpPnVod8dx28gCGo67xlFuqmHNcPOXr5F+8apPrVmLN9ATbm6xjfqhjN96rnavryee0dq/1fSsvLH/pLGlyt6DkJDXvGfls/sttG59vxyA/oN1RPBNC3fIZsVcbvVDW5XTp6q6uAzr5tdysHWWNquvRqfJXzzWKEE8yTzgxzop7U7vqmEp5Ro0zHxtK/vJ/aVepr+XLjvFV5SjfT1+GkVdXc166Zhkj+bGueSdz/9f7DtqMo6OPbc+7m9bHdK7ox8G522n6eOfz7bnyq7LbcdbGc75OnI+5XTsn22n8Vc/0cVtfrWuOg1Rexxqt1ryzVt5t5n3Nfhs/LzTGD2Y86qBLE7i6UIoHvTyUAfXn1cAW7fADLRd/G/B5Atbv6ynbK8vKbdSum4OwOOTC6E8ewGDMNa7kChnf5eeUBK/FaOv4ZJ3JvKK1xZPX+XL0etb7vpUX2vZ0PEA6816bz0TZG5+v581/LvW1eEEI18gXFG+vNjqxHR3jAijaGIuHGpPNelTyUc81QmiDXPuOnlPSi+tm+cZ7XG6fFpeKGF9GG5Q2z/UW7auvk7lXz8WSmh/KPLLSH20cm3NhXJQ8ksarXg9yDnw5dT/adbWdo9Q+NnWddr61+tp7y2vqcY3rpTjUNaKMz3xdLNsabzUune1YKT/Xt0ZlXWt13Gbe1+y78QMA4IELLxrdLzUAADwMbPwAAMjUr8YDAPDwsfEDACDRfzQKAICHj40fAODRm3+PhE0fAGBQbPwAAAAAYHBs/AAAAABgcGz8AAAAAGBwbPwAAAAAYHBs/AAAAABgcGz8AAAAAGBwbPwAAAAAYHBs/AAAAABgcGz8AAAAAGBwbPwAAAAAYHBs/AAAAABgcGz8AAAAAGBwbPwAAAAAYHBs/AAAAABgcGz8AAAAAGBwbPwAAAAAYHBs/AAAAABgcLts/L799lsODg4ODg4ODg4ODg6OMz34jh8AAAAADI6NHwAAAAAMjo0fAAAAAAyOjR8AAAAADI6NHwAAAAAMjo0fAAAAAAyOjR8AAAAADI6NHwAAAAAMjo0fAAAAAAyOjR8AAAAADI6NHwAAAAAMjo0fAAAAAAyOjR8AAAAADI6NHwAAAAAMjo0fAAAAAAyOjR8AAAAADI6NHwAAAAAMjo0fAAAAAAyOjR8AAAAADI6NHwAAAAAMjo1f6avr6fLiYrr6NH0MAA9BT+7qzm9vpuvnF9OFu/bi+bX7CABuKeUfn1cuX5NVtty8cmP16iZ9NJKb6arrOfSANM/W8+7jLhu/sEBTQGtHf+eLFw553MULCBs/4CyEnLIS83fyUHxI+aCnrcbDqX4JSzl4yBeOW+L5gCPld6RHsXa0OFHOvXl96cbkymUhaNj4na9m7RrP1nPt40m/4xcG56ANm/3SkRPnSb9S9Ege7OMmFIwirFE2fv162mo8nKqc+khy4FGUsSGXYpuPs8vpcsAvqKjveEqcaJs8Nn7rziW3HP4ev4WN33073cbvqBeIja82f3oVNn8nG8xH8tLDywrO3Vls/B6Snty11zWYsQ6xyb+3+FwW3l/G2uj0bgrY5B2Ojd8D0jw3H+nG77jFsvVjRif+MSQ2fsBZYON3oIew8Qtlj/XyxzrEuvjOEr+rPt4LLxu/02Hj94A0z81HufGLnT78xzK3N3ZqAkmDbv0+4LJwY7vm64xymslK32lcjsvp+qv0ubU2l+WF//f3petzWem+2K98vix/ERLBfI1s57LQzLKafviDZIzzc/jGT8Z2G8fr8aOQ+WCOYVnWdgzNOSiVKWN8q211TPtD5AjZVk1zTZ2nZRv8UZZ38PhJof7D8k07bmXdIpeq60Vc4w+Zq0PZHfNajl9HLm3nTPZ9ydlzvSvPPjxAxdrywjwr63Re52lNmGvGXKsd8di7zpPV9Ztiof586mcZJ01//BHLieW3dW/2q4k9vf1z7G+9myWb8RrqXeZyppRVUuc83SPfkcO1qb3z/4uxVt+rxTWyvoPKymSZ4RD9X303tix5T4553Z76+bQo5/WwOS7NMSf6Ga9ff7Y0a7epa+njbK7HWq935yQbPyugt61MYiaDLy28ZYBTGcVExQm+dINetilP7NrkpYARizkv1nyd1d8q4OdJb9t+6dpW9jnWqbS1XHxNv5cEWwZKW1Y6tzbGwD2rYkdRr2HlAeHiYy0ntPGjkPlgjuHyPqVsxZyDmus6Y1vc18S1krsazTXKuKnlHDl+Uii7zZNrcq4t6459j78zJftS5bU8X1WuS9eVfcnXuWMpT+mzMjZ6Lk33anm3epak8Xfr4qBxxIMR417GTftyPOcH7bnfxLlc++l+sTYbveu8e/3mdpf3OkqcxPbV5bXnlLbIPKOM382rutySVq8X+jLX09lfY+60/la0+1K/6rGL+SCXE+sX18jx8Jpz7Th2l6VQ59gx18NmmUvek89sf+9yLl1XXhOk/qW82zfHrdzWdpy2ny1Nnc0aqOdyjr3mWXE/TrDxi5PSTlaPekJVYXHkxWZcLyYhTpISsHJhyckLH2v3yUWlLVC97Pqa1H65aGU7qj4vtDZsjYUX7juTBQhotpJ2tYZX4jToih+FjB01hh2j/JKZg27VtuI+Jc4bzTVK3tLKObaNUii7fUCvUccttVHmMPkwrtZISfYxfbw5r8rYqHWE+7R+yueVkbMxCO1dSHtXWMkP8nprrTq9+WxznXev39RuWacSJzI2veZcR55R61uljbc419tfo31af2ttG3yfLt2GtcqHoh2h30275By0cxKINvWVpbPnWFuvqa7VOYrjodVbrwlt7jzZ7o45VsS6RB/SuMm2ybUqP27XQKw/fGyUeZ/23/itLIhtHQuxDD6zrnrS1YUbiPrE5Nn3OSIJNItdJhOjrWqQiHaEa5QxqRdfsdAqbQBY5QHnYuvhUa/huMareCv0xY9CxKGZb+R1Cquug9oWcorv53LUbVtvQ3tNmxu0co4ePyfc68ozj408FOpo1oHSbqduj5UPPS3vd8xr59hY4+VpbVx7OcEDJt4RsrA+xJrW17nXuVadzXjsXOf969dotxInWtvkOave6rqcA432aZrxFu9m3f015lPrr1TX4ePel1PnKDmWVruq/pjroc4tXWUZZLs87dzMGqfZSm6u7rXyY7tPaPoh5lij90Gvs1oHysftGsh9jP+11td92X3j17OQbNsbv2qywuS6640jT569SNc3fqt9kYtbfNwEmhGgah1VO1Ibi37VR158VjC1C7lpG3BmtvJIu4brOFnioDd+FDKZGzHcXKfQc1Bn21L5qw+ajja01ygPueaaW4yfFMo+4HpHHzel3U71MF4dj9SnKu93zKtSprkOjfxatTH1Q28jHrqwNtz8Wkc574e9oyhr1anXlqJrnR+yfo12K3Gita0+d0CeSeU35y2r72YH9Fe+82VKfxvh3qKcNGZLW2I7et7Twvk85qFc97Fx5PK6yjJoc7x6nzVOs5W8V92r53l1zkSdVn9L6to16pTrV37croFYTpyHjjV6x3be+LWL9zDrQdiUHwZ7bYFF+gR7WnnL5Nn3Oc3iLstSFrbRVjWARDt6FrFaZ9Au5L7ygPvTJNbKep6J9y6fP3q9y2Ru5Rt5ncLKJdttM3Ki2rb1NrTXKA85pZzd8kUo+7CHoD5uSrudes1Y+dATYxra1TGvnWOzNl79bcTDpq/RKH6uXCNWfshrdS7HWquOXUbSuc77169RpxIn8j5Pnjs8z6Q4NsZjUY5hG3Pd/e0cP1Vxja9vnk//HunHTynbalc4n8fcapPQVZZBm2N13rNbb/zymhBrfybyd7A+xxq9D3rcyrUqP27XQG5DXqPFtWdg341f5yK0aRO6CIu0GkB9kqQ4SR0BKz9eWcBawOSFdKMtKGNs1MAT7WgWmcpa7O0YWUkAOBsyFktGLJXKNd4XPwrZBqvetbYmOTfITLXdNj0nxvtk29bb0F6j5E+lnKPHTwplH1aOPm563q/bufIskX0MHx/xfHC0XGqPl2yTlbPx4G28/Mo1Ej/uX4PtO8/6u1PQuc7712+6duP9xdPK1MdAq3dNXwzldmrvZna9or9Kv7x4/1YbYlmXr69de4s5yHPyOm0A02nPek+r3xn1XCj1laXLY1ddc+C7cS22ebs9xppO8yDPr82xRu2XMZ5yjciP27VRrsvUj4PX9unsuvFrBqOSOr86IcZEp0HUyo51yqBz5bxa6snX1HWnMstzSmCHhSgWeCzPSqDxLwI1gZgDXNyjBomxiJrrXPDpC60Uz5ftWZ8n4DxosTfHQpkjXLxcVfEm13xP/ChkHBox3MZrK8ScrD/Yblsch/Yhc1cbv6PHTwplH5Z39HFT2u00eS2PU/U8SX0R66drXpWx0XOp/qBv5jG15aAxxAPQ8a4j1lJcR/IeJe7ymhbrVc+VQu86716/jrYB6IyT9tx2nnnjNkhVXVr9mtR39d2su7/KdfN8bMdx6G/zl51jmc1fuHRC/c27cDpflJHXTl2/K7d4B+4tS2WMcRyf+nxsy9Z8pHkWbdb60Z7Lc6D0Z3WOW3E+ZN9j27aeLfLjds3L3J77XK+x+7Lrxm99EaUJW11kxaSKo1wMjbAw7evnCZbXqQunrSsvvuWwJ08LhiAtSjV45Jio7VDGprpPLrRMW8h5EfrjPBYioGljT1njKV7Ka+yHe3Gs5iJHxqERw3q81uYclD6ubbVNfN5/Tm3behvaa5TcYJZzxPjtQB83Laela5t8Vua6eDRrI/S5Y17VsbFzaXwWFIfRj9U5w8OT1kmbg0opntKamNd51zuKX6tyXXc8x3vXebK9fr0yL6SylfK02NTjdT3PxHvKzyv9MZjvZklff8W4+2uM8Wuk6/S8ZYx/72Zt4x34oLIayhwn7Xx0rMM0hsuPQeZDn5t6Xvw16T6rP51rIrS96Xts29azRX7crnktty9rZ3OtnNjuf9zlHOkTfBpWgAEAAEjd7yjhBbPvxRY13s3Gxxz3YeO3p96v/AAAADhs/E6Md7PxMcfd2PjtKHy14Y6+swgAAB4+Nn6nxbvZ+Jjjfmz8dhAWnP/ZXRYdAAA4ABu/0+DdbHzM8eEexcYPAAAAAB4zNn4AAAAAMDg2fgAAAAAwODZ+AAAAADA4Nn4AAAAAMDg2fgAAAAAwODZ+AAAAADA4Nn4AAAAAMDg2fgAAAAAwODZ+AAAAADA4Nn4AAAAAMDg2fgAAAAAwODZ+AAAAADA4Nn4AAAAAMDg2fgAAAAAwODZ+AAAAADA4Nn4AAAAAMDg2fgAAAAAwODZ+AAAAADA4Nn4AAAAAMDg2fgAAAAAwuF02fn/5y1/S/wEAAAAAzg0bPwAAAAAYHD/qCQAAAACDY+MHAAAAAINj4wcAAAAAg2PjBwAAAACDY+MHAAAAAINj4wcAAAAAg2PjBwAAAACDY+MHAAAAAINj4wcAAAAAg2PjBwAAAABDm6b/Hz+wr+UKkVAtAAAAAElFTkSuQmCC)"
      ],
      "metadata": {
        "id": "Il91ptWJZ_TH"
      }
    },
    {
      "cell_type": "markdown",
      "source": [
        "# 🧠 Memory Tip – Think Like a Chef 🍳\n",
        "\n",
        "\n",
        "---\n",
        "\n",
        "\n",
        "\n",
        "## MLDLC is like preparing your favorite meal:\n",
        "\n",
        "====> Know what you want to cook (Problem)\n",
        "\n",
        "====>Gather ingredients (Data)\n",
        "\n",
        "====>Wash and prep (Clean)\n",
        "\n",
        "====>Choose the best spices (Features)\n",
        "\n",
        "====>Cook the dish (Train model)\n",
        "\n",
        "====>Taste test (Evaluate)\n",
        "\n",
        "====>Serve + get feedback (Deploy + Monitor)"
      ],
      "metadata": {
        "id": "VOch__-KZ_dw"
      }
    },
    {
      "cell_type": "markdown",
      "source": [
        "# 📌 Bonus: Use MLDLC for Any ML Project\n",
        "\n",
        "\n",
        "---\n",
        "\n",
        "\n",
        "House Price Prediction\n",
        "\n",
        "Fraud Detection System\n",
        "\n",
        "Face Recognition App\n",
        "\n",
        "Medical Diagnosis Tool\n",
        "\n",
        "Customer Churn Predictor\n",
        "\n",
        "Every ML problem follows these same 8 t0 10 steps.\n",
        "\n",
        "Master this cycle = master ML project building ✅"
      ],
      "metadata": {
        "id": "v8RFzaVFZ_gd"
      }
    }
  ]
}