{
  "nbformat": 4,
  "nbformat_minor": 0,
  "metadata": {
    "colab": {
      "provenance": []
    },
    "kernelspec": {
      "name": "python3",
      "display_name": "Python 3"
    },
    "language_info": {
      "name": "python"
    }
  },
  "cells": [
    {
      "cell_type": "markdown",
      "source": [
        "# 📘 Machine Learning - Easy & Practical Explanation"
      ],
      "metadata": {
        "id": "4ooYTc6_jNDL"
      }
    },
    {
      "cell_type": "markdown",
      "source": [
        "Machine Learning is a type of technology where computers learn from data without being explicitly programmed.\n",
        "\n",
        "Instead of writing fixed rules for everything, we give examples (data) to the machine, and it learns patterns from those examples — just like how humans learn!"
      ],
      "metadata": {
        "id": "j9PY0bSAjWkd"
      }
    },
    {
      "cell_type": "markdown",
      "source": [
        "# 🔸 Example from Daily Life:\n",
        "\n",
        "# 💡 Learning to Recognize Fruits\n",
        "\n",
        "Let’s say you have a child, and you want them to recognize apples and bananas.\n",
        "\n",
        "You show them different apples and say: \"This is an apple.\"\n",
        "\n",
        "Then you show them bananas and say: \"This is a banana.\"\n",
        "\n",
        "Soon, the child learns the difference by observing:\n",
        "\n",
        "🍎 Apple = round, red/green\n",
        "\n",
        "🍌 Banana = long, yellow\n",
        "\n",
        "✅ The child is not memorizing fixed rules like \"if color is red and shape is round, then it’s an apple\".\n",
        "\n",
        "❌ They're learning by observing many examples.\n",
        "\n",
        "This is how machines learn too — by looking at lots of examples (data)!"
      ],
      "metadata": {
        "id": "Z69GG5lRjWhJ"
      }
    },
    {
      "cell_type": "markdown",
      "source": [
        "# 🔷 Why is Machine Learning Used?\n",
        "\n",
        "Because we cannot always manually write rules for everything.\n",
        "For example:\n",
        "\n",
        "We can’t write exact rules to recognize someone’s face.\n",
        "\n",
        "Or to detect if an email is spam or not.\n",
        "\n",
        "Or to predict if a customer will buy a product.\n",
        "\n",
        "So we feed the machine lots of data, and it learns patterns on its own"
      ],
      "metadata": {
        "id": "txSqjhU-jWYB"
      }
    },
    {
      "cell_type": "markdown",
      "source": [
        "# 🔷 Types of Machine Learning (with Daily Examples)\n",
        "\n",
        "1. Supervised Learning (Teacher is there 🎓)\n",
        "\n",
        "👉 We give both: inputs + correct answers (data with labels)\n",
        "\n",
        "🔍 Example:\n",
        "\n",
        "You show 1000 photos of cats and dogs, with the correct label (cat/dog).\n",
        "\n",
        "Machine learns from it and then can identify if a new photo is a cat or dog.\n",
        "\n",
        "Like a teacher correcting your answers while you learn.\n"
      ],
      "metadata": {
        "id": "L_tRQD6rjWJm"
      }
    },
    {
      "cell_type": "markdown",
      "source": [
        "# 2. Unsupervised Learning (No teacher 🤖)\n",
        "\n",
        "👉 Machine only gets data — no correct answers are given. It finds patterns itself.\n",
        "\n",
        "🔍 Example:\n",
        "\n",
        "A shop owner gives customer data (age, purchase amount).\n",
        "\n",
        "The machine groups customers into categories like:\n",
        "\n",
        "Students, working adults, retired people.\n",
        "\n",
        "This is clustering — grouping similar things.\n",
        "\n",
        "Like organizing clothes by color even if no one told you how."
      ],
      "metadata": {
        "id": "OBmZAcr6jWAy"
      }
    },
    {
      "cell_type": "markdown",
      "source": [
        "# 3. Reinforcement Learning (Learning by Trial & Error 🎮)\n",
        "\n",
        "👉 Machine learns by trying actions and getting rewards or punishments.\n",
        "\n",
        "🔍 Example:\n",
        "\n",
        "Like training a dog to sit:\n",
        "\n",
        "If dog sits = give a treat 🎁 (reward)\n",
        "\n",
        "If dog doesn’t sit = no treat 🚫\n",
        "\n",
        "Over time, the dog learns what behavior gives a reward.\n",
        "\n",
        "Computers use this in games, self-driving cars, robots, etc."
      ],
      "metadata": {
        "id": "zURTO67njV0C"
      }
    },
    {
      "cell_type": "markdown",
      "source": [
        "# 🔷 Real-Life Use Cases You See Daily\n",
        "\n"
      ],
      "metadata": {
        "id": "KuK9MJ60kqVo"
      }
    },
    {
      "cell_type": "markdown",
      "source": [
        "![machine learning.png](data:image/png;base64,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)"
      ],
      "metadata": {
        "id": "V2-NfRI0kqLw"
      }
    },
    {
      "cell_type": "markdown",
      "source": [
        "# 🧠 Memory Hack Summary\n",
        "\n",
        "Machine Learning = Machine + Learning from Data\n",
        "\n",
        "It learns patterns from examples, just like humans do.\n",
        "\n",
        "Types:\n",
        "\n",
        "🧑‍🏫 Supervised = Learning with teacher (input + correct answers)\n",
        "\n",
        "🧩 Unsupervised = Finds patterns on its own (no correct answers)\n",
        "\n",
        "🎮 Reinforcement = Learns from rewards/punishments\n",
        "\n",
        "ML is everywhere: in phones, emails, shopping, and even traffic apps!"
      ],
      "metadata": {
        "id": "IaB1Oh9EkpRi"
      }
    },
    {
      "cell_type": "markdown",
      "source": [],
      "metadata": {
        "id": "t3H0prddnCFi"
      }
    },
    {
      "cell_type": "markdown",
      "source": [
        "# 📌 Final Tip:\n",
        "\n",
        "Next time you:\n",
        "\n",
        "Get a song suggestion,\n",
        "\n",
        "See your face unlock the phone, or\n",
        "\n",
        "Wonder how YouTube recommends videos…\n",
        "\n",
        "👉 Remember: That’s Machine Learning in action! 😊"
      ],
      "metadata": {
        "id": "RkQXr5eNmEI5"
      }
    }
  ]
}