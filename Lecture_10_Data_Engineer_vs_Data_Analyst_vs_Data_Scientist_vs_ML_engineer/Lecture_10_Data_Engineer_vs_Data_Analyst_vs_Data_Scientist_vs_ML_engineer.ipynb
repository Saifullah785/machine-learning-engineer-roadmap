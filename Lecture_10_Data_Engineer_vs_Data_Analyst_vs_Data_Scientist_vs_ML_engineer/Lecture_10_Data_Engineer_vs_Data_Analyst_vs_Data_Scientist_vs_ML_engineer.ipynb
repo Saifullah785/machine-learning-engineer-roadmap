{
  "nbformat": 4,
  "nbformat_minor": 0,
  "metadata": {
    "colab": {
      "provenance": []
    },
    "kernelspec": {
      "name": "python3",
      "display_name": "Python 3"
    },
    "language_info": {
      "name": "python"
    }
  },
  "cells": [
    {
      "cell_type": "markdown",
      "source": [
        "# 📘 Data Engineer vs Data Analyst vs Data Scientist vs ML Engineer"
      ],
      "metadata": {
        "id": "k4MrTmPlD0UZ"
      }
    },
    {
      "cell_type": "markdown",
      "source": [
        "# 🎯 Why Learn This?\n",
        "\n",
        "\n",
        "---\n",
        "\n",
        "\n",
        "In data science, many roles sound similar — but each has specific responsibilities.\n",
        "\n",
        "## Understanding them helps you:\n",
        "\n",
        "\n",
        "Choose the right career path 🔍\n",
        "\n",
        "\n",
        "Know how teams work together 🧠\n",
        "\n",
        "\n",
        "Avoid confusion in interviews 💼\n",
        "\n"
      ],
      "metadata": {
        "id": "h3L5rtVoDz6q"
      }
    },
    {
      "cell_type": "markdown",
      "source": [
        "# 🧠 Simple Real-Life Analogy:\n",
        "## Restaurant Kitchen\n",
        "\n",
        "\n",
        "---\n",
        "\n",
        "\n",
        "\n",
        "### Think of a data project like running a big kitchen (restaurant):\n",
        "\n",
        " Data Engineer = The person who brings and stores the ingredients properly\n",
        "\n",
        "\n",
        "Data Analyst = The one who checks what's being cooked, what people like/dislike\n",
        "\n",
        "\n",
        "Data Scientist = The chef who experiments and creates new dishes\n",
        "\n",
        "\n",
        "ML Engineer = The automation expert who builds a robot chef to cook automatically"
      ],
      "metadata": {
        "id": "Kxo4nJa-Dz4A"
      }
    },
    {
      "cell_type": "markdown",
      "source": [
        "# 🔶 1. Data Engineer – The Data Pipeline Builder\n",
        "\n",
        "\n",
        "---\n",
        "\n",
        "\n",
        "## 📌 What They Do:\n",
        "\n",
        "Collect raw data from multiple sources\n",
        "\n",
        "Clean, store, and prepare data pipelines\n",
        "\n",
        "Build data infrastructure (e.g., databases, data warehouses, cloud)\n",
        "\n",
        "## 🛠️ Tools Used:\n",
        "\n",
        "SQL, Python, Spark, Kafka, AWS, Airflow\n",
        "\n",
        "# 🧠 Daily Life Example:\n",
        "\n",
        "Like setting up a clean water system — filtering raw river water and piping it to every house. Without this, others can’t drink (work)."
      ],
      "metadata": {
        "id": "xOu6r1OWDz1h"
      }
    },
    {
      "cell_type": "markdown",
      "source": [
        "# 🔶 2. Data Analyst – The Data Story Teller\n",
        "\n",
        "## 📌 What They Do:\n",
        "\n",
        "Analyze past data to find trends and insights\n",
        "\n",
        "Create dashboards and reports for business teams\n",
        "\n",
        "Help in making decisions using historical data\n",
        "\n",
        "## 🛠️ Tools Used:\n",
        "\n",
        "Excel, SQL, Power BI, Tableau, Python (pandas)\n",
        "\n",
        "## 🧠 Daily Life Example:\n",
        "\n",
        "Like checking your electricity bill history to decide how to save money next month. They look back to help move forward."
      ],
      "metadata": {
        "id": "a6qSDeHuDzmQ"
      }
    },
    {
      "cell_type": "markdown",
      "source": [
        "# 🔶 3. Data Scientist – The Smart Problem Solver\n",
        "\n",
        "\n",
        "---\n",
        "\n",
        "\n",
        "\n",
        "## 📌 What They Do:\n",
        "\n",
        "Use stats & ML to solve complex business problems\n",
        "\n",
        "Build models to predict future outcomes\n",
        "\n",
        "Experiment with data to discover patterns\n",
        "\n",
        "## 🛠️ Tools Used:\n",
        "\n",
        "Python, R, Scikit-learn, TensorFlow, Jupyter, ML algorithms\n",
        "\n",
        "## 🧠 Daily Life Example:\n",
        "\n",
        "Like a chef who uses feedback + ingredients to create a new menu item people will love.\n",
        "\n",
        "E.g., Predicting what dish will sell best on a rainy day 🌧️"
      ],
      "metadata": {
        "id": "2BoxtED8DzjV"
      }
    },
    {
      "cell_type": "markdown",
      "source": [
        "# 🔶 4. ML Engineer – The Automation Master\n",
        "\n",
        "\n",
        "---\n",
        "\n",
        "\n",
        "\n",
        "## 📌 What They Do:\n",
        "\n",
        "Deploy ML models into production\n",
        "\n",
        "Optimize models for performance\n",
        "\n",
        "Maintain, monitor, and retrain models regularly\n",
        "\n",
        "## 🛠️ Tools Used:\n",
        "\n",
        "Python, TensorFlow, Docker, Flask, MLflow, Kubernetes, APIs\n",
        "\n",
        "## 🧠 Daily Life Example:\n",
        "\n",
        "Like installing a robot chef in the kitchen that can cook automatically based on orders — but must be regularly maintained."
      ],
      "metadata": {
        "id": "fkDeoKjEDzgN"
      }
    },
    {
      "cell_type": "markdown",
      "source": [
        "# 🧱 Summary Comparison Table"
      ],
      "metadata": {
        "id": "BekxaqKkDzdG"
      }
    },
    {
      "cell_type": "markdown",
      "source": [
        "![DE vs DA vs DS vs ME.png](data:image/png;base64,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)"
      ],
      "metadata": {
        "id": "ue2CdNi6DzYw"
      }
    },
    {
      "cell_type": "markdown",
      "source": [
        "# 🧠 Memory Tip – Think Like a Restaurant Manager 🍽️\n",
        "\n",
        "\n",
        "\n",
        "---\n",
        "\n"
      ],
      "metadata": {
        "id": "5BrIIzN3ItdC"
      }
    },
    {
      "cell_type": "markdown",
      "source": [
        "========>**Job Role**         |     In Restaurant\n",
        "\n",
        "========>**Data Engineer**    | Sets up water, electricity, storage\n",
        "\n",
        "========>**Data Analyst**     | Reads customer feedback & trends\n",
        "\n",
        "========>**Data Scientist**   | Invents new dishes to attract customers\n",
        "\n",
        "========>**ML Engineer**      | Builds and maintains robot chefs"
      ],
      "metadata": {
        "id": "a_IEFOyHJtvB"
      }
    }
  ]
}