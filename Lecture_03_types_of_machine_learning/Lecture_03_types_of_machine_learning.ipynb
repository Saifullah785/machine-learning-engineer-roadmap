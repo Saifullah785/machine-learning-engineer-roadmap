{
  "nbformat": 4,
  "nbformat_minor": 0,
  "metadata": {
    "colab": {
      "provenance": []
    },
    "kernelspec": {
      "name": "python3",
      "display_name": "Python 3"
    },
    "language_info": {
      "name": "python"
    }
  },
  "cells": [
    {
      "cell_type": "markdown",
      "source": [
        "# 📘 Types of Machine Learning – Easy & Practical Guide\n",
        "\n"
      ],
      "metadata": {
        "id": "DE_Xt4HYmdYx"
      }
    },
    {
      "cell_type": "markdown",
      "source": [
        "# ✅ Overview\n",
        "\n",
        "There are 3 main types of machine learning:\n",
        "\n",
        "\n",
        "Supervised Learning 👨‍🏫\n",
        "\n",
        "\n",
        "Unsupervised Learning 🧩\n",
        "\n",
        "\n",
        "Reinforcement Learning 🎮\n",
        "\n",
        "\n",
        "Let’s understand each in detail with definitions, logic, examples, and real-life stories."
      ],
      "metadata": {
        "id": "eoakPM5Rmheo"
      }
    },
    {
      "cell_type": "markdown",
      "source": [
        "# 🔷 1. Supervised Learning – \"Learning with a Teacher\""
      ],
      "metadata": {
        "id": "8meInNH6mhb4"
      }
    },
    {
      "cell_type": "markdown",
      "source": [
        "# 📌 Definition:\n",
        "\n",
        "The machine learns using labeled data (data with correct answers provided).\n",
        "\n",
        "\n",
        "Think of a student learning math by practicing problems with answers in the back of the book.\n",
        "\n",
        "\n",
        "# 🧠 Logic:\n",
        "\n",
        "You give the machine inputs + correct outputs\n",
        "\n",
        "\n",
        "Machine learns the pattern\n",
        "\n",
        "\n",
        "Then, it predicts the output for new inputs"
      ],
      "metadata": {
        "id": "iCi_UbKNmhYM"
      }
    },
    {
      "cell_type": "markdown",
      "source": [
        "# 🔍 Examples:\n",
        "\n",
        "📧 Spam Detection: Email labeled \"spam\" or \"not spam\"\n",
        "\n",
        "\n",
        "🏠 House Price Prediction: Data includes house size, location, price (label)\n",
        "\n",
        "\n",
        "🐶 Cat vs Dog: Images labeled as “cat” or “dog”\n",
        "\n",
        "\n",
        "🎓 Student score prediction from hours of study"
      ],
      "metadata": {
        "id": "31wW0T-smhVT"
      }
    },
    {
      "cell_type": "markdown",
      "source": [
        "# ✅ Summary:"
      ],
      "metadata": {
        "id": "Ok82Jv9CmhSK"
      }
    },
    {
      "cell_type": "markdown",
      "source": [
        "Feature        | Supervised Learning\n",
        "\n",
        "Data Type      | Labeled\n",
        "\n",
        "Learns from    | Examples with answers\n",
        "\n",
        "Real Life      | Exam with answer key"
      ],
      "metadata": {
        "id": "X_QwseuKmhO8"
      }
    },
    {
      "cell_type": "markdown",
      "source": [
        "# 🔷 2. Unsupervised Learning – \"Learning without a Teacher\""
      ],
      "metadata": {
        "id": "mw8N_3xgmhLs"
      }
    },
    {
      "cell_type": "markdown",
      "source": [
        "# 📌 Definition:\n",
        "\n",
        "Machine learns from unlabeled data – it finds patterns or groups on its own.\n",
        "\n",
        "\n",
        "Like exploring a new city without a guidebook. You discover things yourself!\n",
        "\n",
        "\n",
        "# 🧠 Logic:\n",
        "\n",
        "No answers are given\n",
        "\n",
        "\n",
        "Machine finds hidden patterns or clusters"
      ],
      "metadata": {
        "id": "K8v5KY-vmhI0"
      }
    },
    {
      "cell_type": "markdown",
      "source": [
        "# 🔍 Examples:\n",
        "\n",
        "\n",
        "🛍️ Customer Segmentation: Group customers by shopping behavior\n",
        "\n",
        "\n",
        "🎶 Song Grouping: Spotify clustering similar genres\n",
        "\n",
        "\n",
        "📊 Market Basket Analysis: Finding which products are bought together\n",
        "\n",
        "\n",
        "📂 File Sorting: Grouping files/images based on content"
      ],
      "metadata": {
        "id": "4IGoK5WdmhD6"
      }
    },
    {
      "cell_type": "markdown",
      "source": [
        "# ✅ Summary:\n",
        "\n"
      ],
      "metadata": {
        "id": "t904tBR8mhA7"
      }
    },
    {
      "cell_type": "markdown",
      "source": [
        "Feature               | Unsupervised Learning\n",
        "\n",
        "Data Type             | Unlabeled\n",
        "\n",
        "\n",
        "Learns from           | Hidden patterns\n",
        "\n",
        "\n",
        "Real Life             | Exploring with no teacher"
      ],
      "metadata": {
        "id": "QTM06Grbmg6c"
      }
    },
    {
      "cell_type": "markdown",
      "source": [
        "# 🔷 3. Reinforcement Learning – \"Learning by Trial and Error\"\n",
        "\n"
      ],
      "metadata": {
        "id": "Jf-d9muDpOb4"
      }
    },
    {
      "cell_type": "markdown",
      "source": [
        "# 📌 Definition:\n",
        "\n",
        "\n",
        "Machine learns by doing actions and getting rewards or punishments.\n",
        "\n",
        "\n",
        "Like training a dog — if it does right, you give a treat. Wrong? No treat."
      ],
      "metadata": {
        "id": "3QQAYAgKpUUw"
      }
    },
    {
      "cell_type": "markdown",
      "source": [
        "# 🧠 Logic:\n",
        "\n",
        "\n",
        "Agent (robot/software) interacts with environment\n",
        "\n",
        "\n",
        "Makes decisions → gets reward or penalty\n",
        "\n",
        "\n",
        "Learns to maximize total reward"
      ],
      "metadata": {
        "id": "SoHe4_d-pl-A"
      }
    },
    {
      "cell_type": "markdown",
      "source": [
        "# 🔍 Examples:\n",
        "\n",
        "\n",
        "🎮 Playing Games: Machine learns chess, Go, or video games\n",
        "\n",
        "\n",
        "🚗 Self-driving Cars: Learn when to stop, turn, speed up\n",
        "\n",
        "\n",
        "📦 Warehouse Robots: Learn best path to move boxes\n",
        "\n",
        "\n",
        "📈 Stock Trading Bots: Learn when to buy/sell to earn profit"
      ],
      "metadata": {
        "id": "hn6jVruPpymH"
      }
    },
    {
      "cell_type": "markdown",
      "source": [
        "# ✅ Summary:"
      ],
      "metadata": {
        "id": "xaYN02m1p6EA"
      }
    },
    {
      "cell_type": "markdown",
      "source": [
        "Feature       | Reinforcement Learning\n",
        "\n",
        "\n",
        "Data Type     | Feedback (Reward/Penalty)\n",
        "\n",
        "\n",
        "Learns from   | Trial and error\n",
        "\n",
        "\n",
        "Real Life     | Dog training, gaming, driving"
      ],
      "metadata": {
        "id": "1HwKByzZp9R_"
      }
    },
    {
      "cell_type": "markdown",
      "source": [
        "# 🧱 Final Analogy Table – Never Forget This\n",
        "\n"
      ],
      "metadata": {
        "id": "IqKOZQtAqKbS"
      }
    },
    {
      "cell_type": "markdown",
      "source": [
        "![final analogy table ml_dl_ai.png](data:image/png;base64,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)"
      ],
      "metadata": {
        "id": "V1N3mNNaqUUP"
      }
    },
    {
      "cell_type": "markdown",
      "source": [
        "# 🎓 Final Memory Trick\n",
        "\n",
        "Supervised = Learn with answers\n",
        "\n",
        "\n",
        "Unsupervised = Learn patterns without\n",
        "answers\n",
        "\n",
        "\n",
        "Reinforcement = Learn by doing and getting rewards"
      ],
      "metadata": {
        "id": "wTR0-nInq1cH"
      }
    }
  ]
}