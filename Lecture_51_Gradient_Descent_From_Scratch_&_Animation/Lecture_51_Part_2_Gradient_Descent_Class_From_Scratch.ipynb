{
  "nbformat": 4,
  "nbformat_minor": 0,
  "metadata": {
    "colab": {
      "provenance": [],
      "authorship_tag": "ABX9TyM/Hd337Zln7YsxSZT0iNVn",
      "include_colab_link": true
    },
    "kernelspec": {
      "name": "python3",
      "display_name": "Python 3"
    },
    "language_info": {
      "name": "python"
    }
  },
  "cells": [
    {
      "cell_type": "markdown",
      "metadata": {
        "id": "view-in-github",
        "colab_type": "text"
      },
      "source": [
        "<a href=\"https://colab.research.google.com/github/Saifullah785/machine-learning-engineer-roadmap/blob/main/Lecture_51_Gradient_Descent_From_Scratch_%26_Animation/Lecture_51_Part_2_Gradient_Descent_Class_From_Scratch.ipynb\" target=\"_parent\"><img src=\"https://colab.research.google.com/assets/colab-badge.svg\" alt=\"Open In Colab\"/></a>"
      ]
    },
    {
      "cell_type": "markdown",
      "source": [
        "# **Lecture_51_Gradient_Descent_Class_From_Scratch**"
      ],
      "metadata": {
        "id": "2E4k-n9bDWJe"
      }
    },
    {
      "cell_type": "code",
      "execution_count": 34,
      "metadata": {
        "id": "RfbmalwnDAAs"
      },
      "outputs": [],
      "source": [
        "from sklearn.datasets import make_regression\n",
        "import matplotlib.pyplot as plt\n",
        "import numpy as np\n",
        "from matplotlib import animation # Import the animation module\n",
        "from IPython.display import HTML # Import HTML to display the animation"
      ]
    },
    {
      "cell_type": "code",
      "source": [
        "x,y = make_regression(n_samples=100,n_features=1,n_informative=1,n_targets=1, noise=20)"
      ],
      "metadata": {
        "id": "KeLOZfbMDoDL"
      },
      "execution_count": 2,
      "outputs": []
    },
    {
      "cell_type": "code",
      "source": [
        "plt.scatter(x,y)"
      ],
      "metadata": {
        "colab": {
          "base_uri": "https://localhost:8080/",
          "height": 448
        },
        "id": "FA4BQXetD0r8",
        "outputId": "1cee015b-06fc-4805-d1c4-9ae493284325"
      },
      "execution_count": 3,
      "outputs": [
        {
          "output_type": "execute_result",
          "data": {
            "text/plain": [
              "<matplotlib.collections.PathCollection at 0x7957ac3cea90>"
            ]
          },
          "metadata": {},
          "execution_count": 3
        },
        {
          "output_type": "display_data",
          "data": {
            "text/plain": [
              "<Figure size 640x480 with 1 Axes>"
            ],
            "image/png": "[encoded data removed]"
          },
          "metadata": {}
        }
      ]
    },
    {
      "cell_type": "code",
      "source": [
        "from sklearn.linear_model import LinearRegression"
      ],
      "metadata": {
        "id": "uPC0wzQXD6vl"
      },
      "execution_count": 6,
      "outputs": []
    },
    {
      "cell_type": "code",
      "source": [
        "lr = LinearRegression()"
      ],
      "metadata": {
        "id": "esr-qICkFH2M"
      },
      "execution_count": 7,
      "outputs": []
    },
    {
      "cell_type": "code",
      "source": [
        "lr.fit(x,y)\n",
        "print (lr.coef_)\n",
        "print (lr.intercept_)"
      ],
      "metadata": {
        "colab": {
          "base_uri": "https://localhost:8080/"
        },
        "id": "8gv4OzIAFJeb",
        "outputId": "9a7c54c3-a16d-4190-de08-c0da61ee9181"
      },
      "execution_count": 8,
      "outputs": [
        {
          "output_type": "stream",
          "name": "stdout",
          "text": [
            "[54.7280688]\n",
            "-3.244888642209017\n"
          ]
        }
      ]
    },
    {
      "cell_type": "code",
      "source": [
        "m = 29.19"
      ],
      "metadata": {
        "id": "n-ImUKVvFV9O"
      },
      "execution_count": 9,
      "outputs": []
    },
    {
      "cell_type": "code",
      "source": [
        "class GDRegressor:\n",
        "  def __init__(self,learning_rate,epochs):\n",
        "    self.m = 29.19\n",
        "    self.b = -120\n",
        "    self.lr = learning_rate\n",
        "    self.epochs = epochs\n",
        "\n",
        "  def fit(self,x,y):\n",
        "    # calculate the b using GD\n",
        "    for i in range(self.epochs):\n",
        "      loss_slope = -2 * np.sum(y - self.m*x.ravel() -self.b)\n",
        "      self.b = self.b - (self.lr * loss_slope)\n",
        "      print(loss_slope,self.b)\n",
        "    print(self.b)\n",
        ""
      ],
      "metadata": {
        "id": "G5nlfWroHO8_"
      },
      "execution_count": 24,
      "outputs": []
    },
    {
      "cell_type": "code",
      "source": [
        "gd = GDRegressor(0.001,100)"
      ],
      "metadata": {
        "id": "zoyw_vc_HP3c"
      },
      "execution_count": 31,
      "outputs": []
    },
    {
      "cell_type": "code",
      "source": [
        "gd.fit(x,y)"
      ],
      "metadata": {
        "colab": {
          "base_uri": "https://localhost:8080/"
        },
        "id": "fTr_0CU-HYXu",
        "outputId": "87a81e46-aa3d-4cec-9285-356511e63bab"
      },
      "execution_count": 32,
      "outputs": [
        {
          "output_type": "stream",
          "name": "stdout",
          "text": [
            "-22840.95601000035 -97.15904398999965\n",
            "-18272.764808000276 -78.88627918199937\n",
            "-14618.211846400223 -64.26806733559914\n",
            "-11694.569477120176 -52.573497858478966\n",
            "-9355.65558169614 -43.217842276782825\n",
            "-7484.524465356914 -35.73331781142591\n",
            "-5987.619572285531 -29.74569823914038\n",
            "-4790.095657828425 -24.955602581311958\n",
            "-3832.0765262627406 -21.12352605504922\n",
            "-3065.6612210101916 -18.057864834039027\n",
            "-2452.5289768081543 -15.605335857230873\n",
            "-1962.0231814465233 -13.64331267578435\n",
            "-1569.6185451572185 -12.07369413062713\n",
            "-1255.6948361257748 -10.817999294501355\n",
            "-1004.55586890062 -9.813443425600735\n",
            "-803.6446951204958 -9.009798730480238\n",
            "-642.9157560963965 -8.366882974383842\n",
            "-514.3326048771173 -7.852550369506725\n",
            "-411.46608390169365 -7.441084285605031\n",
            "-329.17286712135467 -7.111911418483676\n",
            "-263.33829369708394 -6.848573124786593\n",
            "-210.67063495766715 -6.637902489828925\n",
            "-168.5365079661338 -6.469365981862792\n",
            "-134.82920637290735 -6.334536775489885\n",
            "-107.86336509832569 -6.226673410391559\n",
            "-86.29069207866036 -6.140382718312899\n",
            "-69.03255366292854 -6.07135016464997\n",
            "-55.22604293034276 -6.016124121719627\n",
            "-44.18083434427426 -5.971943287375352\n",
            "-35.34466747541937 -5.936598619899933\n",
            "-28.27573398033546 -5.908322885919597\n",
            "-22.620587184267876 -5.885702298735329\n",
            "-18.096469747414588 -5.867605828987915\n",
            "-14.477175797931565 -5.853128653189984\n",
            "-11.581740638345579 -5.841546912551638\n",
            "-9.265392510676222 -5.8322815200409615\n",
            "-7.412314008541145 -5.82486920603242\n",
            "-5.929851206832538 -5.818939354825588\n",
            "-4.743880965466175 -5.814195473860122\n",
            "-3.795104772373051 -5.810400369087748\n",
            "-3.0360838178982448 -5.80736428526985\n",
            "-2.4288670543185447 -5.804935418215532\n",
            "-1.9430936434551853 -5.8029923245720765\n",
            "-1.5544749147638157 -5.8014378496573125\n",
            "-1.2435799318111123 -5.800194269725502\n",
            "-0.9948639454491541 -5.799199405780053\n",
            "-0.7958911563589766 -5.798403514623694\n",
            "-0.6367129250874228 -5.797766801698607\n",
            "-0.5093703400702481 -5.797257431358537\n",
            "-0.4074962720563775 -5.796849935086481\n",
            "-0.3259970176451219 -5.796523938068836\n",
            "-0.2607976141162567 -5.79626314045472\n",
            "-0.2086380912925705 -5.796054502363427\n",
            "-0.16691047303382334 -5.795887591890393\n",
            "-0.13352837842700183 -5.795754063511966\n",
            "-0.10682270274168104 -5.795647240809224\n",
            "-0.0854581621935182 -5.79556178264703\n",
            "-0.06836652975441382 -5.795493416117275\n",
            "-0.05469322380368169 -5.795438722893472\n",
            "-0.043754579043209674 -5.795394968314429\n",
            "-0.03500366323412152 -5.795359964651195\n",
            "-0.028002930587817332 -5.795331961720607\n",
            "-0.022402344470137336 -5.795309559376137\n",
            "-0.01792187557596492 -5.795291637500561\n",
            "-0.014337500461024888 -5.795277300000101\n",
            "-0.011470000369044442 -5.795265829999732\n",
            "-0.009176000295255449 -5.795256653999436\n",
            "-0.0073408002363635205 -5.7952493131992\n",
            "-0.005872640188655964 -5.795243440559012\n",
            "-0.004698112151103828 -5.795238742446861\n",
            "-0.0037584897210365398 -5.7952349839571395\n",
            "-0.003006791776485329 -5.795231977165363\n",
            "-0.0024054334217566975 -5.795229571731942\n",
            "-0.0019243467369989276 -5.795227647385205\n",
            "-0.001539477389414401 -5.795226107907816\n",
            "-0.001231581911852686 -5.7952248763259036\n",
            "-0.0009852655293087764 -5.795223891060374\n",
            "-0.0007882124235010224 -5.795223102847951\n",
            "-0.0006305699388065023 -5.795222472278012\n",
            "-0.0005044559514004732 -5.7952219678220604\n",
            "-0.00040356476065994684 -5.7952215642573\n",
            "-0.0003228518088889132 -5.795221241405491\n",
            "-0.00025828144731576685 -5.795220983124044\n",
            "-0.00020662515744618304 -5.795220776498886\n",
            "-0.000165300125999579 -5.7952206111987605\n",
            "-0.00013224010051260393 -5.79522047895866\n",
            "-0.00010579208083072444 -5.795220373166579\n",
            "-8.463366445710108e-05 -5.7952202885329145\n",
            "-6.770693185842447e-05 -5.795220220825983\n",
            "-5.4165545279261096e-05 -5.795220166660438\n",
            "-4.333243636267525e-05 -5.795220123328002\n",
            "-3.4665948888346065e-05 -5.795220088662052\n",
            "-2.7732759022569553e-05 -5.795220060929293\n",
            "-2.2186207488061882e-05 -5.795220038743086\n",
            "-1.774896570339024e-05 -5.79522002099412\n",
            "-1.4199172809981064e-05 -5.795220006794947\n",
            "-1.1359338458305501e-05 -5.795219995435609\n",
            "-9.087470729696179e-06 -5.795219986348139\n",
            "-7.26997612332525e-06 -5.795219979078163\n",
            "-5.81598114024473e-06 -5.795219973262181\n",
            "-5.795219973262181\n"
          ]
        }
      ]
    }
  ]
}