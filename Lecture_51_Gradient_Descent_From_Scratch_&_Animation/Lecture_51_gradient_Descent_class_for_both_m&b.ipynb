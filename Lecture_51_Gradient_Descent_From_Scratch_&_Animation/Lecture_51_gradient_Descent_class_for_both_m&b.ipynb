{
  "nbformat": 4,
  "nbformat_minor": 0,
  "metadata": {
    "colab": {
      "provenance": [],
      "authorship_tag": "ABX9TyOIYzLQOJcavAUAD79sDIcF",
      "include_colab_link": true
    },
    "kernelspec": {
      "name": "python3",
      "display_name": "Python 3"
    },
    "language_info": {
      "name": "python"
    }
  },
  "cells": [
    {
      "cell_type": "markdown",
      "metadata": {
        "id": "view-in-github",
        "colab_type": "text"
      },
      "source": [
        "<a href=\"https://colab.research.google.com/github/Saifullah785/machine-learning-engineer-roadmap/blob/main/Lecture_51_Gradient_Descent_From_Scratch_%26_Animation/Lecture_51_gradient_Descent_class_for_both_m%26b.ipynb\" target=\"_parent\"><img src=\"https://colab.research.google.com/assets/colab-badge.svg\" alt=\"Open In Colab\"/></a>"
      ]
    },
    {
      "cell_type": "code",
      "execution_count": 41,
      "metadata": {
        "id": "zZdC_MPFLxQz"
      },
      "outputs": [],
      "source": [
        "#importing libraries\n",
        "from sklearn.datasets import make_regression\n",
        "import matplotlib.pyplot as plt\n",
        "import numpy as np\n",
        "from sklearn.model_selection import cross_val_score\n"
      ]
    },
    {
      "cell_type": "code",
      "source": [
        "# Generate synthetic regression data\n",
        "\n",
        "x,y = make_regression(n_samples=100,n_features=1,n_informative=1,n_targets=1, noise=13)"
      ],
      "metadata": {
        "id": "T0dsAoTsOG3P"
      },
      "execution_count": 42,
      "outputs": []
    },
    {
      "cell_type": "code",
      "source": [
        "# Plot the generated data\n",
        "\n",
        "plt.scatter(x,y)"
      ],
      "metadata": {
        "colab": {
          "base_uri": "https://localhost:8080/",
          "height": 448
        },
        "id": "VCnlkWOZOUuO",
        "outputId": "3c7bb58c-7048-4d26-bcfe-a5e5d5ee8e42"
      },
      "execution_count": 43,
      "outputs": [
        {
          "output_type": "execute_result",
          "data": {
            "text/plain": [
              "<matplotlib.collections.PathCollection at 0x7a4699a02250>"
            ]
          },
          "metadata": {},
          "execution_count": 43
        },
        {
          "output_type": "display_data",
          "data": {
            "text/plain": [
              "<Figure size 640x480 with 1 Axes>"
            ],
            "image/png": "[encoded data removed]"
          },
          "metadata": {}
        }
      ]
    },
    {
      "cell_type": "code",
      "source": [
        "# Split the data into training and testing sets\n",
        "\n",
        "from sklearn.model_selection import train_test_split\n",
        "x_train,x_test,y_train,y_test = train_test_split(x,y,test_size=0.2,random_state=2)"
      ],
      "metadata": {
        "id": "Vzc4vgRjS33P"
      },
      "execution_count": 44,
      "outputs": []
    },
    {
      "cell_type": "code",
      "source": [
        "# Import the Linear Regression model from scikit-learn\n",
        "\n",
        "from sklearn.linear_model import LinearRegression"
      ],
      "metadata": {
        "id": "bmiltJ93OZCh"
      },
      "execution_count": 45,
      "outputs": []
    },
    {
      "cell_type": "code",
      "source": [
        "# Create an instance of the Linear Regression model\n",
        "\n",
        "lr = LinearRegression()"
      ],
      "metadata": {
        "id": "kH_aghf9OjUW"
      },
      "execution_count": 46,
      "outputs": []
    },
    {
      "cell_type": "code",
      "source": [
        "# Fit the Linear Regression model to the training data\n",
        "\n",
        "lr.fit(x_train,y_train)\n",
        "\n",
        "# Print the learned coefficients and intercept\n",
        "print(lr.coef_)\n",
        "print(lr.intercept_)"
      ],
      "metadata": {
        "colab": {
          "base_uri": "https://localhost:8080/"
        },
        "id": "UC9xY4MeOly9",
        "outputId": "373ce8fc-adbe-4afa-cdbf-a85450b22c2d"
      },
      "execution_count": 47,
      "outputs": [
        {
          "output_type": "stream",
          "name": "stdout",
          "text": [
            "[69.76940943]\n",
            "-3.103468462252244\n"
          ]
        }
      ]
    },
    {
      "cell_type": "code",
      "source": [
        "# Make predictions on the test data using the scikit-learn model\n",
        "\n",
        "y_pred = lr.predict(x_test)\n",
        "\n",
        "# Calculate the R-squared score for the scikit-learn model's predictions\n",
        "from sklearn.metrics import r2_score\n",
        "r2_score(y_test,y_pred)"
      ],
      "metadata": {
        "colab": {
          "base_uri": "https://localhost:8080/"
        },
        "id": "I-v4TR12PFCQ",
        "outputId": "a12faf0c-2af6-4f71-e308-1edd7a59273d"
      },
      "execution_count": 48,
      "outputs": [
        {
          "output_type": "execute_result",
          "data": {
            "text/plain": [
              "0.9630041478324802"
            ]
          },
          "metadata": {},
          "execution_count": 48
        }
      ]
    },
    {
      "cell_type": "code",
      "source": [
        "# Define a custom Gradient Descent Regressor class\n",
        "\n",
        "class GDRegressor:\n",
        "  def __init__(self,learning_rate,epochs):\n",
        "    self.m = 100\n",
        "    self.b = -120\n",
        "    self.lr = learning_rate\n",
        "    self.epochs = epochs\n",
        "\n",
        "  def fit(self,x,y):\n",
        "    # calculate the b using GD\n",
        "    for i in range(self.epochs):\n",
        "      loss_slope_b = -2 * np.sum(y - self.m*x.ravel() -self.b)\n",
        "      loss_slope_m = -2 * np.sum((y - self.m*x.ravel() -self.b)*x.ravel())\n",
        "      self.b = self.b - (self.lr * loss_slope_b)\n",
        "      self.m = self.m - (self.lr * loss_slope_m)\n",
        "      # print(loss_slope,self.b)\n",
        "    print(self.m,self.b)\n",
        "  def predict(self,x):\n",
        "    return self.m*x + self.b"
      ],
      "metadata": {
        "id": "-3KzLjJRPnW3"
      },
      "execution_count": 49,
      "outputs": []
    },
    {
      "cell_type": "code",
      "source": [
        "# Create an instance of the custom GDRegressor\n",
        "\n",
        "gd = GDRegressor(0.001,50)"
      ],
      "metadata": {
        "id": "aLxSp0FIP6NN"
      },
      "execution_count": 50,
      "outputs": []
    },
    {
      "cell_type": "code",
      "source": [
        "# Train the custom GDRegressor on the training data\n",
        "\n",
        "gd.fit(x_train,y_train)"
      ],
      "metadata": {
        "colab": {
          "base_uri": "https://localhost:8080/"
        },
        "id": "beGoNUpWP993",
        "outputId": "10feffca-07bc-44d3-bb1a-da6fcdcbc951"
      },
      "execution_count": 51,
      "outputs": [
        {
          "output_type": "stream",
          "name": "stdout",
          "text": [
            "69.76615317847165 -3.122408894800932\n"
          ]
        }
      ]
    },
    {
      "cell_type": "code",
      "source": [
        "# Make predictions on the test data using the custom GDRegressor\n",
        "\n",
        "y_pred = gd.predict(x_test)\n",
        "from sklearn.metrics import r2_score\n",
        "r2_score(y_test,y_pred)"
      ],
      "metadata": {
        "colab": {
          "base_uri": "https://localhost:8080/"
        },
        "id": "IKCyOOc2Rwgo",
        "outputId": "3a3655de-79c4-4d34-d58e-9c34a1e7acff"
      },
      "execution_count": 52,
      "outputs": [
        {
          "output_type": "execute_result",
          "data": {
            "text/plain": [
              "0.9630029159825577"
            ]
          },
          "metadata": {},
          "execution_count": 52
        }
      ]
    }
  ]
}